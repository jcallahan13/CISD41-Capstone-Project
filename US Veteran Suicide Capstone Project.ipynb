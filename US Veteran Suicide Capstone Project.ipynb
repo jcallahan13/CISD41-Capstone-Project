{
 "cells": [
  {
   "cell_type": "markdown",
   "id": "b0c1d306",
   "metadata": {},
   "source": [
    "# <center>US Veteran Suicides</center>\n",
    "<center>By</center>\n",
    "<br>\n",
    "<center>John Callahan</center>"
   ]
  },
  {
   "cell_type": "markdown",
   "id": "dc83197f",
   "metadata": {},
   "source": [
    "# Introduction\n",
    "I decided to do my project on veteran suicides in the Unites States from 2001-2021.  I downloaded the data set from:<br>\n",
    "*U.S. Department of Veterans Affairs<br>\n",
    "https://www.mentalhealth.va.gov/docs/data-sheets/2021/VA_State_Sheets_2001-2021_Appendix_508.xlsx<br>\n",
    "\n",
    "A few notes about the dataset:<br>\n",
    "- For the purpose of this study District of Columbia is listed as a state.  U.S. Territories Puerto Rico, U.S. Virgin Islands, American Samoa, Guam, and Northern Marianas are not included as I did not load that worksheet.<br>\n",
    "- Age-specific counts may not sum to the total counts because the small number of deaths for which age information is unavailable are included in the total counts and rates but are not included in age-specific counts or age-specific rates.<br>\n",
    "- Counts and rates are suppressed when based on fewer than 10 deaths, and when the count for only one category is lower than 10, a range is presented and the rate suppressed for the next smallest to maintain confidentiality. Rates are marked with an asterisk (*) when the rate is calculated based on fewer than 20 deaths. Rates based on small numbers of deaths are considered unreliable, and a small change in the number of deaths might result in a large change in the rate. Because suicide rates based on fewer than 20 suicide deaths are considered statistically unreliable, any comparisons of age-adjusted rates with underlying age-specific rates with less than 20 suicide deaths should be interpreted with caution.<br>\n",
    "\n",
    "\n",
    "After reviewing the datasets, I will be able to answer the following questions:<br>\n",
    "    \n",
    "    1. Which years have the highest and lowest number of veteran suicides?\n",
    "    2. Which states have the highest and lowest number of veteran suicides in 2021?\n",
    "    3. Which region has the highest mean of veteran suicides?\n",
    "    4. Are veteran suicides increasing over the years?\n",
    "    5. Are men or women more at risk for veteran suicide?\n",
    "    6. Which age groups have the highest and lowest number of veteran suicides?\n",
    "    7. Are the age groups and their suicide rates consistent over the years?\n",
    "    8. What are the highest Veteran Suicide Rates per 100k of population for the states in 2021?\n",
    "    9. Did the order of the highest and lowest states change based on the population?\n",
    "    10. What is the mean of Veteran Suicide Rates per 100k of population for each region?\n",
    "    11. Did the order of the regions change based on the population?\n",
    "    12. Are the Veteran Suicide Rates per 100k of population for the Regions changing?\n",
    "    13. Are veterans more vulnerable to suicide than the general population?\n",
    "    \n",
    "    \n",
    "     "
   ]
  },
  {
   "cell_type": "code",
   "execution_count": 2,
   "id": "4296d9ab",
   "metadata": {},
   "outputs": [
    {
     "data": {
      "text/html": [
       "        <script type=\"text/javascript\">\n",
       "        window.PlotlyConfig = {MathJaxConfig: 'local'};\n",
       "        if (window.MathJax && window.MathJax.Hub && window.MathJax.Hub.Config) {window.MathJax.Hub.Config({SVG: {font: \"STIX-Web\"}});}\n",
       "        if (typeof require !== 'undefined') {\n",
       "        require.undef(\"plotly\");\n",
       "        requirejs.config({\n",
       "            paths: {\n",
       "                'plotly': ['https://cdn.plot.ly/plotly-2.12.1.min']\n",
       "            }\n",
       "        });\n",
       "        require(['plotly'], function(Plotly) {\n",
       "            window._Plotly = Plotly;\n",
       "        });\n",
       "        }\n",
       "        </script>\n",
       "        "
      ]
     },
     "metadata": {},
     "output_type": "display_data"
    },
    {
     "data": {
      "text/html": [
       "        <script type=\"text/javascript\">\n",
       "        window.PlotlyConfig = {MathJaxConfig: 'local'};\n",
       "        if (window.MathJax && window.MathJax.Hub && window.MathJax.Hub.Config) {window.MathJax.Hub.Config({SVG: {font: \"STIX-Web\"}});}\n",
       "        if (typeof require !== 'undefined') {\n",
       "        require.undef(\"plotly\");\n",
       "        requirejs.config({\n",
       "            paths: {\n",
       "                'plotly': ['https://cdn.plot.ly/plotly-2.12.1.min']\n",
       "            }\n",
       "        });\n",
       "        require(['plotly'], function(Plotly) {\n",
       "            window._Plotly = Plotly;\n",
       "        });\n",
       "        }\n",
       "        </script>\n",
       "        "
      ]
     },
     "metadata": {},
     "output_type": "display_data"
    },
    {
     "name": "stdout",
     "output_type": "stream",
     "text": [
      "5.9.0\n"
     ]
    }
   ],
   "source": [
    "#Import Required Libraries\n",
    "\n",
    "import pandas as pd\n",
    "import numpy as np\n",
    "\n",
    "#Visualization libraries\n",
    "\n",
    "import matplotlib.pyplot as plt\n",
    "import seaborn as sns\n",
    "\n",
    "#set default seaborn style\n",
    "\n",
    "sns.set()\n",
    "\n",
    "#choropleth maps\n",
    "\n",
    "import plotly.graph_objs as go\n",
    "from plotly.offline import init_notebook_mode,plot,iplot\n",
    "\n",
    "#Setup choloreplth to show in the jupyter notebook\n",
    "\n",
    "init_notebook_mode(connected=True)\n",
    "\n",
    "#import cufflinks\n",
    "\n",
    "import cufflinks as cf\n",
    "\n",
    "# This will allow you to use cufflinks offline\n",
    "cf.go_offline()\n",
    "\n",
    "from plotly import __version__\n",
    "\n",
    "print(__version__) # requires version >= 1.9.0\n",
    "\n",
    "#Filter warnings\n",
    "\n",
    "import warnings\n",
    "warnings.filterwarnings('ignore')\n",
    "\n",
    "#Line Magic to display plots in jupyter notebook\n",
    "\n",
    "%matplotlib inline"
   ]
  },
  {
   "cell_type": "markdown",
   "id": "97faf1a5",
   "metadata": {},
   "source": [
    "# Importing Data\n",
    "Load the VA_State_Sheets_2001-2021_Appendix_508 Excel worksheet into dataframes by worksheet."
   ]
  },
  {
   "cell_type": "code",
   "execution_count": 3,
   "id": "ec48b608",
   "metadata": {},
   "outputs": [],
   "source": [
    "#Read the VA_State_Sheets_2001-2021_Appendix_508.xlsx into separate dataframes based on worksheet skipping source index and header\n",
    "\n",
    "df_state=pd.read_excel('data/VA_State_Sheets_2001-2021_Appendix_508.xlsx',sheet_name='Veteran Suicides by State',header=1)\n",
    "\n",
    "df_sex=pd.read_excel('data/VA_State_Sheets_2001-2021_Appendix_508.xlsx',sheet_name='Veteran Suicides by Sex',header=1)\n",
    "\n",
    "df_age=pd.read_excel('data/VA_State_Sheets_2001-2021_Appendix_508.xlsx',sheet_name='Suicides by Age',header=1)"
   ]
  },
  {
   "cell_type": "code",
   "execution_count": 4,
   "id": "160ccfe0",
   "metadata": {},
   "outputs": [
    {
     "data": {
      "text/html": [
       "<div>\n",
       "<style scoped>\n",
       "    .dataframe tbody tr th:only-of-type {\n",
       "        vertical-align: middle;\n",
       "    }\n",
       "\n",
       "    .dataframe tbody tr th {\n",
       "        vertical-align: top;\n",
       "    }\n",
       "\n",
       "    .dataframe thead th {\n",
       "        text-align: right;\n",
       "    }\n",
       "</style>\n",
       "<table border=\"1\" class=\"dataframe\">\n",
       "  <thead>\n",
       "    <tr style=\"text-align: right;\">\n",
       "      <th></th>\n",
       "      <th>Year\\nof\\nDeath</th>\n",
       "      <th>Geographic\\nRegion</th>\n",
       "      <th>State of Death</th>\n",
       "      <th>Veteran\\nSuicides</th>\n",
       "    </tr>\n",
       "  </thead>\n",
       "  <tbody>\n",
       "    <tr>\n",
       "      <th>0</th>\n",
       "      <td>2001</td>\n",
       "      <td>Northeastern</td>\n",
       "      <td>Connecticut</td>\n",
       "      <td>45</td>\n",
       "    </tr>\n",
       "    <tr>\n",
       "      <th>1</th>\n",
       "      <td>2001</td>\n",
       "      <td>Northeastern</td>\n",
       "      <td>Maine</td>\n",
       "      <td>38</td>\n",
       "    </tr>\n",
       "    <tr>\n",
       "      <th>2</th>\n",
       "      <td>2001</td>\n",
       "      <td>Northeastern</td>\n",
       "      <td>Massachusetts</td>\n",
       "      <td>82</td>\n",
       "    </tr>\n",
       "    <tr>\n",
       "      <th>3</th>\n",
       "      <td>2001</td>\n",
       "      <td>Northeastern</td>\n",
       "      <td>New Hampshire</td>\n",
       "      <td>27</td>\n",
       "    </tr>\n",
       "    <tr>\n",
       "      <th>4</th>\n",
       "      <td>2001</td>\n",
       "      <td>Northeastern</td>\n",
       "      <td>New Jersey</td>\n",
       "      <td>93</td>\n",
       "    </tr>\n",
       "  </tbody>\n",
       "</table>\n",
       "</div>"
      ],
      "text/plain": [
       "   Year\\nof\\nDeath Geographic\\nRegion State of Death Veteran\\nSuicides\n",
       "0             2001       Northeastern    Connecticut                45\n",
       "1             2001       Northeastern          Maine                38\n",
       "2             2001       Northeastern  Massachusetts                82\n",
       "3             2001       Northeastern  New Hampshire                27\n",
       "4             2001       Northeastern     New Jersey                93"
      ]
     },
     "execution_count": 4,
     "metadata": {},
     "output_type": "execute_result"
    }
   ],
   "source": [
    "#Use head to show the first 5 rows of the dataframe that contains'Veteran Suicides by State'\n",
    "\n",
    "df_state.head()"
   ]
  },
  {
   "cell_type": "code",
   "execution_count": 5,
   "id": "7ca02235",
   "metadata": {},
   "outputs": [
    {
     "data": {
      "text/html": [
       "<div>\n",
       "<style scoped>\n",
       "    .dataframe tbody tr th:only-of-type {\n",
       "        vertical-align: middle;\n",
       "    }\n",
       "\n",
       "    .dataframe tbody tr th {\n",
       "        vertical-align: top;\n",
       "    }\n",
       "\n",
       "    .dataframe thead th {\n",
       "        text-align: right;\n",
       "    }\n",
       "</style>\n",
       "<table border=\"1\" class=\"dataframe\">\n",
       "  <thead>\n",
       "    <tr style=\"text-align: right;\">\n",
       "      <th></th>\n",
       "      <th>Year\\nof\\nDeath</th>\n",
       "      <th>Geographic\\nRegion</th>\n",
       "      <th>State of Death</th>\n",
       "      <th>Sex</th>\n",
       "      <th>Veteran\\nSuicides</th>\n",
       "    </tr>\n",
       "  </thead>\n",
       "  <tbody>\n",
       "    <tr>\n",
       "      <th>0</th>\n",
       "      <td>2001</td>\n",
       "      <td>Northeastern</td>\n",
       "      <td>Connecticut</td>\n",
       "      <td>Male</td>\n",
       "      <td>40-50</td>\n",
       "    </tr>\n",
       "    <tr>\n",
       "      <th>1</th>\n",
       "      <td>2001</td>\n",
       "      <td>Northeastern</td>\n",
       "      <td>Connecticut</td>\n",
       "      <td>Female</td>\n",
       "      <td>&lt;10</td>\n",
       "    </tr>\n",
       "    <tr>\n",
       "      <th>2</th>\n",
       "      <td>2001</td>\n",
       "      <td>Northeastern</td>\n",
       "      <td>Connecticut</td>\n",
       "      <td>All</td>\n",
       "      <td>45</td>\n",
       "    </tr>\n",
       "    <tr>\n",
       "      <th>3</th>\n",
       "      <td>2001</td>\n",
       "      <td>Northeastern</td>\n",
       "      <td>Maine</td>\n",
       "      <td>Male</td>\n",
       "      <td>30-40</td>\n",
       "    </tr>\n",
       "    <tr>\n",
       "      <th>4</th>\n",
       "      <td>2001</td>\n",
       "      <td>Northeastern</td>\n",
       "      <td>Maine</td>\n",
       "      <td>Female</td>\n",
       "      <td>&lt;10</td>\n",
       "    </tr>\n",
       "  </tbody>\n",
       "</table>\n",
       "</div>"
      ],
      "text/plain": [
       "   Year\\nof\\nDeath Geographic\\nRegion State of Death     Sex Veteran\\nSuicides\n",
       "0             2001       Northeastern    Connecticut    Male             40-50\n",
       "1             2001       Northeastern    Connecticut  Female               <10\n",
       "2             2001       Northeastern    Connecticut     All                45\n",
       "3             2001       Northeastern          Maine    Male             30-40\n",
       "4             2001       Northeastern          Maine  Female               <10"
      ]
     },
     "execution_count": 5,
     "metadata": {},
     "output_type": "execute_result"
    }
   ],
   "source": [
    "#Use head to show the first 5 rows of the dataframe that contains 'Veteran Suicides by Sex'\n",
    "\n",
    "df_sex.head()"
   ]
  },
  {
   "cell_type": "code",
   "execution_count": 6,
   "id": "eb76c891",
   "metadata": {},
   "outputs": [
    {
     "data": {
      "text/html": [
       "<div>\n",
       "<style scoped>\n",
       "    .dataframe tbody tr th:only-of-type {\n",
       "        vertical-align: middle;\n",
       "    }\n",
       "\n",
       "    .dataframe tbody tr th {\n",
       "        vertical-align: top;\n",
       "    }\n",
       "\n",
       "    .dataframe thead th {\n",
       "        text-align: right;\n",
       "    }\n",
       "</style>\n",
       "<table border=\"1\" class=\"dataframe\">\n",
       "  <thead>\n",
       "    <tr style=\"text-align: right;\">\n",
       "      <th></th>\n",
       "      <th>Year</th>\n",
       "      <th>Geographic\\nRegion</th>\n",
       "      <th>State of Death</th>\n",
       "      <th>Age\\nGroup</th>\n",
       "      <th>Veteran\\nSuicides</th>\n",
       "      <th>Veteran\\nSuicide\\nRate\\nper\\n100,000</th>\n",
       "      <th>General\\nPopulation\\nSuicides</th>\n",
       "      <th>General\\nPopulation\\nRate per\\n100,000</th>\n",
       "    </tr>\n",
       "  </thead>\n",
       "  <tbody>\n",
       "    <tr>\n",
       "      <th>0</th>\n",
       "      <td>2001</td>\n",
       "      <td>Northeastern</td>\n",
       "      <td>All</td>\n",
       "      <td>18-34</td>\n",
       "      <td>91</td>\n",
       "      <td>27.9</td>\n",
       "      <td>1171</td>\n",
       "      <td>9.7</td>\n",
       "    </tr>\n",
       "    <tr>\n",
       "      <th>1</th>\n",
       "      <td>2001</td>\n",
       "      <td>Northeastern</td>\n",
       "      <td>All</td>\n",
       "      <td>35-54</td>\n",
       "      <td>293</td>\n",
       "      <td>21.8</td>\n",
       "      <td>1814</td>\n",
       "      <td>11</td>\n",
       "    </tr>\n",
       "    <tr>\n",
       "      <th>2</th>\n",
       "      <td>2001</td>\n",
       "      <td>Northeastern</td>\n",
       "      <td>All</td>\n",
       "      <td>55-74</td>\n",
       "      <td>217</td>\n",
       "      <td>12</td>\n",
       "      <td>796</td>\n",
       "      <td>9.2</td>\n",
       "    </tr>\n",
       "    <tr>\n",
       "      <th>3</th>\n",
       "      <td>2001</td>\n",
       "      <td>Northeastern</td>\n",
       "      <td>All</td>\n",
       "      <td>75+</td>\n",
       "      <td>159</td>\n",
       "      <td>17.2</td>\n",
       "      <td>387</td>\n",
       "      <td>10.6</td>\n",
       "    </tr>\n",
       "    <tr>\n",
       "      <th>4</th>\n",
       "      <td>2001</td>\n",
       "      <td>Northeastern</td>\n",
       "      <td>All</td>\n",
       "      <td>All</td>\n",
       "      <td>762</td>\n",
       "      <td>17.3</td>\n",
       "      <td>4168</td>\n",
       "      <td>10.2</td>\n",
       "    </tr>\n",
       "  </tbody>\n",
       "</table>\n",
       "</div>"
      ],
      "text/plain": [
       "   Year Geographic\\nRegion State of Death Age\\nGroup Veteran\\nSuicides  \\\n",
       "0  2001       Northeastern            All      18-34                91   \n",
       "1  2001       Northeastern            All      35-54               293   \n",
       "2  2001       Northeastern            All      55-74               217   \n",
       "3  2001       Northeastern            All        75+               159   \n",
       "4  2001       Northeastern            All        All               762   \n",
       "\n",
       "  Veteran\\nSuicide\\nRate\\nper\\n100,000 General\\nPopulation\\nSuicides  \\\n",
       "0                                 27.9                          1171   \n",
       "1                                 21.8                          1814   \n",
       "2                                   12                           796   \n",
       "3                                 17.2                           387   \n",
       "4                                 17.3                          4168   \n",
       "\n",
       "  General\\nPopulation\\nRate per\\n100,000  \n",
       "0                                    9.7  \n",
       "1                                     11  \n",
       "2                                    9.2  \n",
       "3                                   10.6  \n",
       "4                                   10.2  "
      ]
     },
     "execution_count": 6,
     "metadata": {},
     "output_type": "execute_result"
    }
   ],
   "source": [
    "#Use head to show the first 5 rows of the dataframe that contains 'Suicides by Age'\n",
    "\n",
    "df_age.head()"
   ]
  },
  {
   "cell_type": "markdown",
   "id": "c2d91b5f",
   "metadata": {},
   "source": [
    "Print information about the Dataframe including the number of columns, column labels, column data types, and the non-null values."
   ]
  },
  {
   "cell_type": "code",
   "execution_count": 7,
   "id": "05660dcf",
   "metadata": {},
   "outputs": [
    {
     "name": "stdout",
     "output_type": "stream",
     "text": [
      "<class 'pandas.core.frame.DataFrame'>\n",
      "RangeIndex: 1092 entries, 0 to 1091\n",
      "Data columns (total 4 columns):\n",
      " #   Column             Non-Null Count  Dtype \n",
      "---  ------             --------------  ----- \n",
      " 0   Year\n",
      "of\n",
      "Death      1092 non-null   int64 \n",
      " 1   Geographic\n",
      "Region  1092 non-null   object\n",
      " 2   State of Death     1092 non-null   object\n",
      " 3   Veteran\n",
      "Suicides   1092 non-null   object\n",
      "dtypes: int64(1), object(3)\n",
      "memory usage: 34.3+ KB\n"
     ]
    }
   ],
   "source": [
    "#use df.info to print information about a DataFrame including the index dtype and columns, non-null values and memory usage of df_state\n",
    "\n",
    "df_state.info()"
   ]
  },
  {
   "cell_type": "code",
   "execution_count": 8,
   "id": "6afa47d3",
   "metadata": {},
   "outputs": [
    {
     "name": "stdout",
     "output_type": "stream",
     "text": [
      "<class 'pandas.core.frame.DataFrame'>\n",
      "RangeIndex: 3276 entries, 0 to 3275\n",
      "Data columns (total 5 columns):\n",
      " #   Column             Non-Null Count  Dtype \n",
      "---  ------             --------------  ----- \n",
      " 0   Year\n",
      "of\n",
      "Death      3276 non-null   int64 \n",
      " 1   Geographic\n",
      "Region  3276 non-null   object\n",
      " 2   State of Death     3276 non-null   object\n",
      " 3   Sex                3276 non-null   object\n",
      " 4   Veteran\n",
      "Suicides   3276 non-null   object\n",
      "dtypes: int64(1), object(4)\n",
      "memory usage: 128.1+ KB\n"
     ]
    }
   ],
   "source": [
    "#use df.info to print information about a DataFrame including the index dtype and columns, non-null values and memory usage of df_sex\n",
    "\n",
    "df_sex.info()"
   ]
  },
  {
   "cell_type": "code",
   "execution_count": 9,
   "id": "2649fe76",
   "metadata": {},
   "outputs": [
    {
     "name": "stdout",
     "output_type": "stream",
     "text": [
      "<class 'pandas.core.frame.DataFrame'>\n",
      "RangeIndex: 5880 entries, 0 to 5879\n",
      "Data columns (total 8 columns):\n",
      " #   Column                               Non-Null Count  Dtype \n",
      "---  ------                               --------------  ----- \n",
      " 0   Year                                 5880 non-null   int64 \n",
      " 1   Geographic\n",
      "Region                    5880 non-null   object\n",
      " 2   State of Death                       5880 non-null   object\n",
      " 3   Age\n",
      "Group                            5880 non-null   object\n",
      " 4   Veteran\n",
      "Suicides                     5880 non-null   object\n",
      " 5   Veteran\n",
      "Suicide\n",
      "Rate\n",
      "per\n",
      "100,000     5880 non-null   object\n",
      " 6   General\n",
      "Population\n",
      "Suicides          5880 non-null   object\n",
      " 7   General\n",
      "Population\n",
      "Rate per\n",
      "100,000  5880 non-null   object\n",
      "dtypes: int64(1), object(7)\n",
      "memory usage: 367.6+ KB\n"
     ]
    }
   ],
   "source": [
    "#use df.info to print information about a DataFrame including the index dtype and columns, non-null values and memory usage of df_age\n",
    "\n",
    "df_age.info()"
   ]
  },
  {
   "cell_type": "markdown",
   "id": "14ec8f55",
   "metadata": {},
   "source": [
    "# Data Cleaning and Organization\n",
    "## Updating Column Names\n",
    "As you can see above in both the df.head() and df.info() functions the column names while the formatting helped the presentation within the Excel file it does not work well within the dataframe.  First, we will update those."
   ]
  },
  {
   "cell_type": "code",
   "execution_count": 10,
   "id": "55049c38",
   "metadata": {},
   "outputs": [
    {
     "data": {
      "text/html": [
       "<div>\n",
       "<style scoped>\n",
       "    .dataframe tbody tr th:only-of-type {\n",
       "        vertical-align: middle;\n",
       "    }\n",
       "\n",
       "    .dataframe tbody tr th {\n",
       "        vertical-align: top;\n",
       "    }\n",
       "\n",
       "    .dataframe thead th {\n",
       "        text-align: right;\n",
       "    }\n",
       "</style>\n",
       "<table border=\"1\" class=\"dataframe\">\n",
       "  <thead>\n",
       "    <tr style=\"text-align: right;\">\n",
       "      <th></th>\n",
       "      <th>Year of Death</th>\n",
       "      <th>Geographic Region</th>\n",
       "      <th>State of Death</th>\n",
       "      <th>Veteran Suicides</th>\n",
       "    </tr>\n",
       "  </thead>\n",
       "  <tbody>\n",
       "    <tr>\n",
       "      <th>0</th>\n",
       "      <td>2001</td>\n",
       "      <td>Northeastern</td>\n",
       "      <td>Connecticut</td>\n",
       "      <td>45</td>\n",
       "    </tr>\n",
       "    <tr>\n",
       "      <th>1</th>\n",
       "      <td>2001</td>\n",
       "      <td>Northeastern</td>\n",
       "      <td>Maine</td>\n",
       "      <td>38</td>\n",
       "    </tr>\n",
       "    <tr>\n",
       "      <th>2</th>\n",
       "      <td>2001</td>\n",
       "      <td>Northeastern</td>\n",
       "      <td>Massachusetts</td>\n",
       "      <td>82</td>\n",
       "    </tr>\n",
       "    <tr>\n",
       "      <th>3</th>\n",
       "      <td>2001</td>\n",
       "      <td>Northeastern</td>\n",
       "      <td>New Hampshire</td>\n",
       "      <td>27</td>\n",
       "    </tr>\n",
       "    <tr>\n",
       "      <th>4</th>\n",
       "      <td>2001</td>\n",
       "      <td>Northeastern</td>\n",
       "      <td>New Jersey</td>\n",
       "      <td>93</td>\n",
       "    </tr>\n",
       "  </tbody>\n",
       "</table>\n",
       "</div>"
      ],
      "text/plain": [
       "   Year of Death Geographic Region State of Death Veteran Suicides\n",
       "0           2001      Northeastern    Connecticut               45\n",
       "1           2001      Northeastern          Maine               38\n",
       "2           2001      Northeastern  Massachusetts               82\n",
       "3           2001      Northeastern  New Hampshire               27\n",
       "4           2001      Northeastern     New Jersey               93"
      ]
     },
     "execution_count": 10,
     "metadata": {},
     "output_type": "execute_result"
    }
   ],
   "source": [
    "#Rename column names in df_state dataframe to remove formatting\n",
    "\n",
    "rename_Columns= {'Year\\nof\\nDeath':'Year of Death',\n",
    "                'Geographic\\nRegion':'Geographic Region',\n",
    "                'Veteran\\nSuicides':'Veteran Suicides'}\n",
    "\n",
    "#changing column names\n",
    "\n",
    "df_state.rename(columns=rename_Columns,inplace=True)\n",
    "\n",
    "#display the dataframe using head\n",
    "\n",
    "df_state.head()"
   ]
  },
  {
   "cell_type": "code",
   "execution_count": 11,
   "id": "78e0ebd8",
   "metadata": {},
   "outputs": [
    {
     "data": {
      "text/html": [
       "<div>\n",
       "<style scoped>\n",
       "    .dataframe tbody tr th:only-of-type {\n",
       "        vertical-align: middle;\n",
       "    }\n",
       "\n",
       "    .dataframe tbody tr th {\n",
       "        vertical-align: top;\n",
       "    }\n",
       "\n",
       "    .dataframe thead th {\n",
       "        text-align: right;\n",
       "    }\n",
       "</style>\n",
       "<table border=\"1\" class=\"dataframe\">\n",
       "  <thead>\n",
       "    <tr style=\"text-align: right;\">\n",
       "      <th></th>\n",
       "      <th>Year of Death</th>\n",
       "      <th>Geographic Region</th>\n",
       "      <th>State of Death</th>\n",
       "      <th>Sex</th>\n",
       "      <th>Veteran Suicides</th>\n",
       "    </tr>\n",
       "  </thead>\n",
       "  <tbody>\n",
       "    <tr>\n",
       "      <th>0</th>\n",
       "      <td>2001</td>\n",
       "      <td>Northeastern</td>\n",
       "      <td>Connecticut</td>\n",
       "      <td>Male</td>\n",
       "      <td>40-50</td>\n",
       "    </tr>\n",
       "    <tr>\n",
       "      <th>1</th>\n",
       "      <td>2001</td>\n",
       "      <td>Northeastern</td>\n",
       "      <td>Connecticut</td>\n",
       "      <td>Female</td>\n",
       "      <td>&lt;10</td>\n",
       "    </tr>\n",
       "    <tr>\n",
       "      <th>2</th>\n",
       "      <td>2001</td>\n",
       "      <td>Northeastern</td>\n",
       "      <td>Connecticut</td>\n",
       "      <td>All</td>\n",
       "      <td>45</td>\n",
       "    </tr>\n",
       "    <tr>\n",
       "      <th>3</th>\n",
       "      <td>2001</td>\n",
       "      <td>Northeastern</td>\n",
       "      <td>Maine</td>\n",
       "      <td>Male</td>\n",
       "      <td>30-40</td>\n",
       "    </tr>\n",
       "    <tr>\n",
       "      <th>4</th>\n",
       "      <td>2001</td>\n",
       "      <td>Northeastern</td>\n",
       "      <td>Maine</td>\n",
       "      <td>Female</td>\n",
       "      <td>&lt;10</td>\n",
       "    </tr>\n",
       "  </tbody>\n",
       "</table>\n",
       "</div>"
      ],
      "text/plain": [
       "   Year of Death Geographic Region State of Death     Sex Veteran Suicides\n",
       "0           2001      Northeastern    Connecticut    Male            40-50\n",
       "1           2001      Northeastern    Connecticut  Female              <10\n",
       "2           2001      Northeastern    Connecticut     All               45\n",
       "3           2001      Northeastern          Maine    Male            30-40\n",
       "4           2001      Northeastern          Maine  Female              <10"
      ]
     },
     "execution_count": 11,
     "metadata": {},
     "output_type": "execute_result"
    }
   ],
   "source": [
    "#Rename column names in df_sex dataframe to remove formatting\n",
    "\n",
    "rename_Columns= {'Year\\nof\\nDeath':'Year of Death',\n",
    "                'Geographic\\nRegion':'Geographic Region',\n",
    "                'Veteran\\nSuicides':'Veteran Suicides'}\n",
    "\n",
    "#changing column names\n",
    "\n",
    "df_sex.rename(columns=rename_Columns,inplace=True)\n",
    "\n",
    "#display the dataframe using head\n",
    "\n",
    "df_sex.head()"
   ]
  },
  {
   "cell_type": "code",
   "execution_count": 12,
   "id": "027dd18f",
   "metadata": {},
   "outputs": [
    {
     "data": {
      "text/html": [
       "<div>\n",
       "<style scoped>\n",
       "    .dataframe tbody tr th:only-of-type {\n",
       "        vertical-align: middle;\n",
       "    }\n",
       "\n",
       "    .dataframe tbody tr th {\n",
       "        vertical-align: top;\n",
       "    }\n",
       "\n",
       "    .dataframe thead th {\n",
       "        text-align: right;\n",
       "    }\n",
       "</style>\n",
       "<table border=\"1\" class=\"dataframe\">\n",
       "  <thead>\n",
       "    <tr style=\"text-align: right;\">\n",
       "      <th></th>\n",
       "      <th>Year</th>\n",
       "      <th>Geographic Region</th>\n",
       "      <th>State of Death</th>\n",
       "      <th>Age Group</th>\n",
       "      <th>Veteran Suicides</th>\n",
       "      <th>Veteran Suicide Rate Per 100,000</th>\n",
       "      <th>General Population Suicides</th>\n",
       "      <th>General Population Rate Per 100,000</th>\n",
       "    </tr>\n",
       "  </thead>\n",
       "  <tbody>\n",
       "    <tr>\n",
       "      <th>0</th>\n",
       "      <td>2001</td>\n",
       "      <td>Northeastern</td>\n",
       "      <td>All</td>\n",
       "      <td>18-34</td>\n",
       "      <td>91</td>\n",
       "      <td>27.9</td>\n",
       "      <td>1171</td>\n",
       "      <td>9.7</td>\n",
       "    </tr>\n",
       "    <tr>\n",
       "      <th>1</th>\n",
       "      <td>2001</td>\n",
       "      <td>Northeastern</td>\n",
       "      <td>All</td>\n",
       "      <td>35-54</td>\n",
       "      <td>293</td>\n",
       "      <td>21.8</td>\n",
       "      <td>1814</td>\n",
       "      <td>11</td>\n",
       "    </tr>\n",
       "    <tr>\n",
       "      <th>2</th>\n",
       "      <td>2001</td>\n",
       "      <td>Northeastern</td>\n",
       "      <td>All</td>\n",
       "      <td>55-74</td>\n",
       "      <td>217</td>\n",
       "      <td>12</td>\n",
       "      <td>796</td>\n",
       "      <td>9.2</td>\n",
       "    </tr>\n",
       "    <tr>\n",
       "      <th>3</th>\n",
       "      <td>2001</td>\n",
       "      <td>Northeastern</td>\n",
       "      <td>All</td>\n",
       "      <td>75+</td>\n",
       "      <td>159</td>\n",
       "      <td>17.2</td>\n",
       "      <td>387</td>\n",
       "      <td>10.6</td>\n",
       "    </tr>\n",
       "    <tr>\n",
       "      <th>4</th>\n",
       "      <td>2001</td>\n",
       "      <td>Northeastern</td>\n",
       "      <td>All</td>\n",
       "      <td>All</td>\n",
       "      <td>762</td>\n",
       "      <td>17.3</td>\n",
       "      <td>4168</td>\n",
       "      <td>10.2</td>\n",
       "    </tr>\n",
       "  </tbody>\n",
       "</table>\n",
       "</div>"
      ],
      "text/plain": [
       "   Year Geographic Region State of Death Age Group Veteran Suicides  \\\n",
       "0  2001      Northeastern            All     18-34               91   \n",
       "1  2001      Northeastern            All     35-54              293   \n",
       "2  2001      Northeastern            All     55-74              217   \n",
       "3  2001      Northeastern            All       75+              159   \n",
       "4  2001      Northeastern            All       All              762   \n",
       "\n",
       "  Veteran Suicide Rate Per 100,000 General Population Suicides  \\\n",
       "0                             27.9                        1171   \n",
       "1                             21.8                        1814   \n",
       "2                               12                         796   \n",
       "3                             17.2                         387   \n",
       "4                             17.3                        4168   \n",
       "\n",
       "  General Population Rate Per 100,000  \n",
       "0                                 9.7  \n",
       "1                                  11  \n",
       "2                                 9.2  \n",
       "3                                10.6  \n",
       "4                                10.2  "
      ]
     },
     "execution_count": 12,
     "metadata": {},
     "output_type": "execute_result"
    }
   ],
   "source": [
    "#Rename column names in df_age dataframe to remove formatting\n",
    "\n",
    "rename_Columns= {'Geographic\\nRegion':'Geographic Region',\n",
    "                 'Age\\nGroup':'Age Group',\n",
    "                 'Veteran\\nSuicides':'Veteran Suicides',\n",
    "                 'Veteran\\nSuicide\\nRate\\nper\\n100,000':'Veteran Suicide Rate Per 100,000',\n",
    "                 'General\\nPopulation\\nSuicides':'General Population Suicides',\n",
    "                 'General\\nPopulation\\nRate per\\n100,000':'General Population Rate Per 100,000'\n",
    "                }\n",
    "\n",
    "#changing column names\n",
    "\n",
    "df_age.rename(columns=rename_Columns,inplace=True)\n",
    "\n",
    "#display the dataframe using head\n",
    "\n",
    "df_age.head()"
   ]
  },
  {
   "cell_type": "markdown",
   "id": "c228df90",
   "metadata": {},
   "source": [
    "Now that we have updated the column names let's run the df.info() function for each dataframe again and see if it easier to read."
   ]
  },
  {
   "cell_type": "code",
   "execution_count": 13,
   "id": "c327b507",
   "metadata": {},
   "outputs": [
    {
     "name": "stdout",
     "output_type": "stream",
     "text": [
      "<class 'pandas.core.frame.DataFrame'>\n",
      "RangeIndex: 1092 entries, 0 to 1091\n",
      "Data columns (total 4 columns):\n",
      " #   Column             Non-Null Count  Dtype \n",
      "---  ------             --------------  ----- \n",
      " 0   Year of Death      1092 non-null   int64 \n",
      " 1   Geographic Region  1092 non-null   object\n",
      " 2   State of Death     1092 non-null   object\n",
      " 3   Veteran Suicides   1092 non-null   object\n",
      "dtypes: int64(1), object(3)\n",
      "memory usage: 34.3+ KB\n"
     ]
    }
   ],
   "source": [
    "#use the df.info() for df_state\n",
    "\n",
    "df_state.info()"
   ]
  },
  {
   "cell_type": "code",
   "execution_count": 14,
   "id": "0f7e9218",
   "metadata": {},
   "outputs": [
    {
     "name": "stdout",
     "output_type": "stream",
     "text": [
      "<class 'pandas.core.frame.DataFrame'>\n",
      "RangeIndex: 3276 entries, 0 to 3275\n",
      "Data columns (total 5 columns):\n",
      " #   Column             Non-Null Count  Dtype \n",
      "---  ------             --------------  ----- \n",
      " 0   Year of Death      3276 non-null   int64 \n",
      " 1   Geographic Region  3276 non-null   object\n",
      " 2   State of Death     3276 non-null   object\n",
      " 3   Sex                3276 non-null   object\n",
      " 4   Veteran Suicides   3276 non-null   object\n",
      "dtypes: int64(1), object(4)\n",
      "memory usage: 128.1+ KB\n"
     ]
    }
   ],
   "source": [
    "#use the df.info() for df_sex\n",
    "\n",
    "df_sex.info()"
   ]
  },
  {
   "cell_type": "code",
   "execution_count": 15,
   "id": "9c44c994",
   "metadata": {},
   "outputs": [
    {
     "name": "stdout",
     "output_type": "stream",
     "text": [
      "<class 'pandas.core.frame.DataFrame'>\n",
      "RangeIndex: 5880 entries, 0 to 5879\n",
      "Data columns (total 8 columns):\n",
      " #   Column                               Non-Null Count  Dtype \n",
      "---  ------                               --------------  ----- \n",
      " 0   Year                                 5880 non-null   int64 \n",
      " 1   Geographic Region                    5880 non-null   object\n",
      " 2   State of Death                       5880 non-null   object\n",
      " 3   Age Group                            5880 non-null   object\n",
      " 4   Veteran Suicides                     5880 non-null   object\n",
      " 5   Veteran Suicide Rate Per 100,000     5880 non-null   object\n",
      " 6   General Population Suicides          5880 non-null   object\n",
      " 7   General Population Rate Per 100,000  5880 non-null   object\n",
      "dtypes: int64(1), object(7)\n",
      "memory usage: 367.6+ KB\n"
     ]
    }
   ],
   "source": [
    "#use the df.info() for df_age\n",
    "\n",
    "df_age.info()"
   ]
  },
  {
   "cell_type": "markdown",
   "id": "0c08ab55",
   "metadata": {},
   "source": [
    "Display descriptive statistics that summarize the central tendency, dispersion, and shape of a dataset's distribution, excluding NaN values.  This will display basic statistical details such as percentile, mean, and std, of the numeric values of the 3 dataframes"
   ]
  },
  {
   "cell_type": "code",
   "execution_count": 16,
   "id": "77bc8e8b",
   "metadata": {},
   "outputs": [
    {
     "data": {
      "text/html": [
       "<div>\n",
       "<style scoped>\n",
       "    .dataframe tbody tr th:only-of-type {\n",
       "        vertical-align: middle;\n",
       "    }\n",
       "\n",
       "    .dataframe tbody tr th {\n",
       "        vertical-align: top;\n",
       "    }\n",
       "\n",
       "    .dataframe thead th {\n",
       "        text-align: right;\n",
       "    }\n",
       "</style>\n",
       "<table border=\"1\" class=\"dataframe\">\n",
       "  <thead>\n",
       "    <tr style=\"text-align: right;\">\n",
       "      <th></th>\n",
       "      <th>Year of Death</th>\n",
       "    </tr>\n",
       "  </thead>\n",
       "  <tbody>\n",
       "    <tr>\n",
       "      <th>count</th>\n",
       "      <td>1092.000000</td>\n",
       "    </tr>\n",
       "    <tr>\n",
       "      <th>mean</th>\n",
       "      <td>2011.000000</td>\n",
       "    </tr>\n",
       "    <tr>\n",
       "      <th>std</th>\n",
       "      <td>6.058075</td>\n",
       "    </tr>\n",
       "    <tr>\n",
       "      <th>min</th>\n",
       "      <td>2001.000000</td>\n",
       "    </tr>\n",
       "    <tr>\n",
       "      <th>25%</th>\n",
       "      <td>2006.000000</td>\n",
       "    </tr>\n",
       "    <tr>\n",
       "      <th>50%</th>\n",
       "      <td>2011.000000</td>\n",
       "    </tr>\n",
       "    <tr>\n",
       "      <th>75%</th>\n",
       "      <td>2016.000000</td>\n",
       "    </tr>\n",
       "    <tr>\n",
       "      <th>max</th>\n",
       "      <td>2021.000000</td>\n",
       "    </tr>\n",
       "  </tbody>\n",
       "</table>\n",
       "</div>"
      ],
      "text/plain": [
       "       Year of Death\n",
       "count    1092.000000\n",
       "mean     2011.000000\n",
       "std         6.058075\n",
       "min      2001.000000\n",
       "25%      2006.000000\n",
       "50%      2011.000000\n",
       "75%      2016.000000\n",
       "max      2021.000000"
      ]
     },
     "execution_count": 16,
     "metadata": {},
     "output_type": "execute_result"
    }
   ],
   "source": [
    "'''This will display basic statistical details such as percentile, mean, and std, of the numeric values of the df_state\n",
    "dataframe using the df.decribe function'''\n",
    "df_state.describe()"
   ]
  },
  {
   "cell_type": "code",
   "execution_count": 17,
   "id": "43e03aca",
   "metadata": {},
   "outputs": [
    {
     "data": {
      "text/html": [
       "<div>\n",
       "<style scoped>\n",
       "    .dataframe tbody tr th:only-of-type {\n",
       "        vertical-align: middle;\n",
       "    }\n",
       "\n",
       "    .dataframe tbody tr th {\n",
       "        vertical-align: top;\n",
       "    }\n",
       "\n",
       "    .dataframe thead th {\n",
       "        text-align: right;\n",
       "    }\n",
       "</style>\n",
       "<table border=\"1\" class=\"dataframe\">\n",
       "  <thead>\n",
       "    <tr style=\"text-align: right;\">\n",
       "      <th></th>\n",
       "      <th>Year of Death</th>\n",
       "    </tr>\n",
       "  </thead>\n",
       "  <tbody>\n",
       "    <tr>\n",
       "      <th>count</th>\n",
       "      <td>3276.000000</td>\n",
       "    </tr>\n",
       "    <tr>\n",
       "      <th>mean</th>\n",
       "      <td>2011.000000</td>\n",
       "    </tr>\n",
       "    <tr>\n",
       "      <th>std</th>\n",
       "      <td>6.056225</td>\n",
       "    </tr>\n",
       "    <tr>\n",
       "      <th>min</th>\n",
       "      <td>2001.000000</td>\n",
       "    </tr>\n",
       "    <tr>\n",
       "      <th>25%</th>\n",
       "      <td>2006.000000</td>\n",
       "    </tr>\n",
       "    <tr>\n",
       "      <th>50%</th>\n",
       "      <td>2011.000000</td>\n",
       "    </tr>\n",
       "    <tr>\n",
       "      <th>75%</th>\n",
       "      <td>2016.000000</td>\n",
       "    </tr>\n",
       "    <tr>\n",
       "      <th>max</th>\n",
       "      <td>2021.000000</td>\n",
       "    </tr>\n",
       "  </tbody>\n",
       "</table>\n",
       "</div>"
      ],
      "text/plain": [
       "       Year of Death\n",
       "count    3276.000000\n",
       "mean     2011.000000\n",
       "std         6.056225\n",
       "min      2001.000000\n",
       "25%      2006.000000\n",
       "50%      2011.000000\n",
       "75%      2016.000000\n",
       "max      2021.000000"
      ]
     },
     "execution_count": 17,
     "metadata": {},
     "output_type": "execute_result"
    }
   ],
   "source": [
    "'''This will display basic statistical details such as percentile, mean, and std, of the numeric values of the df_sex\n",
    "dataframe using the df.decribe function'''\n",
    "df_sex.describe()"
   ]
  },
  {
   "cell_type": "code",
   "execution_count": 18,
   "id": "b189d899",
   "metadata": {},
   "outputs": [
    {
     "data": {
      "text/html": [
       "<div>\n",
       "<style scoped>\n",
       "    .dataframe tbody tr th:only-of-type {\n",
       "        vertical-align: middle;\n",
       "    }\n",
       "\n",
       "    .dataframe tbody tr th {\n",
       "        vertical-align: top;\n",
       "    }\n",
       "\n",
       "    .dataframe thead th {\n",
       "        text-align: right;\n",
       "    }\n",
       "</style>\n",
       "<table border=\"1\" class=\"dataframe\">\n",
       "  <thead>\n",
       "    <tr style=\"text-align: right;\">\n",
       "      <th></th>\n",
       "      <th>Year</th>\n",
       "    </tr>\n",
       "  </thead>\n",
       "  <tbody>\n",
       "    <tr>\n",
       "      <th>count</th>\n",
       "      <td>5880.000000</td>\n",
       "    </tr>\n",
       "    <tr>\n",
       "      <th>mean</th>\n",
       "      <td>2011.000000</td>\n",
       "    </tr>\n",
       "    <tr>\n",
       "      <th>std</th>\n",
       "      <td>6.055816</td>\n",
       "    </tr>\n",
       "    <tr>\n",
       "      <th>min</th>\n",
       "      <td>2001.000000</td>\n",
       "    </tr>\n",
       "    <tr>\n",
       "      <th>25%</th>\n",
       "      <td>2006.000000</td>\n",
       "    </tr>\n",
       "    <tr>\n",
       "      <th>50%</th>\n",
       "      <td>2011.000000</td>\n",
       "    </tr>\n",
       "    <tr>\n",
       "      <th>75%</th>\n",
       "      <td>2016.000000</td>\n",
       "    </tr>\n",
       "    <tr>\n",
       "      <th>max</th>\n",
       "      <td>2021.000000</td>\n",
       "    </tr>\n",
       "  </tbody>\n",
       "</table>\n",
       "</div>"
      ],
      "text/plain": [
       "              Year\n",
       "count  5880.000000\n",
       "mean   2011.000000\n",
       "std       6.055816\n",
       "min    2001.000000\n",
       "25%    2006.000000\n",
       "50%    2011.000000\n",
       "75%    2016.000000\n",
       "max    2021.000000"
      ]
     },
     "execution_count": 18,
     "metadata": {},
     "output_type": "execute_result"
    }
   ],
   "source": [
    "'''This will display basic statistical details such as percentile, mean, and std, of the numeric values of the df_age\n",
    "dataframe using the df.decribe function'''\n",
    "df_age.describe()"
   ]
  },
  {
   "cell_type": "markdown",
   "id": "0fd07f50",
   "metadata": {},
   "source": [
    "## Cleaning Data\n",
    "Though the df_info() function shows there are no non-null rows there was still quite a bit of clean up required before we begin analyzing the data.  The first problem was that counts and rates were suppressed when based on fewer than 10 deaths and are represented as <10 in the columns.  I will be dropping the '<' symbol to be able to update the datatype.  Also there are values that were supplied as a range, eg. 40-50.  In those cases I will remove the '-' and second number and only retain the lower number in the range.  Also there are columns with either '--' which I will replace with '0' or 'asterisk' which will need to be removed as well."
   ]
  },
  {
   "cell_type": "code",
   "execution_count": 19,
   "id": "8eeb3b8f",
   "metadata": {},
   "outputs": [],
   "source": [
    "#First we must remove the '<' symbol from the 'Veteran Suicides' column in df_state\n",
    "\n",
    "df_state['Veteran Suicides']=df_state['Veteran Suicides'].replace({'<':''},regex=True)\n",
    "\n",
    "'''Next we must remove the '<' and '-' symbols from the 'Veteran Suicides' column in df_sex.  Also for '-'\n",
    "we will remove the numbers to the right and leave the lowest number in the range only'''\n",
    "\n",
    "df_sex['Veteran Suicides']=df_sex['Veteran Suicides'].replace({'<':''},regex=True)\n",
    "df_sex['Veteran Suicides']=df_sex['Veteran Suicides'].replace({'-[0-9]':''},regex=True)\n",
    "\n",
    "'''Next we must remove the '<' and '-' symbols from the 'Veteran Suicides' and 'General Population Suicides' columns\n",
    "in df_age.  Also for '-' we will remove the numbers to the right and leave the lowest number in the range only.\n",
    "Also we will have to remove '--' and '*' from 'Veteran Suicide Rate per 100,000' and 'General Population Rate per 100,000'\n",
    "''' \n",
    "\n",
    "df_age['Veteran Suicides']=df_age['Veteran Suicides'].replace({'<':''},regex=True)\n",
    "df_age['Veteran Suicides']=df_age['Veteran Suicides'].replace({'-[0-9]':''},regex=True)\n",
    "df_age['General Population Suicides']=df_age['General Population Suicides'].replace({'<':''},regex=True)\n",
    "df_age['General Population Suicides']=df_age['General Population Suicides'].replace({'-[0-9]':''},regex=True)\n",
    "df_age['Veteran Suicide Rate Per 100,000']=df_age['Veteran Suicide Rate Per 100,000'].replace({'--':'0'},regex=True)\n",
    "df_age['Veteran Suicide Rate Per 100,000']=df_age['Veteran Suicide Rate Per 100,000'].replace({'\\*':''},regex=True)\n",
    "df_age['General Population Rate Per 100,000']=df_age['General Population Rate Per 100,000'].replace({'--':'0'},regex=True)\n",
    "df_age['General Population Rate Per 100,000']=df_age['General Population Rate Per 100,000'].replace({'\\*':''},regex=True)\n",
    "\n",
    "\n"
   ]
  },
  {
   "cell_type": "markdown",
   "id": "eefa4a63",
   "metadata": {},
   "source": [
    "## Updating datatype\n",
    "Now that the df.info() function  legible let's update the datatypes so that we will be able do statistical analyis, grouping, and retain decimal points."
   ]
  },
  {
   "cell_type": "code",
   "execution_count": 20,
   "id": "97ee147e",
   "metadata": {},
   "outputs": [
    {
     "data": {
      "text/plain": [
       "Year of Death           int64\n",
       "Geographic Region    category\n",
       "State of Death         object\n",
       "Veteran Suicides        int64\n",
       "dtype: object"
      ]
     },
     "execution_count": 20,
     "metadata": {},
     "output_type": "execute_result"
    }
   ],
   "source": [
    "#Change the necessary columns with object datatypes in df_state\n",
    "\n",
    "df_state['Geographic Region']=df_state['Geographic Region'].astype('category')\n",
    "df_state['Veteran Suicides']=df_state['Veteran Suicides'].astype('int64')\n",
    "\n",
    "#Check data type changes\n",
    "\n",
    "df_state.dtypes"
   ]
  },
  {
   "cell_type": "code",
   "execution_count": 21,
   "id": "6b36e984",
   "metadata": {},
   "outputs": [
    {
     "data": {
      "text/plain": [
       "Year of Death           int64\n",
       "Geographic Region    category\n",
       "State of Death         object\n",
       "Sex                  category\n",
       "Veteran Suicides        int64\n",
       "dtype: object"
      ]
     },
     "execution_count": 21,
     "metadata": {},
     "output_type": "execute_result"
    }
   ],
   "source": [
    "#Change the necessary columns with object datatypes in df_sex\n",
    "\n",
    "df_sex['Geographic Region']=df_sex['Geographic Region'].astype('category')\n",
    "df_sex['Sex']=df_sex['Sex'].astype('category')\n",
    "df_sex['Veteran Suicides']=df_sex['Veteran Suicides'].astype('int64')\n",
    "\n",
    "#Check data type changes\n",
    "df_sex.dtypes"
   ]
  },
  {
   "cell_type": "code",
   "execution_count": 22,
   "id": "e4fadf39",
   "metadata": {},
   "outputs": [
    {
     "data": {
      "text/plain": [
       "Year                                      int64\n",
       "Geographic Region                      category\n",
       "State of Death                           object\n",
       "Age Group                              category\n",
       "Veteran Suicides                          int64\n",
       "Veteran Suicide Rate Per 100,000        float64\n",
       "General Population Suicides               int64\n",
       "General Population Rate Per 100,000     float64\n",
       "dtype: object"
      ]
     },
     "execution_count": 22,
     "metadata": {},
     "output_type": "execute_result"
    }
   ],
   "source": [
    "#Change the necessary columns with object datatypes in df_age\n",
    "\n",
    "df_age['Geographic Region']=df_age['Geographic Region'].astype('category')\n",
    "df_age['Age Group']=df_age['Age Group'].astype('category')\n",
    "df_age['Veteran Suicides']=df_age['Veteran Suicides'].astype('int64')\n",
    "df_age['General Population Suicides']=df_age['General Population Suicides'].astype('int64')\n",
    "df_age['Veteran Suicide Rate Per 100,000']=df_age['Veteran Suicide Rate Per 100,000'].astype('float64')\n",
    "df_age['General Population Rate Per 100,000']=df_age['General Population Rate Per 100,000'].astype('float64')\n",
    "\n",
    "#Check data type changes\n",
    "\n",
    "df_age.dtypes"
   ]
  },
  {
   "cell_type": "markdown",
   "id": "1acc2603",
   "metadata": {},
   "source": [
    "## Dropping Columns\n",
    "As I loaded only specific worksheets from the Excel file and there is pertinent data I will not have any columns to drop from the dataframes."
   ]
  },
  {
   "cell_type": "markdown",
   "id": "2707bd62",
   "metadata": {},
   "source": [
    "## Data Visualization"
   ]
  },
  {
   "cell_type": "markdown",
   "id": "ac387a5d",
   "metadata": {},
   "source": [
    "###  Which years have the highest and lowest number of veteran suicides?"
   ]
  },
  {
   "cell_type": "code",
   "execution_count": 23,
   "id": "b842c9ac",
   "metadata": {},
   "outputs": [
    {
     "name": "stdout",
     "output_type": "stream",
     "text": [
      "\u001b[1m5 Highest Years of Veteran Suicides: \u001b[0m\n"
     ]
    },
    {
     "data": {
      "text/html": [
       "<div>\n",
       "<style scoped>\n",
       "    .dataframe tbody tr th:only-of-type {\n",
       "        vertical-align: middle;\n",
       "    }\n",
       "\n",
       "    .dataframe tbody tr th {\n",
       "        vertical-align: top;\n",
       "    }\n",
       "\n",
       "    .dataframe thead th {\n",
       "        text-align: right;\n",
       "    }\n",
       "</style>\n",
       "<table border=\"1\" class=\"dataframe\">\n",
       "  <thead>\n",
       "    <tr style=\"text-align: right;\">\n",
       "      <th></th>\n",
       "      <th>Year of Death</th>\n",
       "      <th>State of Death</th>\n",
       "      <th>Veteran Suicides</th>\n",
       "    </tr>\n",
       "  </thead>\n",
       "  <tbody>\n",
       "    <tr>\n",
       "      <th>935</th>\n",
       "      <td>2018</td>\n",
       "      <td>U.S. Total</td>\n",
       "      <td>6718</td>\n",
       "    </tr>\n",
       "    <tr>\n",
       "      <th>883</th>\n",
       "      <td>2017</td>\n",
       "      <td>U.S. Total</td>\n",
       "      <td>6686</td>\n",
       "    </tr>\n",
       "    <tr>\n",
       "      <th>727</th>\n",
       "      <td>2014</td>\n",
       "      <td>U.S. Total</td>\n",
       "      <td>6645</td>\n",
       "    </tr>\n",
       "    <tr>\n",
       "      <th>779</th>\n",
       "      <td>2015</td>\n",
       "      <td>U.S. Total</td>\n",
       "      <td>6616</td>\n",
       "    </tr>\n",
       "    <tr>\n",
       "      <th>415</th>\n",
       "      <td>2008</td>\n",
       "      <td>U.S. Total</td>\n",
       "      <td>6567</td>\n",
       "    </tr>\n",
       "  </tbody>\n",
       "</table>\n",
       "</div>"
      ],
      "text/plain": [
       "     Year of Death State of Death  Veteran Suicides\n",
       "935           2018     U.S. Total              6718\n",
       "883           2017     U.S. Total              6686\n",
       "727           2014     U.S. Total              6645\n",
       "779           2015     U.S. Total              6616\n",
       "415           2008     U.S. Total              6567"
      ]
     },
     "execution_count": 23,
     "metadata": {},
     "output_type": "execute_result"
    }
   ],
   "source": [
    "#Create a dataframe named df_years with selected columns\n",
    "\n",
    "df_years=df_state[['Year of Death','State of Death','Veteran Suicides']]\n",
    "\n",
    "#print 5 Highest Years of Veteran Suicides Using the ANSI Escape Sequence for Bold\n",
    "\n",
    "print('\\033[1m'+'5 Highest Years of Veteran Suicides: '+'\\033[0m')\n",
    "\n",
    "#Selecting Rows based on 'State of Death' == 'U.S. Total'\n",
    "\n",
    "df_years_totals=df_years[df_state['State of Death'] == 'U.S. Total']\n",
    "\n",
    "#Display the head of the df_years_totals sorting from highest to lowest\n",
    "\n",
    "df_years_totals.sort_values(['Veteran Suicides'],ascending=False).head()"
   ]
  },
  {
   "cell_type": "markdown",
   "id": "c814ce21",
   "metadata": {},
   "source": [
    "Displaying the first 5 rows of the df_years_totals dataframe sorted by descending order, listing the highest totals first.  The 5 years with the highest veteran suicide numbers in order are 2018, 2017, 2014, 2015, and 2008."
   ]
  },
  {
   "cell_type": "code",
   "execution_count": 24,
   "id": "fae2fe9e",
   "metadata": {},
   "outputs": [
    {
     "name": "stdout",
     "output_type": "stream",
     "text": [
      "\u001b[1m5 Lowest Years of Veteran Suicides: \u001b[0m\n"
     ]
    },
    {
     "data": {
      "text/html": [
       "<div>\n",
       "<style scoped>\n",
       "    .dataframe tbody tr th:only-of-type {\n",
       "        vertical-align: middle;\n",
       "    }\n",
       "\n",
       "    .dataframe tbody tr th {\n",
       "        vertical-align: top;\n",
       "    }\n",
       "\n",
       "    .dataframe thead th {\n",
       "        text-align: right;\n",
       "    }\n",
       "</style>\n",
       "<table border=\"1\" class=\"dataframe\">\n",
       "  <thead>\n",
       "    <tr style=\"text-align: right;\">\n",
       "      <th></th>\n",
       "      <th>Year of Death</th>\n",
       "      <th>State of Death</th>\n",
       "      <th>Veteran Suicides</th>\n",
       "    </tr>\n",
       "  </thead>\n",
       "  <tbody>\n",
       "    <tr>\n",
       "      <th>51</th>\n",
       "      <td>2001</td>\n",
       "      <td>U.S. Total</td>\n",
       "      <td>6000</td>\n",
       "    </tr>\n",
       "    <tr>\n",
       "      <th>207</th>\n",
       "      <td>2004</td>\n",
       "      <td>U.S. Total</td>\n",
       "      <td>6004</td>\n",
       "    </tr>\n",
       "    <tr>\n",
       "      <th>155</th>\n",
       "      <td>2003</td>\n",
       "      <td>U.S. Total</td>\n",
       "      <td>6008</td>\n",
       "    </tr>\n",
       "    <tr>\n",
       "      <th>311</th>\n",
       "      <td>2006</td>\n",
       "      <td>U.S. Total</td>\n",
       "      <td>6035</td>\n",
       "    </tr>\n",
       "    <tr>\n",
       "      <th>259</th>\n",
       "      <td>2005</td>\n",
       "      <td>U.S. Total</td>\n",
       "      <td>6126</td>\n",
       "    </tr>\n",
       "  </tbody>\n",
       "</table>\n",
       "</div>"
      ],
      "text/plain": [
       "     Year of Death State of Death  Veteran Suicides\n",
       "51            2001     U.S. Total              6000\n",
       "207           2004     U.S. Total              6004\n",
       "155           2003     U.S. Total              6008\n",
       "311           2006     U.S. Total              6035\n",
       "259           2005     U.S. Total              6126"
      ]
     },
     "execution_count": 24,
     "metadata": {},
     "output_type": "execute_result"
    }
   ],
   "source": [
    "#print 5 Lowest Years of Veteran Suicides Using the ANSI Escape Sequence for Bold\n",
    "\n",
    "print('\\033[1m'+'5 Lowest Years of Veteran Suicides: '+'\\033[0m')\n",
    "\n",
    "#Selecting Rows based on 'State of Death' == 'U.S. Total'\n",
    "\n",
    "df_years_totals=df_years[df_state['State of Death'] == 'U.S. Total']\n",
    "\n",
    "#Display the head of the df_years_totals sorting from lowest to highest\n",
    "\n",
    "df_years_totals.sort_values(['Veteran Suicides'],ascending=True).head()"
   ]
  },
  {
   "cell_type": "markdown",
   "id": "b5d3d99d",
   "metadata": {},
   "source": [
    "Displaying the first 5 rows of the df_years_totals dataframe sorted by ascending order, listing the lowest totals first. The 5 years with the lowest veteran suicide numbers in order are 2001, 2004, 2003, 2006, and 2005."
   ]
  },
  {
   "cell_type": "markdown",
   "id": "8b10ec21",
   "metadata": {},
   "source": [
    "### Which states have the highest and lowest number of veteran suicides in 2021?"
   ]
  },
  {
   "cell_type": "code",
   "execution_count": 25,
   "id": "48e63313",
   "metadata": {},
   "outputs": [
    {
     "name": "stdout",
     "output_type": "stream",
     "text": [
      "\u001b[1m5 Highest States of Veteran Suicides in 2021: \u001b[0m\n"
     ]
    },
    {
     "data": {
      "text/html": [
       "<div>\n",
       "<style scoped>\n",
       "    .dataframe tbody tr th:only-of-type {\n",
       "        vertical-align: middle;\n",
       "    }\n",
       "\n",
       "    .dataframe tbody tr th {\n",
       "        vertical-align: top;\n",
       "    }\n",
       "\n",
       "    .dataframe thead th {\n",
       "        text-align: right;\n",
       "    }\n",
       "</style>\n",
       "<table border=\"1\" class=\"dataframe\">\n",
       "  <thead>\n",
       "    <tr style=\"text-align: right;\">\n",
       "      <th></th>\n",
       "      <th>Year of Death</th>\n",
       "      <th>State of Death</th>\n",
       "      <th>Veteran Suicides</th>\n",
       "    </tr>\n",
       "  </thead>\n",
       "  <tbody>\n",
       "    <tr>\n",
       "      <th>1075</th>\n",
       "      <td>2021</td>\n",
       "      <td>Texas</td>\n",
       "      <td>583</td>\n",
       "    </tr>\n",
       "    <tr>\n",
       "      <th>1065</th>\n",
       "      <td>2021</td>\n",
       "      <td>Florida</td>\n",
       "      <td>546</td>\n",
       "    </tr>\n",
       "    <tr>\n",
       "      <th>1080</th>\n",
       "      <td>2021</td>\n",
       "      <td>California</td>\n",
       "      <td>461</td>\n",
       "    </tr>\n",
       "    <tr>\n",
       "      <th>1046</th>\n",
       "      <td>2021</td>\n",
       "      <td>Pennsylvania</td>\n",
       "      <td>246</td>\n",
       "    </tr>\n",
       "    <tr>\n",
       "      <th>1058</th>\n",
       "      <td>2021</td>\n",
       "      <td>Ohio</td>\n",
       "      <td>242</td>\n",
       "    </tr>\n",
       "  </tbody>\n",
       "</table>\n",
       "</div>"
      ],
      "text/plain": [
       "      Year of Death State of Death  Veteran Suicides\n",
       "1075           2021          Texas               583\n",
       "1065           2021        Florida               546\n",
       "1080           2021     California               461\n",
       "1046           2021   Pennsylvania               246\n",
       "1058           2021           Ohio               242"
      ]
     },
     "execution_count": 25,
     "metadata": {},
     "output_type": "execute_result"
    }
   ],
   "source": [
    "#Create a dataframe named df_state_total with selected columns\n",
    "\n",
    "df_state_total=df_state[['Year of Death','State of Death','Veteran Suicides']]\n",
    "\n",
    "#Selecting rows based on 'Year of Death' == '2021' and 'State of Death' != 'U.S. Total'\n",
    "\n",
    "df_state_total_2021=df_state_total.loc[(df_state['Year of Death'] == 2021) & (df_state['State of Death'] != 'U.S. Total')]\n",
    "\n",
    "#print 5 Highest States of Veteran Suicides in 2021 Using the ANSI Escape Sequence for Bold\n",
    "\n",
    "print('\\033[1m'+'5 Highest States of Veteran Suicides in 2021: '+'\\033[0m')\n",
    "\n",
    "#Display the head of the df_state_total_2021 sorting from highest to lowest\n",
    "\n",
    "df_state_total_2021.sort_values(['Veteran Suicides'],ascending=False).head()"
   ]
  },
  {
   "cell_type": "markdown",
   "id": "59658123",
   "metadata": {},
   "source": [
    "Displaying the first 5 rows df_state_total_2021 dataframe  sorted by descending order, listing the highest totals first. The 5 states with the highest veteran suicides in order are Texas, Florida, California, Pennsylvania, and Ohio. "
   ]
  },
  {
   "cell_type": "code",
   "execution_count": 26,
   "id": "193086df",
   "metadata": {},
   "outputs": [
    {
     "name": "stdout",
     "output_type": "stream",
     "text": [
      "\u001b[1m5 Lowest States of Veteran Suicides in 2021: \u001b[0m\n"
     ]
    },
    {
     "data": {
      "text/html": [
       "<div>\n",
       "<style scoped>\n",
       "    .dataframe tbody tr th:only-of-type {\n",
       "        vertical-align: middle;\n",
       "    }\n",
       "\n",
       "    .dataframe tbody tr th {\n",
       "        vertical-align: top;\n",
       "    }\n",
       "\n",
       "    .dataframe thead th {\n",
       "        text-align: right;\n",
       "    }\n",
       "</style>\n",
       "<table border=\"1\" class=\"dataframe\">\n",
       "  <thead>\n",
       "    <tr style=\"text-align: right;\">\n",
       "      <th></th>\n",
       "      <th>Year of Death</th>\n",
       "      <th>State of Death</th>\n",
       "      <th>Veteran Suicides</th>\n",
       "    </tr>\n",
       "  </thead>\n",
       "  <tbody>\n",
       "    <tr>\n",
       "      <th>1064</th>\n",
       "      <td>2021</td>\n",
       "      <td>District of Columbia</td>\n",
       "      <td>10</td>\n",
       "    </tr>\n",
       "    <tr>\n",
       "      <th>1047</th>\n",
       "      <td>2021</td>\n",
       "      <td>Rhode Island</td>\n",
       "      <td>11</td>\n",
       "    </tr>\n",
       "    <tr>\n",
       "      <th>1057</th>\n",
       "      <td>2021</td>\n",
       "      <td>North Dakota</td>\n",
       "      <td>14</td>\n",
       "    </tr>\n",
       "    <tr>\n",
       "      <th>1048</th>\n",
       "      <td>2021</td>\n",
       "      <td>Vermont</td>\n",
       "      <td>18</td>\n",
       "    </tr>\n",
       "    <tr>\n",
       "      <th>1082</th>\n",
       "      <td>2021</td>\n",
       "      <td>Hawaii</td>\n",
       "      <td>20</td>\n",
       "    </tr>\n",
       "  </tbody>\n",
       "</table>\n",
       "</div>"
      ],
      "text/plain": [
       "      Year of Death        State of Death  Veteran Suicides\n",
       "1064           2021  District of Columbia                10\n",
       "1047           2021          Rhode Island                11\n",
       "1057           2021          North Dakota                14\n",
       "1048           2021               Vermont                18\n",
       "1082           2021                Hawaii                20"
      ]
     },
     "execution_count": 26,
     "metadata": {},
     "output_type": "execute_result"
    }
   ],
   "source": [
    "#Selecting rows based on 'Year of Death' == '2021' and 'State of Death' != 'U.S. Total'\n",
    "\n",
    "df_state_total_2021=df_state_total.loc[(df_state['Year of Death'] == 2021) & (df_state['State of Death'] != 'U.S. Total')]\n",
    "\n",
    "#print 5 Lowest States of Veteran Suicides in 2021 Using the ANSI Escape Sequence for Bold\n",
    "\n",
    "print('\\033[1m'+'5 Lowest States of Veteran Suicides in 2021: '+'\\033[0m')\n",
    "\n",
    "#Display the head of the df_state_total_2021 sorting from lowest to highest\n",
    "\n",
    "df_state_total_2021.sort_values(['Veteran Suicides'],ascending=True).head()"
   ]
  },
  {
   "cell_type": "markdown",
   "id": "2e83772f",
   "metadata": {},
   "source": [
    "Displaying the first 5 rows df_state_total_2021 dataframe  sorted by ascending order, listing the lowest totals first. The 5 states with the lowest veteran suicides in order are District of Columbia, Rhode Island, North Dakota, Vermont, and Hawaii. "
   ]
  },
  {
   "cell_type": "markdown",
   "id": "21ad2041",
   "metadata": {},
   "source": [
    "### Choropleth USA-states map of 2021 Veteran Suicides"
   ]
  },
  {
   "cell_type": "markdown",
   "id": "0332b4b0",
   "metadata": {},
   "source": [
    "As USA-states map needs state abbreviation will create a function state_abbrev_mapping that can convert state names\n",
    "to abbreviations or abbreviations to state names in a new column if specified."
   ]
  },
  {
   "cell_type": "code",
   "execution_count": 27,
   "id": "44826e63",
   "metadata": {},
   "outputs": [],
   "source": [
    "#Define function to convert states to abbreviations or abbreviations to states\n",
    "\n",
    "def state_abbrev_mapping(df, col, output_abbr = False, add_new_col = False, new_col = None,  case = None):\n",
    "    #df =  the Pandas dataframe.\n",
    "    #col = String. The column with the state name or abbreviation you wish to use\n",
    "    #output_abbr = True/False. Do you want to the output the state abbreviation? The other option is the state full name.\n",
    "    #add_new_col = True/False. Do you want to add a new column? The new column will overwrite the inputted column if not.\n",
    "    #new_col = String. Name of new column you wish to add.\n",
    "    #case = 'upper', 'lower', or None. Do you want to specify a letter-case for the data?\n",
    " \n",
    " \n",
    "    #List of states\n",
    "    state2abbrev = {\n",
    "        'Alaska': 'AK',\n",
    "        'Alabama': 'AL',\n",
    "        'Arkansas': 'AR',\n",
    "        'Arizona': 'AZ',\n",
    "        'California': 'CA',\n",
    "        'Colorado': 'CO',\n",
    "        'Connecticut': 'CT',\n",
    "        'District of Columbia': 'DC',\n",
    "        'Delaware': 'DE',\n",
    "        'Florida': 'FL',\n",
    "        'Georgia': 'GA',\n",
    "        'Hawaii': 'HI',\n",
    "        'Iowa': 'IA',\n",
    "        'Idaho': 'ID',\n",
    "        'Illinois': 'IL',\n",
    "        'Indiana': 'IN',\n",
    "        'Kansas': 'KS',\n",
    "        'Kentucky': 'KY',\n",
    "        'Louisiana': 'LA',\n",
    "        'Massachusetts': 'MA',\n",
    "        'Maryland': 'MD',\n",
    "        'Maine': 'ME',\n",
    "        'Michigan': 'MI',\n",
    "        'Minnesota': 'MN',\n",
    "        'Missouri': 'MO',\n",
    "        'Mississippi': 'MS',\n",
    "        'Montana': 'MT',\n",
    "        'North Carolina': 'NC',\n",
    "        'North Dakota': 'ND',\n",
    "        'Nebraska': 'NE',\n",
    "        'New Hampshire': 'NH',\n",
    "        'New Jersey': 'NJ',\n",
    "        'New Mexico': 'NM',\n",
    "        'Nevada': 'NV',\n",
    "        'New York': 'NY',\n",
    "        'Ohio': 'OH',\n",
    "        'Oklahoma': 'OK',\n",
    "        'Oregon': 'OR',\n",
    "        'Pennsylvania': 'PA',\n",
    "        'Rhode Island': 'RI',\n",
    "        'South Carolina': 'SC',\n",
    "        'South Dakota': 'SD',\n",
    "        'Tennessee': 'TN',\n",
    "        'Texas': 'TX',\n",
    "        'Utah': 'UT',\n",
    "        'Virginia': 'VA',\n",
    "        'Vermont': 'VT',\n",
    "        'Washington': 'WA',\n",
    "        'Wisconsin': 'WI',\n",
    "        'West Virginia': 'WV',\n",
    "        'Wyoming': 'WY',\n",
    "    }\n",
    "    #List of states\n",
    "    abbrev2state = {\n",
    "        'AK': 'Alaska',\n",
    "        'AL': 'Alabama',\n",
    "        'AR': 'Arkansas',\n",
    "        'AZ': 'Arizona',\n",
    "        'CA': 'California',\n",
    "        'CO': 'Colorado',\n",
    "        'CT': 'Connecticut',\n",
    "        'DC': 'District of Columbia',\n",
    "        'DE': 'Delaware',\n",
    "        'FL': 'Florida',\n",
    "        'GA': 'Georgia',\n",
    "        'HI': 'Hawaii',\n",
    "        'IA': 'Iowa',\n",
    "        'ID': 'Idaho',\n",
    "        'IL': 'Illinois',\n",
    "        'IN': 'Indiana',\n",
    "        'KS': 'Kansas',\n",
    "        'KY': 'Kentucky',\n",
    "        'LA': 'Louisiana',\n",
    "        'MA': 'Massachusetts',\n",
    "        'MD': 'Maryland',\n",
    "        'ME': 'Maine',\n",
    "        'MI': 'Michigan',\n",
    "        'MN': 'Minnesota',\n",
    "        'MO': 'Missouri',\n",
    "        'MS': 'Mississippi',\n",
    "        'MT': 'Montana',\n",
    "        'NC': 'North Carolina',\n",
    "        'ND': 'North Dakota',\n",
    "        'NE': 'Nebraska',\n",
    "        'NH': 'New Hampshire',\n",
    "        'NJ': 'New Jersey',\n",
    "        'NM': 'New Mexico',\n",
    "        'NV': 'Nevada',\n",
    "        'NY': 'New York',\n",
    "        'OH': 'Ohio',\n",
    "        'OK': 'Oklahoma',\n",
    "        'OR': 'Oregon',\n",
    "        'PA': 'Pennsylvania',\n",
    "        'RI': 'Rhode Island',\n",
    "        'SC': 'South Carolina',\n",
    "        'SD': 'South Dakota',\n",
    "        'TN': 'Tennessee',\n",
    "        'TX': 'Texas',\n",
    "        'UT': 'Utah',\n",
    "        'VA': 'Virginia',\n",
    "        'VT': 'Vermont',\n",
    "        'WA': 'Washington',\n",
    "        'WI': 'Wisconsin',\n",
    "        'WV': 'West Virginia',\n",
    "        'WY': 'Wyoming',\n",
    "    }\n",
    "    #If user wants to add a new column\n",
    "    if add_new_col == False:\n",
    "         \n",
    "        #Is the output an abbreviation?\n",
    "        if output_abbr == True:\n",
    "            df[col] = df[col].str.strip().replace(state2abbrev)\n",
    "        else:\n",
    "            df[col] = df[col].str.strip().replace(abbrev2state)\n",
    "             \n",
    "        #Does the user want a specific case sensitivity?\n",
    "        if case == 'upper':\n",
    "            df[col] = df[col].str.upper()\n",
    "        elif case == 'lower':\n",
    "            df[col] = df[col].str.lower()\n",
    "             \n",
    "    #If user not want to add a new column       \n",
    "    if add_new_col == True:\n",
    "         \n",
    "        #If new column name is missing\n",
    "        if new_col == None:\n",
    "            #Prompt user to enter a new column name\n",
    "            print(\"Error: You requested to add a new column but did not specify a new column name. Please add a column name with new_col = ''\")\n",
    "            return()\n",
    "         \n",
    "        #Is the output an abbreviation?\n",
    "        if output_abbr == True:\n",
    "            df[new_col] = df[col].str.strip().replace(state2abbrev)\n",
    "        else:\n",
    "            df[new_col] = df[col].str.strip().replace(abbrev2state)\n",
    " \n",
    "        #Does the user want a specific case sensitivity?\n",
    "        if case == 'upper':\n",
    "            df[new_col] = df[new_col].str.upper()\n",
    "        elif case == 'lower':\n",
    "            df[new_col] = df[new_col].str.lower()\n",
    " \n",
    "    return(df.head())"
   ]
  },
  {
   "cell_type": "code",
   "execution_count": 28,
   "id": "b3143d7b",
   "metadata": {},
   "outputs": [
    {
     "data": {
      "text/html": [
       "<div>\n",
       "<style scoped>\n",
       "    .dataframe tbody tr th:only-of-type {\n",
       "        vertical-align: middle;\n",
       "    }\n",
       "\n",
       "    .dataframe tbody tr th {\n",
       "        vertical-align: top;\n",
       "    }\n",
       "\n",
       "    .dataframe thead th {\n",
       "        text-align: right;\n",
       "    }\n",
       "</style>\n",
       "<table border=\"1\" class=\"dataframe\">\n",
       "  <thead>\n",
       "    <tr style=\"text-align: right;\">\n",
       "      <th></th>\n",
       "      <th>Year of Death</th>\n",
       "      <th>State of Death</th>\n",
       "      <th>Veteran Suicides</th>\n",
       "      <th>State</th>\n",
       "    </tr>\n",
       "  </thead>\n",
       "  <tbody>\n",
       "    <tr>\n",
       "      <th>1040</th>\n",
       "      <td>2021</td>\n",
       "      <td>Connecticut</td>\n",
       "      <td>34</td>\n",
       "      <td>CT</td>\n",
       "    </tr>\n",
       "    <tr>\n",
       "      <th>1041</th>\n",
       "      <td>2021</td>\n",
       "      <td>Maine</td>\n",
       "      <td>38</td>\n",
       "      <td>ME</td>\n",
       "    </tr>\n",
       "    <tr>\n",
       "      <th>1042</th>\n",
       "      <td>2021</td>\n",
       "      <td>Massachusetts</td>\n",
       "      <td>57</td>\n",
       "      <td>MA</td>\n",
       "    </tr>\n",
       "    <tr>\n",
       "      <th>1043</th>\n",
       "      <td>2021</td>\n",
       "      <td>New Hampshire</td>\n",
       "      <td>29</td>\n",
       "      <td>NH</td>\n",
       "    </tr>\n",
       "    <tr>\n",
       "      <th>1044</th>\n",
       "      <td>2021</td>\n",
       "      <td>New Jersey</td>\n",
       "      <td>53</td>\n",
       "      <td>NJ</td>\n",
       "    </tr>\n",
       "  </tbody>\n",
       "</table>\n",
       "</div>"
      ],
      "text/plain": [
       "      Year of Death State of Death  Veteran Suicides State\n",
       "1040           2021    Connecticut                34    CT\n",
       "1041           2021          Maine                38    ME\n",
       "1042           2021  Massachusetts                57    MA\n",
       "1043           2021  New Hampshire                29    NH\n",
       "1044           2021     New Jersey                53    NJ"
      ]
     },
     "execution_count": 28,
     "metadata": {},
     "output_type": "execute_result"
    }
   ],
   "source": [
    "#Call function to create 'State' column in dataframe df_state_total_2021 with state abbreviation\n",
    "\n",
    "state_abbrev_mapping(df = df_state_total_2021,\n",
    "                     col= 'State of Death',\n",
    "                     output_abbr = True,\n",
    "                     add_new_col = True,\n",
    "                     new_col = 'State',\n",
    "                     case = 'upper')\n",
    "\n",
    "#Display dataframe using head()\n",
    "\n",
    "df_state_total_2021.head()"
   ]
  },
  {
   "cell_type": "markdown",
   "id": "e657f000",
   "metadata": {},
   "source": [
    "Now that we have the state abbreviation we will create the chloropleth map."
   ]
  },
  {
   "cell_type": "code",
   "execution_count": 29,
   "id": "a1fc40ef",
   "metadata": {},
   "outputs": [
    {
     "data": {
      "application/vnd.plotly.v1+json": {
       "config": {
        "plotlyServerURL": "https://plot.ly"
       },
       "data": [
        {
         "colorbar": {
          "title": {
           "text": "2021 Veteran Suicides"
          }
         },
         "colorscale": [
          [
           0,
           "rgb(247,252,245)"
          ],
          [
           0.125,
           "rgb(229,245,224)"
          ],
          [
           0.25,
           "rgb(199,233,192)"
          ],
          [
           0.375,
           "rgb(161,217,155)"
          ],
          [
           0.5,
           "rgb(116,196,118)"
          ],
          [
           0.625,
           "rgb(65,171,93)"
          ],
          [
           0.75,
           "rgb(35,139,69)"
          ],
          [
           0.875,
           "rgb(0,109,44)"
          ],
          [
           1,
           "rgb(0,68,27)"
          ]
         ],
         "locationmode": "USA-states",
         "locations": [
          "CT",
          "ME",
          "MA",
          "NH",
          "NJ",
          "NY",
          "PA",
          "RI",
          "VT",
          "IL",
          "IN",
          "IA",
          "KS",
          "MI",
          "MN",
          "MO",
          "NE",
          "ND",
          "OH",
          "SD",
          "WI",
          "AL",
          "AR",
          "DE",
          "DC",
          "FL",
          "GA",
          "KY",
          "LA",
          "MD",
          "MS",
          "NC",
          "OK",
          "SC",
          "TN",
          "TX",
          "VA",
          "WV",
          "AK",
          "AZ",
          "CA",
          "CO",
          "HI",
          "ID",
          "MT",
          "NV",
          "NM",
          "OR",
          "UT",
          "WA",
          "WY"
         ],
         "text": [
          "Connecticut",
          "Maine",
          "Massachusetts",
          "New Hampshire",
          "New Jersey",
          "New York",
          "Pennsylvania",
          "Rhode Island",
          "Vermont",
          "Illinois",
          "Indiana",
          "Iowa",
          "Kansas",
          "Michigan",
          "Minnesota",
          "Missouri",
          "Nebraska",
          "North Dakota",
          "Ohio",
          "South Dakota",
          "Wisconsin",
          "Alabama",
          "Arkansas",
          "Delaware",
          "District of Columbia",
          "Florida",
          "Georgia",
          "Kentucky",
          "Louisiana",
          "Maryland",
          "Mississippi",
          "North Carolina",
          "Oklahoma",
          "South Carolina",
          "Tennessee",
          "Texas",
          "Virginia",
          "West Virginia",
          "Alaska",
          "Arizona",
          "California",
          "Colorado",
          "Hawaii",
          "Idaho",
          "Montana",
          "Nevada",
          "New Mexico",
          "Oregon",
          "Utah",
          "Washington",
          "Wyoming"
         ],
         "type": "choropleth",
         "z": [
          34,
          38,
          57,
          29,
          53,
          139,
          246,
          11,
          18,
          155,
          139,
          68,
          66,
          171,
          91,
          185,
          43,
          14,
          242,
          32,
          109,
          125,
          82,
          23,
          10,
          546,
          226,
          98,
          79,
          89,
          63,
          203,
          131,
          122,
          177,
          583,
          193,
          54,
          26,
          241,
          461,
          212,
          20,
          54,
          44,
          111,
          69,
          139,
          62,
          183,
          32
         ]
        }
       ],
       "layout": {
        "geo": {
         "scope": "usa"
        },
        "template": {
         "data": {
          "bar": [
           {
            "error_x": {
             "color": "#2a3f5f"
            },
            "error_y": {
             "color": "#2a3f5f"
            },
            "marker": {
             "line": {
              "color": "#E5ECF6",
              "width": 0.5
             },
             "pattern": {
              "fillmode": "overlay",
              "size": 10,
              "solidity": 0.2
             }
            },
            "type": "bar"
           }
          ],
          "barpolar": [
           {
            "marker": {
             "line": {
              "color": "#E5ECF6",
              "width": 0.5
             },
             "pattern": {
              "fillmode": "overlay",
              "size": 10,
              "solidity": 0.2
             }
            },
            "type": "barpolar"
           }
          ],
          "carpet": [
           {
            "aaxis": {
             "endlinecolor": "#2a3f5f",
             "gridcolor": "white",
             "linecolor": "white",
             "minorgridcolor": "white",
             "startlinecolor": "#2a3f5f"
            },
            "baxis": {
             "endlinecolor": "#2a3f5f",
             "gridcolor": "white",
             "linecolor": "white",
             "minorgridcolor": "white",
             "startlinecolor": "#2a3f5f"
            },
            "type": "carpet"
           }
          ],
          "choropleth": [
           {
            "colorbar": {
             "outlinewidth": 0,
             "ticks": ""
            },
            "type": "choropleth"
           }
          ],
          "contour": [
           {
            "colorbar": {
             "outlinewidth": 0,
             "ticks": ""
            },
            "colorscale": [
             [
              0,
              "#0d0887"
             ],
             [
              0.1111111111111111,
              "#46039f"
             ],
             [
              0.2222222222222222,
              "#7201a8"
             ],
             [
              0.3333333333333333,
              "#9c179e"
             ],
             [
              0.4444444444444444,
              "#bd3786"
             ],
             [
              0.5555555555555556,
              "#d8576b"
             ],
             [
              0.6666666666666666,
              "#ed7953"
             ],
             [
              0.7777777777777778,
              "#fb9f3a"
             ],
             [
              0.8888888888888888,
              "#fdca26"
             ],
             [
              1,
              "#f0f921"
             ]
            ],
            "type": "contour"
           }
          ],
          "contourcarpet": [
           {
            "colorbar": {
             "outlinewidth": 0,
             "ticks": ""
            },
            "type": "contourcarpet"
           }
          ],
          "heatmap": [
           {
            "colorbar": {
             "outlinewidth": 0,
             "ticks": ""
            },
            "colorscale": [
             [
              0,
              "#0d0887"
             ],
             [
              0.1111111111111111,
              "#46039f"
             ],
             [
              0.2222222222222222,
              "#7201a8"
             ],
             [
              0.3333333333333333,
              "#9c179e"
             ],
             [
              0.4444444444444444,
              "#bd3786"
             ],
             [
              0.5555555555555556,
              "#d8576b"
             ],
             [
              0.6666666666666666,
              "#ed7953"
             ],
             [
              0.7777777777777778,
              "#fb9f3a"
             ],
             [
              0.8888888888888888,
              "#fdca26"
             ],
             [
              1,
              "#f0f921"
             ]
            ],
            "type": "heatmap"
           }
          ],
          "heatmapgl": [
           {
            "colorbar": {
             "outlinewidth": 0,
             "ticks": ""
            },
            "colorscale": [
             [
              0,
              "#0d0887"
             ],
             [
              0.1111111111111111,
              "#46039f"
             ],
             [
              0.2222222222222222,
              "#7201a8"
             ],
             [
              0.3333333333333333,
              "#9c179e"
             ],
             [
              0.4444444444444444,
              "#bd3786"
             ],
             [
              0.5555555555555556,
              "#d8576b"
             ],
             [
              0.6666666666666666,
              "#ed7953"
             ],
             [
              0.7777777777777778,
              "#fb9f3a"
             ],
             [
              0.8888888888888888,
              "#fdca26"
             ],
             [
              1,
              "#f0f921"
             ]
            ],
            "type": "heatmapgl"
           }
          ],
          "histogram": [
           {
            "marker": {
             "pattern": {
              "fillmode": "overlay",
              "size": 10,
              "solidity": 0.2
             }
            },
            "type": "histogram"
           }
          ],
          "histogram2d": [
           {
            "colorbar": {
             "outlinewidth": 0,
             "ticks": ""
            },
            "colorscale": [
             [
              0,
              "#0d0887"
             ],
             [
              0.1111111111111111,
              "#46039f"
             ],
             [
              0.2222222222222222,
              "#7201a8"
             ],
             [
              0.3333333333333333,
              "#9c179e"
             ],
             [
              0.4444444444444444,
              "#bd3786"
             ],
             [
              0.5555555555555556,
              "#d8576b"
             ],
             [
              0.6666666666666666,
              "#ed7953"
             ],
             [
              0.7777777777777778,
              "#fb9f3a"
             ],
             [
              0.8888888888888888,
              "#fdca26"
             ],
             [
              1,
              "#f0f921"
             ]
            ],
            "type": "histogram2d"
           }
          ],
          "histogram2dcontour": [
           {
            "colorbar": {
             "outlinewidth": 0,
             "ticks": ""
            },
            "colorscale": [
             [
              0,
              "#0d0887"
             ],
             [
              0.1111111111111111,
              "#46039f"
             ],
             [
              0.2222222222222222,
              "#7201a8"
             ],
             [
              0.3333333333333333,
              "#9c179e"
             ],
             [
              0.4444444444444444,
              "#bd3786"
             ],
             [
              0.5555555555555556,
              "#d8576b"
             ],
             [
              0.6666666666666666,
              "#ed7953"
             ],
             [
              0.7777777777777778,
              "#fb9f3a"
             ],
             [
              0.8888888888888888,
              "#fdca26"
             ],
             [
              1,
              "#f0f921"
             ]
            ],
            "type": "histogram2dcontour"
           }
          ],
          "mesh3d": [
           {
            "colorbar": {
             "outlinewidth": 0,
             "ticks": ""
            },
            "type": "mesh3d"
           }
          ],
          "parcoords": [
           {
            "line": {
             "colorbar": {
              "outlinewidth": 0,
              "ticks": ""
             }
            },
            "type": "parcoords"
           }
          ],
          "pie": [
           {
            "automargin": true,
            "type": "pie"
           }
          ],
          "scatter": [
           {
            "fillpattern": {
             "fillmode": "overlay",
             "size": 10,
             "solidity": 0.2
            },
            "type": "scatter"
           }
          ],
          "scatter3d": [
           {
            "line": {
             "colorbar": {
              "outlinewidth": 0,
              "ticks": ""
             }
            },
            "marker": {
             "colorbar": {
              "outlinewidth": 0,
              "ticks": ""
             }
            },
            "type": "scatter3d"
           }
          ],
          "scattercarpet": [
           {
            "marker": {
             "colorbar": {
              "outlinewidth": 0,
              "ticks": ""
             }
            },
            "type": "scattercarpet"
           }
          ],
          "scattergeo": [
           {
            "marker": {
             "colorbar": {
              "outlinewidth": 0,
              "ticks": ""
             }
            },
            "type": "scattergeo"
           }
          ],
          "scattergl": [
           {
            "marker": {
             "colorbar": {
              "outlinewidth": 0,
              "ticks": ""
             }
            },
            "type": "scattergl"
           }
          ],
          "scattermapbox": [
           {
            "marker": {
             "colorbar": {
              "outlinewidth": 0,
              "ticks": ""
             }
            },
            "type": "scattermapbox"
           }
          ],
          "scatterpolar": [
           {
            "marker": {
             "colorbar": {
              "outlinewidth": 0,
              "ticks": ""
             }
            },
            "type": "scatterpolar"
           }
          ],
          "scatterpolargl": [
           {
            "marker": {
             "colorbar": {
              "outlinewidth": 0,
              "ticks": ""
             }
            },
            "type": "scatterpolargl"
           }
          ],
          "scatterternary": [
           {
            "marker": {
             "colorbar": {
              "outlinewidth": 0,
              "ticks": ""
             }
            },
            "type": "scatterternary"
           }
          ],
          "surface": [
           {
            "colorbar": {
             "outlinewidth": 0,
             "ticks": ""
            },
            "colorscale": [
             [
              0,
              "#0d0887"
             ],
             [
              0.1111111111111111,
              "#46039f"
             ],
             [
              0.2222222222222222,
              "#7201a8"
             ],
             [
              0.3333333333333333,
              "#9c179e"
             ],
             [
              0.4444444444444444,
              "#bd3786"
             ],
             [
              0.5555555555555556,
              "#d8576b"
             ],
             [
              0.6666666666666666,
              "#ed7953"
             ],
             [
              0.7777777777777778,
              "#fb9f3a"
             ],
             [
              0.8888888888888888,
              "#fdca26"
             ],
             [
              1,
              "#f0f921"
             ]
            ],
            "type": "surface"
           }
          ],
          "table": [
           {
            "cells": {
             "fill": {
              "color": "#EBF0F8"
             },
             "line": {
              "color": "white"
             }
            },
            "header": {
             "fill": {
              "color": "#C8D4E3"
             },
             "line": {
              "color": "white"
             }
            },
            "type": "table"
           }
          ]
         },
         "layout": {
          "annotationdefaults": {
           "arrowcolor": "#2a3f5f",
           "arrowhead": 0,
           "arrowwidth": 1
          },
          "autotypenumbers": "strict",
          "coloraxis": {
           "colorbar": {
            "outlinewidth": 0,
            "ticks": ""
           }
          },
          "colorscale": {
           "diverging": [
            [
             0,
             "#8e0152"
            ],
            [
             0.1,
             "#c51b7d"
            ],
            [
             0.2,
             "#de77ae"
            ],
            [
             0.3,
             "#f1b6da"
            ],
            [
             0.4,
             "#fde0ef"
            ],
            [
             0.5,
             "#f7f7f7"
            ],
            [
             0.6,
             "#e6f5d0"
            ],
            [
             0.7,
             "#b8e186"
            ],
            [
             0.8,
             "#7fbc41"
            ],
            [
             0.9,
             "#4d9221"
            ],
            [
             1,
             "#276419"
            ]
           ],
           "sequential": [
            [
             0,
             "#0d0887"
            ],
            [
             0.1111111111111111,
             "#46039f"
            ],
            [
             0.2222222222222222,
             "#7201a8"
            ],
            [
             0.3333333333333333,
             "#9c179e"
            ],
            [
             0.4444444444444444,
             "#bd3786"
            ],
            [
             0.5555555555555556,
             "#d8576b"
            ],
            [
             0.6666666666666666,
             "#ed7953"
            ],
            [
             0.7777777777777778,
             "#fb9f3a"
            ],
            [
             0.8888888888888888,
             "#fdca26"
            ],
            [
             1,
             "#f0f921"
            ]
           ],
           "sequentialminus": [
            [
             0,
             "#0d0887"
            ],
            [
             0.1111111111111111,
             "#46039f"
            ],
            [
             0.2222222222222222,
             "#7201a8"
            ],
            [
             0.3333333333333333,
             "#9c179e"
            ],
            [
             0.4444444444444444,
             "#bd3786"
            ],
            [
             0.5555555555555556,
             "#d8576b"
            ],
            [
             0.6666666666666666,
             "#ed7953"
            ],
            [
             0.7777777777777778,
             "#fb9f3a"
            ],
            [
             0.8888888888888888,
             "#fdca26"
            ],
            [
             1,
             "#f0f921"
            ]
           ]
          },
          "colorway": [
           "#636efa",
           "#EF553B",
           "#00cc96",
           "#ab63fa",
           "#FFA15A",
           "#19d3f3",
           "#FF6692",
           "#B6E880",
           "#FF97FF",
           "#FECB52"
          ],
          "font": {
           "color": "#2a3f5f"
          },
          "geo": {
           "bgcolor": "white",
           "lakecolor": "white",
           "landcolor": "#E5ECF6",
           "showlakes": true,
           "showland": true,
           "subunitcolor": "white"
          },
          "hoverlabel": {
           "align": "left"
          },
          "hovermode": "closest",
          "mapbox": {
           "style": "light"
          },
          "paper_bgcolor": "white",
          "plot_bgcolor": "#E5ECF6",
          "polar": {
           "angularaxis": {
            "gridcolor": "white",
            "linecolor": "white",
            "ticks": ""
           },
           "bgcolor": "#E5ECF6",
           "radialaxis": {
            "gridcolor": "white",
            "linecolor": "white",
            "ticks": ""
           }
          },
          "scene": {
           "xaxis": {
            "backgroundcolor": "#E5ECF6",
            "gridcolor": "white",
            "gridwidth": 2,
            "linecolor": "white",
            "showbackground": true,
            "ticks": "",
            "zerolinecolor": "white"
           },
           "yaxis": {
            "backgroundcolor": "#E5ECF6",
            "gridcolor": "white",
            "gridwidth": 2,
            "linecolor": "white",
            "showbackground": true,
            "ticks": "",
            "zerolinecolor": "white"
           },
           "zaxis": {
            "backgroundcolor": "#E5ECF6",
            "gridcolor": "white",
            "gridwidth": 2,
            "linecolor": "white",
            "showbackground": true,
            "ticks": "",
            "zerolinecolor": "white"
           }
          },
          "shapedefaults": {
           "line": {
            "color": "#2a3f5f"
           }
          },
          "ternary": {
           "aaxis": {
            "gridcolor": "white",
            "linecolor": "white",
            "ticks": ""
           },
           "baxis": {
            "gridcolor": "white",
            "linecolor": "white",
            "ticks": ""
           },
           "bgcolor": "#E5ECF6",
           "caxis": {
            "gridcolor": "white",
            "linecolor": "white",
            "ticks": ""
           }
          },
          "title": {
           "x": 0.05
          },
          "xaxis": {
           "automargin": true,
           "gridcolor": "white",
           "linecolor": "white",
           "ticks": "",
           "title": {
            "standoff": 15
           },
           "zerolinecolor": "white",
           "zerolinewidth": 2
          },
          "yaxis": {
           "automargin": true,
           "gridcolor": "white",
           "linecolor": "white",
           "ticks": "",
           "title": {
            "standoff": 15
           },
           "zerolinecolor": "white",
           "zerolinewidth": 2
          }
         }
        },
        "title": {
         "text": "2021 Veteran Suicides by State"
        }
       }
      },
      "text/html": [
       "<div>                            <div id=\"e8072a7a-995d-498c-acad-0b9ab16470e1\" class=\"plotly-graph-div\" style=\"height:525px; width:100%;\"></div>            <script type=\"text/javascript\">                require([\"plotly\"], function(Plotly) {                    window.PLOTLYENV=window.PLOTLYENV || {};                                    if (document.getElementById(\"e8072a7a-995d-498c-acad-0b9ab16470e1\")) {                    Plotly.newPlot(                        \"e8072a7a-995d-498c-acad-0b9ab16470e1\",                        [{\"colorbar\":{\"title\":{\"text\":\"2021 Veteran Suicides\"}},\"colorscale\":[[0.0,\"rgb(247,252,245)\"],[0.125,\"rgb(229,245,224)\"],[0.25,\"rgb(199,233,192)\"],[0.375,\"rgb(161,217,155)\"],[0.5,\"rgb(116,196,118)\"],[0.625,\"rgb(65,171,93)\"],[0.75,\"rgb(35,139,69)\"],[0.875,\"rgb(0,109,44)\"],[1.0,\"rgb(0,68,27)\"]],\"locationmode\":\"USA-states\",\"locations\":[\"CT\",\"ME\",\"MA\",\"NH\",\"NJ\",\"NY\",\"PA\",\"RI\",\"VT\",\"IL\",\"IN\",\"IA\",\"KS\",\"MI\",\"MN\",\"MO\",\"NE\",\"ND\",\"OH\",\"SD\",\"WI\",\"AL\",\"AR\",\"DE\",\"DC\",\"FL\",\"GA\",\"KY\",\"LA\",\"MD\",\"MS\",\"NC\",\"OK\",\"SC\",\"TN\",\"TX\",\"VA\",\"WV\",\"AK\",\"AZ\",\"CA\",\"CO\",\"HI\",\"ID\",\"MT\",\"NV\",\"NM\",\"OR\",\"UT\",\"WA\",\"WY\"],\"text\":[\"Connecticut\",\"Maine\",\"Massachusetts\",\"New Hampshire\",\"New Jersey\",\"New York\",\"Pennsylvania\",\"Rhode Island\",\"Vermont\",\"Illinois\",\"Indiana\",\"Iowa\",\"Kansas\",\"Michigan\",\"Minnesota\",\"Missouri\",\"Nebraska\",\"North Dakota\",\"Ohio\",\"South Dakota\",\"Wisconsin\",\"Alabama\",\"Arkansas\",\"Delaware\",\"District of Columbia\",\"Florida\",\"Georgia\",\"Kentucky\",\"Louisiana\",\"Maryland\",\"Mississippi\",\"North Carolina\",\"Oklahoma\",\"South Carolina\",\"Tennessee\",\"Texas\",\"Virginia\",\"West Virginia\",\"Alaska\",\"Arizona\",\"California\",\"Colorado\",\"Hawaii\",\"Idaho\",\"Montana\",\"Nevada\",\"New Mexico\",\"Oregon\",\"Utah\",\"Washington\",\"Wyoming\"],\"z\":[34,38,57,29,53,139,246,11,18,155,139,68,66,171,91,185,43,14,242,32,109,125,82,23,10,546,226,98,79,89,63,203,131,122,177,583,193,54,26,241,461,212,20,54,44,111,69,139,62,183,32],\"type\":\"choropleth\"}],                        {\"template\":{\"data\":{\"histogram2dcontour\":[{\"type\":\"histogram2dcontour\",\"colorbar\":{\"outlinewidth\":0,\"ticks\":\"\"},\"colorscale\":[[0.0,\"#0d0887\"],[0.1111111111111111,\"#46039f\"],[0.2222222222222222,\"#7201a8\"],[0.3333333333333333,\"#9c179e\"],[0.4444444444444444,\"#bd3786\"],[0.5555555555555556,\"#d8576b\"],[0.6666666666666666,\"#ed7953\"],[0.7777777777777778,\"#fb9f3a\"],[0.8888888888888888,\"#fdca26\"],[1.0,\"#f0f921\"]]}],\"choropleth\":[{\"type\":\"choropleth\",\"colorbar\":{\"outlinewidth\":0,\"ticks\":\"\"}}],\"histogram2d\":[{\"type\":\"histogram2d\",\"colorbar\":{\"outlinewidth\":0,\"ticks\":\"\"},\"colorscale\":[[0.0,\"#0d0887\"],[0.1111111111111111,\"#46039f\"],[0.2222222222222222,\"#7201a8\"],[0.3333333333333333,\"#9c179e\"],[0.4444444444444444,\"#bd3786\"],[0.5555555555555556,\"#d8576b\"],[0.6666666666666666,\"#ed7953\"],[0.7777777777777778,\"#fb9f3a\"],[0.8888888888888888,\"#fdca26\"],[1.0,\"#f0f921\"]]}],\"heatmap\":[{\"type\":\"heatmap\",\"colorbar\":{\"outlinewidth\":0,\"ticks\":\"\"},\"colorscale\":[[0.0,\"#0d0887\"],[0.1111111111111111,\"#46039f\"],[0.2222222222222222,\"#7201a8\"],[0.3333333333333333,\"#9c179e\"],[0.4444444444444444,\"#bd3786\"],[0.5555555555555556,\"#d8576b\"],[0.6666666666666666,\"#ed7953\"],[0.7777777777777778,\"#fb9f3a\"],[0.8888888888888888,\"#fdca26\"],[1.0,\"#f0f921\"]]}],\"heatmapgl\":[{\"type\":\"heatmapgl\",\"colorbar\":{\"outlinewidth\":0,\"ticks\":\"\"},\"colorscale\":[[0.0,\"#0d0887\"],[0.1111111111111111,\"#46039f\"],[0.2222222222222222,\"#7201a8\"],[0.3333333333333333,\"#9c179e\"],[0.4444444444444444,\"#bd3786\"],[0.5555555555555556,\"#d8576b\"],[0.6666666666666666,\"#ed7953\"],[0.7777777777777778,\"#fb9f3a\"],[0.8888888888888888,\"#fdca26\"],[1.0,\"#f0f921\"]]}],\"contourcarpet\":[{\"type\":\"contourcarpet\",\"colorbar\":{\"outlinewidth\":0,\"ticks\":\"\"}}],\"contour\":[{\"type\":\"contour\",\"colorbar\":{\"outlinewidth\":0,\"ticks\":\"\"},\"colorscale\":[[0.0,\"#0d0887\"],[0.1111111111111111,\"#46039f\"],[0.2222222222222222,\"#7201a8\"],[0.3333333333333333,\"#9c179e\"],[0.4444444444444444,\"#bd3786\"],[0.5555555555555556,\"#d8576b\"],[0.6666666666666666,\"#ed7953\"],[0.7777777777777778,\"#fb9f3a\"],[0.8888888888888888,\"#fdca26\"],[1.0,\"#f0f921\"]]}],\"surface\":[{\"type\":\"surface\",\"colorbar\":{\"outlinewidth\":0,\"ticks\":\"\"},\"colorscale\":[[0.0,\"#0d0887\"],[0.1111111111111111,\"#46039f\"],[0.2222222222222222,\"#7201a8\"],[0.3333333333333333,\"#9c179e\"],[0.4444444444444444,\"#bd3786\"],[0.5555555555555556,\"#d8576b\"],[0.6666666666666666,\"#ed7953\"],[0.7777777777777778,\"#fb9f3a\"],[0.8888888888888888,\"#fdca26\"],[1.0,\"#f0f921\"]]}],\"mesh3d\":[{\"type\":\"mesh3d\",\"colorbar\":{\"outlinewidth\":0,\"ticks\":\"\"}}],\"scatter\":[{\"fillpattern\":{\"fillmode\":\"overlay\",\"size\":10,\"solidity\":0.2},\"type\":\"scatter\"}],\"parcoords\":[{\"type\":\"parcoords\",\"line\":{\"colorbar\":{\"outlinewidth\":0,\"ticks\":\"\"}}}],\"scatterpolargl\":[{\"type\":\"scatterpolargl\",\"marker\":{\"colorbar\":{\"outlinewidth\":0,\"ticks\":\"\"}}}],\"bar\":[{\"error_x\":{\"color\":\"#2a3f5f\"},\"error_y\":{\"color\":\"#2a3f5f\"},\"marker\":{\"line\":{\"color\":\"#E5ECF6\",\"width\":0.5},\"pattern\":{\"fillmode\":\"overlay\",\"size\":10,\"solidity\":0.2}},\"type\":\"bar\"}],\"scattergeo\":[{\"type\":\"scattergeo\",\"marker\":{\"colorbar\":{\"outlinewidth\":0,\"ticks\":\"\"}}}],\"scatterpolar\":[{\"type\":\"scatterpolar\",\"marker\":{\"colorbar\":{\"outlinewidth\":0,\"ticks\":\"\"}}}],\"histogram\":[{\"marker\":{\"pattern\":{\"fillmode\":\"overlay\",\"size\":10,\"solidity\":0.2}},\"type\":\"histogram\"}],\"scattergl\":[{\"type\":\"scattergl\",\"marker\":{\"colorbar\":{\"outlinewidth\":0,\"ticks\":\"\"}}}],\"scatter3d\":[{\"type\":\"scatter3d\",\"line\":{\"colorbar\":{\"outlinewidth\":0,\"ticks\":\"\"}},\"marker\":{\"colorbar\":{\"outlinewidth\":0,\"ticks\":\"\"}}}],\"scattermapbox\":[{\"type\":\"scattermapbox\",\"marker\":{\"colorbar\":{\"outlinewidth\":0,\"ticks\":\"\"}}}],\"scatterternary\":[{\"type\":\"scatterternary\",\"marker\":{\"colorbar\":{\"outlinewidth\":0,\"ticks\":\"\"}}}],\"scattercarpet\":[{\"type\":\"scattercarpet\",\"marker\":{\"colorbar\":{\"outlinewidth\":0,\"ticks\":\"\"}}}],\"carpet\":[{\"aaxis\":{\"endlinecolor\":\"#2a3f5f\",\"gridcolor\":\"white\",\"linecolor\":\"white\",\"minorgridcolor\":\"white\",\"startlinecolor\":\"#2a3f5f\"},\"baxis\":{\"endlinecolor\":\"#2a3f5f\",\"gridcolor\":\"white\",\"linecolor\":\"white\",\"minorgridcolor\":\"white\",\"startlinecolor\":\"#2a3f5f\"},\"type\":\"carpet\"}],\"table\":[{\"cells\":{\"fill\":{\"color\":\"#EBF0F8\"},\"line\":{\"color\":\"white\"}},\"header\":{\"fill\":{\"color\":\"#C8D4E3\"},\"line\":{\"color\":\"white\"}},\"type\":\"table\"}],\"barpolar\":[{\"marker\":{\"line\":{\"color\":\"#E5ECF6\",\"width\":0.5},\"pattern\":{\"fillmode\":\"overlay\",\"size\":10,\"solidity\":0.2}},\"type\":\"barpolar\"}],\"pie\":[{\"automargin\":true,\"type\":\"pie\"}]},\"layout\":{\"autotypenumbers\":\"strict\",\"colorway\":[\"#636efa\",\"#EF553B\",\"#00cc96\",\"#ab63fa\",\"#FFA15A\",\"#19d3f3\",\"#FF6692\",\"#B6E880\",\"#FF97FF\",\"#FECB52\"],\"font\":{\"color\":\"#2a3f5f\"},\"hovermode\":\"closest\",\"hoverlabel\":{\"align\":\"left\"},\"paper_bgcolor\":\"white\",\"plot_bgcolor\":\"#E5ECF6\",\"polar\":{\"bgcolor\":\"#E5ECF6\",\"angularaxis\":{\"gridcolor\":\"white\",\"linecolor\":\"white\",\"ticks\":\"\"},\"radialaxis\":{\"gridcolor\":\"white\",\"linecolor\":\"white\",\"ticks\":\"\"}},\"ternary\":{\"bgcolor\":\"#E5ECF6\",\"aaxis\":{\"gridcolor\":\"white\",\"linecolor\":\"white\",\"ticks\":\"\"},\"baxis\":{\"gridcolor\":\"white\",\"linecolor\":\"white\",\"ticks\":\"\"},\"caxis\":{\"gridcolor\":\"white\",\"linecolor\":\"white\",\"ticks\":\"\"}},\"coloraxis\":{\"colorbar\":{\"outlinewidth\":0,\"ticks\":\"\"}},\"colorscale\":{\"sequential\":[[0.0,\"#0d0887\"],[0.1111111111111111,\"#46039f\"],[0.2222222222222222,\"#7201a8\"],[0.3333333333333333,\"#9c179e\"],[0.4444444444444444,\"#bd3786\"],[0.5555555555555556,\"#d8576b\"],[0.6666666666666666,\"#ed7953\"],[0.7777777777777778,\"#fb9f3a\"],[0.8888888888888888,\"#fdca26\"],[1.0,\"#f0f921\"]],\"sequentialminus\":[[0.0,\"#0d0887\"],[0.1111111111111111,\"#46039f\"],[0.2222222222222222,\"#7201a8\"],[0.3333333333333333,\"#9c179e\"],[0.4444444444444444,\"#bd3786\"],[0.5555555555555556,\"#d8576b\"],[0.6666666666666666,\"#ed7953\"],[0.7777777777777778,\"#fb9f3a\"],[0.8888888888888888,\"#fdca26\"],[1.0,\"#f0f921\"]],\"diverging\":[[0,\"#8e0152\"],[0.1,\"#c51b7d\"],[0.2,\"#de77ae\"],[0.3,\"#f1b6da\"],[0.4,\"#fde0ef\"],[0.5,\"#f7f7f7\"],[0.6,\"#e6f5d0\"],[0.7,\"#b8e186\"],[0.8,\"#7fbc41\"],[0.9,\"#4d9221\"],[1,\"#276419\"]]},\"xaxis\":{\"gridcolor\":\"white\",\"linecolor\":\"white\",\"ticks\":\"\",\"title\":{\"standoff\":15},\"zerolinecolor\":\"white\",\"automargin\":true,\"zerolinewidth\":2},\"yaxis\":{\"gridcolor\":\"white\",\"linecolor\":\"white\",\"ticks\":\"\",\"title\":{\"standoff\":15},\"zerolinecolor\":\"white\",\"automargin\":true,\"zerolinewidth\":2},\"scene\":{\"xaxis\":{\"backgroundcolor\":\"#E5ECF6\",\"gridcolor\":\"white\",\"linecolor\":\"white\",\"showbackground\":true,\"ticks\":\"\",\"zerolinecolor\":\"white\",\"gridwidth\":2},\"yaxis\":{\"backgroundcolor\":\"#E5ECF6\",\"gridcolor\":\"white\",\"linecolor\":\"white\",\"showbackground\":true,\"ticks\":\"\",\"zerolinecolor\":\"white\",\"gridwidth\":2},\"zaxis\":{\"backgroundcolor\":\"#E5ECF6\",\"gridcolor\":\"white\",\"linecolor\":\"white\",\"showbackground\":true,\"ticks\":\"\",\"zerolinecolor\":\"white\",\"gridwidth\":2}},\"shapedefaults\":{\"line\":{\"color\":\"#2a3f5f\"}},\"annotationdefaults\":{\"arrowcolor\":\"#2a3f5f\",\"arrowhead\":0,\"arrowwidth\":1},\"geo\":{\"bgcolor\":\"white\",\"landcolor\":\"#E5ECF6\",\"subunitcolor\":\"white\",\"showland\":true,\"showlakes\":true,\"lakecolor\":\"white\"},\"title\":{\"x\":0.05},\"mapbox\":{\"style\":\"light\"}}},\"title\":{\"text\":\"2021 Veteran Suicides by State\"},\"geo\":{\"scope\":\"usa\"}},                        {\"responsive\": true}                    ).then(function(){\n",
       "                            \n",
       "var gd = document.getElementById('e8072a7a-995d-498c-acad-0b9ab16470e1');\n",
       "var x = new MutationObserver(function (mutations, observer) {{\n",
       "        var display = window.getComputedStyle(gd).display;\n",
       "        if (!display || display === 'none') {{\n",
       "            console.log([gd, 'removed!']);\n",
       "            Plotly.purge(gd);\n",
       "            observer.disconnect();\n",
       "        }}\n",
       "}});\n",
       "\n",
       "// Listen for the removal of the full notebook cells\n",
       "var notebookContainer = gd.closest('#notebook-container');\n",
       "if (notebookContainer) {{\n",
       "    x.observe(notebookContainer, {childList: true});\n",
       "}}\n",
       "\n",
       "// Listen for the clearing of the current output cell\n",
       "var outputEl = gd.closest('.output');\n",
       "if (outputEl) {{\n",
       "    x.observe(outputEl, {childList: true});\n",
       "}}\n",
       "\n",
       "                        })                };                });            </script>        </div>"
      ]
     },
     "metadata": {},
     "output_type": "display_data"
    }
   ],
   "source": [
    "#Creating a chloropleth map\n",
    "\n",
    "fig = go.Figure(data=go.Choropleth(\n",
    "    locations=df_state_total_2021['State'],\n",
    "    z = df_state_total_2021['Veteran Suicides'],\n",
    "    locationmode = 'USA-states',\n",
    "    colorscale = 'Greens',\n",
    "    colorbar_title = \"2021 Veteran Suicides\",\n",
    "    text = df_state_total_2021['State of Death']\n",
    "))\n",
    "\n",
    "#layout for chloropleth\n",
    "\n",
    "fig.update_layout(\n",
    "    title_text = '2021 Veteran Suicides by State',\n",
    "    geo_scope='usa',\n",
    ")\n",
    "\n",
    "#shows the chloropleth\n",
    "\n",
    "fig.show()"
   ]
  },
  {
   "cell_type": "markdown",
   "id": "d605ac9f",
   "metadata": {},
   "source": [
    "Displayed as a Cholorpleth map of the Unites States that is interactive and displays veteran suicides by state differentiated by color.  The colorscale on the right from top to bottom show the high to low number of verteran suicides in 2021.  This allows us to see the difference between the 50 states and determine the states with the highest number of veteran suicides as well as the low ones."
   ]
  },
  {
   "cell_type": "code",
   "execution_count": 30,
   "id": "e84209aa",
   "metadata": {},
   "outputs": [
    {
     "data": {
      "text/plain": [
       "<BarContainer object of 51 artists>"
      ]
     },
     "execution_count": 30,
     "metadata": {},
     "output_type": "execute_result"
    },
    {
     "data": {
      "image/png": "[encoded data removed]",
      "text/plain": [
       "<Figure size 1300x500 with 1 Axes>"
      ]
     },
     "metadata": {},
     "output_type": "display_data"
    }
   ],
   "source": [
    "#Sort the dataframe df_state_total_2021 by the column 'Veteran Suicides' from lowest to highest\n",
    "\n",
    "df_state_total_2021.sort_values(by='Veteran Suicides',inplace=True)\n",
    "\n",
    "#Set the size of the figure\n",
    "\n",
    "plt.rcParams['figure.figsize']=[13,5]\n",
    "\n",
    "#Use tight_layout to ensure the labels are displayed correctly\n",
    "\n",
    "plt.tight_layout()\n",
    "\n",
    "#Create the layout\n",
    "\n",
    "plt.xlabel('States')\n",
    "plt.ylabel('Veteran Suicides')\n",
    "plt.title('2021 Veteran Suicides by State',fontsize=15,fontweight='bold')\n",
    "\n",
    "#Rotate the state names using xticks(rotation)\n",
    "\n",
    "plt.xticks(rotation=90)\n",
    "\n",
    "#plot the barplot\n",
    "\n",
    "plt.bar(df_state_total_2021['State of Death'],df_state_total_2021['Veteran Suicides'])"
   ]
  },
  {
   "cell_type": "markdown",
   "id": "180dda82",
   "metadata": {},
   "source": [
    "Display a bar-chart of Veterance Suicides in 2021 of the 50 states and District of Columbia with the highest rates on the right and the lowest rates on the left side of the chart."
   ]
  },
  {
   "cell_type": "markdown",
   "id": "a30d4b5a",
   "metadata": {},
   "source": [
    "### Which region has the highest mean of veteran suicides?"
   ]
  },
  {
   "cell_type": "code",
   "execution_count": 31,
   "id": "e907041a",
   "metadata": {},
   "outputs": [
    {
     "name": "stdout",
     "output_type": "stream",
     "text": [
      "\u001b[1mMean of Veteran Suicides by Region: \u001b[0m\n",
      "                   Veteran Suicides\n",
      "Geographic Region                  \n",
      "All                     6374.619048\n",
      "Southern                 155.176471\n",
      "Western                  125.190476\n",
      "Midwestern               113.690476\n",
      "Northeastern              83.296296\n"
     ]
    }
   ],
   "source": [
    "#Create a dataframe that includes the region named df_region\n",
    "\n",
    "df_region=df_state[['Geographic Region','Veteran Suicides']]\n",
    "\n",
    "#print title in bold\n",
    "\n",
    "print('\\033[1m'+'Mean of Veteran Suicides by Region: '+'\\033[0m')\n",
    "\n",
    "#Create a dataframe with .groupby('Geographic Region') and calculate mean with .mean()\n",
    "\n",
    "df_region_mean=df_region.groupby('Geographic Region').mean()\n",
    "\n",
    "#Display Dataframe in descending order\n",
    "\n",
    "print(df_region_mean.sort_values(['Veteran Suicides'],ascending=False))"
   ]
  },
  {
   "cell_type": "markdown",
   "id": "555a0acd",
   "metadata": {},
   "source": [
    "Displaying a table of all years of veteran suicides shows that the geographic region with the highest mean was the Southern region."
   ]
  },
  {
   "cell_type": "code",
   "execution_count": 32,
   "id": "8ae6c2eb",
   "metadata": {},
   "outputs": [
    {
     "data": {
      "text/html": [
       "<div>\n",
       "<style scoped>\n",
       "    .dataframe tbody tr th:only-of-type {\n",
       "        vertical-align: middle;\n",
       "    }\n",
       "\n",
       "    .dataframe tbody tr th {\n",
       "        vertical-align: top;\n",
       "    }\n",
       "\n",
       "    .dataframe thead tr th {\n",
       "        text-align: left;\n",
       "    }\n",
       "\n",
       "    .dataframe thead tr:last-of-type th {\n",
       "        text-align: right;\n",
       "    }\n",
       "</style>\n",
       "<table border=\"1\" class=\"dataframe\">\n",
       "  <thead>\n",
       "    <tr>\n",
       "      <th></th>\n",
       "      <th colspan=\"8\" halign=\"left\">Veteran Suicides</th>\n",
       "    </tr>\n",
       "    <tr>\n",
       "      <th></th>\n",
       "      <th>count</th>\n",
       "      <th>mean</th>\n",
       "      <th>std</th>\n",
       "      <th>min</th>\n",
       "      <th>25%</th>\n",
       "      <th>50%</th>\n",
       "      <th>75%</th>\n",
       "      <th>max</th>\n",
       "    </tr>\n",
       "    <tr>\n",
       "      <th>Geographic Region</th>\n",
       "      <th></th>\n",
       "      <th></th>\n",
       "      <th></th>\n",
       "      <th></th>\n",
       "      <th></th>\n",
       "      <th></th>\n",
       "      <th></th>\n",
       "      <th></th>\n",
       "    </tr>\n",
       "  </thead>\n",
       "  <tbody>\n",
       "    <tr>\n",
       "      <th>All</th>\n",
       "      <td>21.0</td>\n",
       "      <td>6374.619048</td>\n",
       "      <td>239.518575</td>\n",
       "      <td>6000.0</td>\n",
       "      <td>6142.00</td>\n",
       "      <td>6447.0</td>\n",
       "      <td>6545.0</td>\n",
       "      <td>6718.0</td>\n",
       "    </tr>\n",
       "    <tr>\n",
       "      <th>Midwestern</th>\n",
       "      <td>252.0</td>\n",
       "      <td>113.690476</td>\n",
       "      <td>72.011505</td>\n",
       "      <td>10.0</td>\n",
       "      <td>53.75</td>\n",
       "      <td>105.0</td>\n",
       "      <td>170.0</td>\n",
       "      <td>295.0</td>\n",
       "    </tr>\n",
       "    <tr>\n",
       "      <th>Northeastern</th>\n",
       "      <td>189.0</td>\n",
       "      <td>83.296296</td>\n",
       "      <td>82.636715</td>\n",
       "      <td>10.0</td>\n",
       "      <td>29.00</td>\n",
       "      <td>47.0</td>\n",
       "      <td>87.0</td>\n",
       "      <td>299.0</td>\n",
       "    </tr>\n",
       "    <tr>\n",
       "      <th>Southern</th>\n",
       "      <td>357.0</td>\n",
       "      <td>155.176471</td>\n",
       "      <td>141.595621</td>\n",
       "      <td>10.0</td>\n",
       "      <td>77.00</td>\n",
       "      <td>113.0</td>\n",
       "      <td>182.0</td>\n",
       "      <td>600.0</td>\n",
       "    </tr>\n",
       "    <tr>\n",
       "      <th>Western</th>\n",
       "      <td>273.0</td>\n",
       "      <td>125.190476</td>\n",
       "      <td>133.551049</td>\n",
       "      <td>12.0</td>\n",
       "      <td>38.00</td>\n",
       "      <td>71.0</td>\n",
       "      <td>162.0</td>\n",
       "      <td>621.0</td>\n",
       "    </tr>\n",
       "  </tbody>\n",
       "</table>\n",
       "</div>"
      ],
      "text/plain": [
       "                  Veteran Suicides                                            \\\n",
       "                             count         mean         std     min      25%   \n",
       "Geographic Region                                                              \n",
       "All                           21.0  6374.619048  239.518575  6000.0  6142.00   \n",
       "Midwestern                   252.0   113.690476   72.011505    10.0    53.75   \n",
       "Northeastern                 189.0    83.296296   82.636715    10.0    29.00   \n",
       "Southern                     357.0   155.176471  141.595621    10.0    77.00   \n",
       "Western                      273.0   125.190476  133.551049    12.0    38.00   \n",
       "\n",
       "                                           \n",
       "                      50%     75%     max  \n",
       "Geographic Region                          \n",
       "All                6447.0  6545.0  6718.0  \n",
       "Midwestern          105.0   170.0   295.0  \n",
       "Northeastern         47.0    87.0   299.0  \n",
       "Southern            113.0   182.0   600.0  \n",
       "Western              71.0   162.0   621.0  "
      ]
     },
     "execution_count": 32,
     "metadata": {},
     "output_type": "execute_result"
    }
   ],
   "source": [
    "#Create a dataframe df_region with the necessary columns\n",
    "\n",
    "df_region=df_state[['Geographic Region','Veteran Suicides']]\n",
    "\n",
    "'''Group table by region and use the describe() function to view statistical details eg, count, mean,\n",
    "std,etc'''\n",
    "\n",
    "df_region.groupby('Geographic Region').describe()"
   ]
  },
  {
   "cell_type": "markdown",
   "id": "0281aa18",
   "metadata": {},
   "source": [
    "The table shows basic statistical details for veteran suicides from 2001-2021.  From the table we can see the count of years and the number of states in each region, their mean, standard deviation, min, percentiles, and max."
   ]
  },
  {
   "cell_type": "code",
   "execution_count": 168,
   "id": "f94e3732",
   "metadata": {},
   "outputs": [
    {
     "data": {
      "text/plain": [
       "<Axes: xlabel='Veteran Suicides', ylabel='Region'>"
      ]
     },
     "execution_count": 168,
     "metadata": {},
     "output_type": "execute_result"
    },
    {
     "data": {
      "image/png": "[encoded data removed]",
      "text/plain": [
       "<Figure size 1300x500 with 1 Axes>"
      ]
     },
     "metadata": {},
     "output_type": "display_data"
    }
   ],
   "source": [
    "#Create a new column 'Region' to remove All from 'Geographic Region' and then dropna()\n",
    "\n",
    "data=df_region.assign(Region=df_region['Geographic Region'].map({'Midwestern':'Midwestern','Northeastern':'Northeastern','Southern':'Southern','Western':'Western'})).dropna()\n",
    "\n",
    "#Set the figure size\n",
    "\n",
    "plt.figure(figsize=(13,5))\n",
    "\n",
    "#Create a swarmplot with black points and slightly transparent\n",
    "\n",
    "sns.swarmplot(x='Veteran Suicides',y='Region',data=data,color='k',alpha=0.7)"
   ]
  },
  {
   "cell_type": "code",
   "execution_count": 161,
   "id": "908d997a",
   "metadata": {},
   "outputs": [
    {
     "data": {
      "text/plain": [
       "<Axes: title={'center': 'Veteran Suicides by Region'}, xlabel='Region', ylabel='Veteran Suicides'>"
      ]
     },
     "execution_count": 161,
     "metadata": {},
     "output_type": "execute_result"
    },
    {
     "data": {
      "image/png": "[encoded data removed]",
      "text/plain": [
       "<Figure size 1300x500 with 1 Axes>"
      ]
     },
     "metadata": {},
     "output_type": "display_data"
    }
   ],
   "source": [
    "#Create a bolded title of the boxplot graph with matplotlib\n",
    "\n",
    "plt.title('Veteran Suicides by Region',fontsize=17,fontweight='bold')\n",
    "\n",
    "#Create a seaborn boxplot\n",
    "\n",
    "sns.boxplot(x='Region',y='Veteran Suicides',data=data)"
   ]
  },
  {
   "cell_type": "markdown",
   "id": "a945f0b8",
   "metadata": {},
   "source": [
    "As we can see in the swarmplot and then reinforced by the boxplot both the Southern and Western have quite a few extreme\n",
    "outliers that are raising their mean.  Also the Northeastern has quite a few outliers but they are still closer to the whisker so not as impactful to the overall numbers.  The Midwestern region appears to be the most normally distributed of the regions."
   ]
  },
  {
   "cell_type": "markdown",
   "id": "2d7cf7a3-daed-4bdd-b154-6208cf537ed8",
   "metadata": {},
   "source": [
    "### Are veteran suicides increasing over the years?"
   ]
  },
  {
   "cell_type": "code",
   "execution_count": 35,
   "id": "3bbf3f0a",
   "metadata": {
    "scrolled": true
   },
   "outputs": [
    {
     "data": {
      "text/html": [
       "<div>\n",
       "<style scoped>\n",
       "    .dataframe tbody tr th:only-of-type {\n",
       "        vertical-align: middle;\n",
       "    }\n",
       "\n",
       "    .dataframe tbody tr th {\n",
       "        vertical-align: top;\n",
       "    }\n",
       "\n",
       "    .dataframe thead tr th {\n",
       "        text-align: left;\n",
       "    }\n",
       "\n",
       "    .dataframe thead tr:last-of-type th {\n",
       "        text-align: right;\n",
       "    }\n",
       "</style>\n",
       "<table border=\"1\" class=\"dataframe\">\n",
       "  <thead>\n",
       "    <tr>\n",
       "      <th></th>\n",
       "      <th colspan=\"21\" halign=\"left\">Veteran Suicides</th>\n",
       "    </tr>\n",
       "    <tr>\n",
       "      <th>Year of Death</th>\n",
       "      <th>2001</th>\n",
       "      <th>2002</th>\n",
       "      <th>2003</th>\n",
       "      <th>2004</th>\n",
       "      <th>2005</th>\n",
       "      <th>2006</th>\n",
       "      <th>2007</th>\n",
       "      <th>2008</th>\n",
       "      <th>2009</th>\n",
       "      <th>2010</th>\n",
       "      <th>...</th>\n",
       "      <th>2012</th>\n",
       "      <th>2013</th>\n",
       "      <th>2014</th>\n",
       "      <th>2015</th>\n",
       "      <th>2016</th>\n",
       "      <th>2017</th>\n",
       "      <th>2018</th>\n",
       "      <th>2019</th>\n",
       "      <th>2020</th>\n",
       "      <th>2021</th>\n",
       "    </tr>\n",
       "    <tr>\n",
       "      <th>State of Death</th>\n",
       "      <th></th>\n",
       "      <th></th>\n",
       "      <th></th>\n",
       "      <th></th>\n",
       "      <th></th>\n",
       "      <th></th>\n",
       "      <th></th>\n",
       "      <th></th>\n",
       "      <th></th>\n",
       "      <th></th>\n",
       "      <th></th>\n",
       "      <th></th>\n",
       "      <th></th>\n",
       "      <th></th>\n",
       "      <th></th>\n",
       "      <th></th>\n",
       "      <th></th>\n",
       "      <th></th>\n",
       "      <th></th>\n",
       "      <th></th>\n",
       "      <th></th>\n",
       "    </tr>\n",
       "  </thead>\n",
       "  <tbody>\n",
       "    <tr>\n",
       "      <th>U.S. Total</th>\n",
       "      <td>6000</td>\n",
       "      <td>6142</td>\n",
       "      <td>6008</td>\n",
       "      <td>6004</td>\n",
       "      <td>6126</td>\n",
       "      <td>6035</td>\n",
       "      <td>6249</td>\n",
       "      <td>6567</td>\n",
       "      <td>6519</td>\n",
       "      <td>6545</td>\n",
       "      <td>...</td>\n",
       "      <td>6441</td>\n",
       "      <td>6501</td>\n",
       "      <td>6645</td>\n",
       "      <td>6616</td>\n",
       "      <td>6467</td>\n",
       "      <td>6686</td>\n",
       "      <td>6718</td>\n",
       "      <td>6481</td>\n",
       "      <td>6278</td>\n",
       "      <td>6392</td>\n",
       "    </tr>\n",
       "  </tbody>\n",
       "</table>\n",
       "<p>1 rows × 21 columns</p>\n",
       "</div>"
      ],
      "text/plain": [
       "               Veteran Suicides                                            \\\n",
       "Year of Death              2001  2002  2003  2004  2005  2006  2007  2008   \n",
       "State of Death                                                              \n",
       "U.S. Total                 6000  6142  6008  6004  6126  6035  6249  6567   \n",
       "\n",
       "                            ...                                            \\\n",
       "Year of Death   2009  2010  ...  2012  2013  2014  2015  2016  2017  2018   \n",
       "State of Death              ...                                             \n",
       "U.S. Total      6519  6545  ...  6441  6501  6645  6616  6467  6686  6718   \n",
       "\n",
       "                                  \n",
       "Year of Death   2019  2020  2021  \n",
       "State of Death                    \n",
       "U.S. Total      6481  6278  6392  \n",
       "\n",
       "[1 rows x 21 columns]"
      ]
     },
     "execution_count": 35,
     "metadata": {},
     "output_type": "execute_result"
    }
   ],
   "source": [
    "#Create a Dataframe from df_sex with only necessary columns\n",
    "\n",
    "df_state_col=df_state[['Year of Death','State of Death','Veteran Suicides']]\n",
    "\n",
    "#Create a dataframe from df_sex_col with 'State of Death' == 'U.S. Total'\n",
    "\n",
    "df_state_total=df_state_col.loc[(df_state['State of Death'] == 'U.S. Total')]\n",
    "\n",
    "#Create a pivot_table of df_state_total to view all the years in a table format\n",
    "\n",
    "df_state_total.pivot_table(index='State of Death',columns='Year of Death')"
   ]
  },
  {
   "cell_type": "code",
   "execution_count": 36,
   "id": "65b91c41",
   "metadata": {},
   "outputs": [
    {
     "data": {
      "text/plain": [
       "<Axes: xlabel='Year of Death'>"
      ]
     },
     "execution_count": 36,
     "metadata": {},
     "output_type": "execute_result"
    },
    {
     "data": {
      "image/png": "[encoded data removed]",
      "text/plain": [
       "<Figure size 1300x500 with 1 Axes>"
      ]
     },
     "metadata": {},
     "output_type": "display_data"
    }
   ],
   "source": [
    "#Create a bar plot of the datafrade df_state_total\n",
    "\n",
    "df_state_total.plot.bar(x='Year of Death')"
   ]
  },
  {
   "cell_type": "code",
   "execution_count": 37,
   "id": "36e18e88",
   "metadata": {},
   "outputs": [
    {
     "data": {
      "text/plain": [
       "count      21.000000\n",
       "mean     6374.619048\n",
       "std       239.518575\n",
       "min      6000.000000\n",
       "25%      6142.000000\n",
       "50%      6447.000000\n",
       "75%      6545.000000\n",
       "max      6718.000000\n",
       "Name: Veteran Suicides, dtype: float64"
      ]
     },
     "execution_count": 37,
     "metadata": {},
     "output_type": "execute_result"
    }
   ],
   "source": [
    "'''This will display basic statistical details such as percentile, mean, and std, of the numeric values of the df_state\n",
    "dataframe using the df.decribe function'''\n",
    "\n",
    "df_state_total['Veteran Suicides'].describe()"
   ]
  },
  {
   "cell_type": "markdown",
   "id": "7130a222",
   "metadata": {},
   "source": [
    "Reviewing the pivot table, bar chart, and describe all confirm that while the numbers do vary from year to year there is no evidence to show it is increasing at a high rate.  In the 21 years with a min of 6000, max of 6718, and mean of 6374.619048 there is evidence that indicate relatively steady numbers.  Also the low standard deviation (std) of 239.518575 also reinforces that."
   ]
  },
  {
   "cell_type": "markdown",
   "id": "ad8d83b0-b08c-4f9e-b41b-e27cc4bad4c0",
   "metadata": {},
   "source": [
    "### Are men or women more at risk for veteran suicide?"
   ]
  },
  {
   "cell_type": "code",
   "execution_count": 38,
   "id": "8d863b78",
   "metadata": {
    "scrolled": true
   },
   "outputs": [
    {
     "data": {
      "text/html": [
       "<div>\n",
       "<style scoped>\n",
       "    .dataframe tbody tr th:only-of-type {\n",
       "        vertical-align: middle;\n",
       "    }\n",
       "\n",
       "    .dataframe tbody tr th {\n",
       "        vertical-align: top;\n",
       "    }\n",
       "\n",
       "    .dataframe thead tr th {\n",
       "        text-align: left;\n",
       "    }\n",
       "\n",
       "    .dataframe thead tr:last-of-type th {\n",
       "        text-align: right;\n",
       "    }\n",
       "</style>\n",
       "<table border=\"1\" class=\"dataframe\">\n",
       "  <thead>\n",
       "    <tr>\n",
       "      <th></th>\n",
       "      <th colspan=\"21\" halign=\"left\">Veteran Suicides</th>\n",
       "    </tr>\n",
       "    <tr>\n",
       "      <th>Year of Death</th>\n",
       "      <th>2001</th>\n",
       "      <th>2002</th>\n",
       "      <th>2003</th>\n",
       "      <th>2004</th>\n",
       "      <th>2005</th>\n",
       "      <th>2006</th>\n",
       "      <th>2007</th>\n",
       "      <th>2008</th>\n",
       "      <th>2009</th>\n",
       "      <th>2010</th>\n",
       "      <th>...</th>\n",
       "      <th>2012</th>\n",
       "      <th>2013</th>\n",
       "      <th>2014</th>\n",
       "      <th>2015</th>\n",
       "      <th>2016</th>\n",
       "      <th>2017</th>\n",
       "      <th>2018</th>\n",
       "      <th>2019</th>\n",
       "      <th>2020</th>\n",
       "      <th>2021</th>\n",
       "    </tr>\n",
       "    <tr>\n",
       "      <th>Sex</th>\n",
       "      <th></th>\n",
       "      <th></th>\n",
       "      <th></th>\n",
       "      <th></th>\n",
       "      <th></th>\n",
       "      <th></th>\n",
       "      <th></th>\n",
       "      <th></th>\n",
       "      <th></th>\n",
       "      <th></th>\n",
       "      <th></th>\n",
       "      <th></th>\n",
       "      <th></th>\n",
       "      <th></th>\n",
       "      <th></th>\n",
       "      <th></th>\n",
       "      <th></th>\n",
       "      <th></th>\n",
       "      <th></th>\n",
       "      <th></th>\n",
       "      <th></th>\n",
       "    </tr>\n",
       "  </thead>\n",
       "  <tbody>\n",
       "    <tr>\n",
       "      <th>Female</th>\n",
       "      <td>154</td>\n",
       "      <td>134</td>\n",
       "      <td>151</td>\n",
       "      <td>167</td>\n",
       "      <td>189</td>\n",
       "      <td>173</td>\n",
       "      <td>186</td>\n",
       "      <td>208</td>\n",
       "      <td>226</td>\n",
       "      <td>232</td>\n",
       "      <td>...</td>\n",
       "      <td>240</td>\n",
       "      <td>251</td>\n",
       "      <td>293</td>\n",
       "      <td>305</td>\n",
       "      <td>272</td>\n",
       "      <td>300</td>\n",
       "      <td>290</td>\n",
       "      <td>293</td>\n",
       "      <td>280</td>\n",
       "      <td>350</td>\n",
       "    </tr>\n",
       "    <tr>\n",
       "      <th>Male</th>\n",
       "      <td>5846</td>\n",
       "      <td>6008</td>\n",
       "      <td>5857</td>\n",
       "      <td>5837</td>\n",
       "      <td>5937</td>\n",
       "      <td>5862</td>\n",
       "      <td>6063</td>\n",
       "      <td>6359</td>\n",
       "      <td>6293</td>\n",
       "      <td>6313</td>\n",
       "      <td>...</td>\n",
       "      <td>6201</td>\n",
       "      <td>6250</td>\n",
       "      <td>6352</td>\n",
       "      <td>6311</td>\n",
       "      <td>6195</td>\n",
       "      <td>6386</td>\n",
       "      <td>6428</td>\n",
       "      <td>6188</td>\n",
       "      <td>5998</td>\n",
       "      <td>6042</td>\n",
       "    </tr>\n",
       "  </tbody>\n",
       "</table>\n",
       "<p>2 rows × 21 columns</p>\n",
       "</div>"
      ],
      "text/plain": [
       "              Veteran Suicides                                            \\\n",
       "Year of Death             2001  2002  2003  2004  2005  2006  2007  2008   \n",
       "Sex                                                                        \n",
       "Female                     154   134   151   167   189   173   186   208   \n",
       "Male                      5846  6008  5857  5837  5937  5862  6063  6359   \n",
       "\n",
       "                           ...                                            \\\n",
       "Year of Death  2009  2010  ...  2012  2013  2014  2015  2016  2017  2018   \n",
       "Sex                        ...                                             \n",
       "Female          226   232  ...   240   251   293   305   272   300   290   \n",
       "Male           6293  6313  ...  6201  6250  6352  6311  6195  6386  6428   \n",
       "\n",
       "                                 \n",
       "Year of Death  2019  2020  2021  \n",
       "Sex                              \n",
       "Female          293   280   350  \n",
       "Male           6188  5998  6042  \n",
       "\n",
       "[2 rows x 21 columns]"
      ]
     },
     "execution_count": 38,
     "metadata": {},
     "output_type": "execute_result"
    }
   ],
   "source": [
    "#Create a Dataframe from df_sex with only necessary columns\n",
    "\n",
    "df_sex_col=df_sex[['Year of Death','Sex','Veteran Suicides']]\n",
    "\n",
    "#Create a dataframe from df_sex_col with 'State of Death' == 'U.S. Total' & (df_sex['Sex'] != 'All'\n",
    "\n",
    "df_sex_total=df_sex_col.loc[(df_sex['State of Death'] == 'U.S. Total') & (df_sex['Sex'] != 'All')]\n",
    "\n",
    "#create a countplot with hue Sex\n",
    "#sns.countplot(x='Year of Death',data=df_sex_total,hue='Sex')\n",
    "df_sex_total.pivot_table(index='Sex',columns='Year of Death')"
   ]
  },
  {
   "cell_type": "code",
   "execution_count": 151,
   "id": "ba40265c",
   "metadata": {},
   "outputs": [
    {
     "data": {
      "image/png": "[encoded data removed]",
      "text/plain": [
       "<Figure size 1300x500 with 1 Axes>"
      ]
     },
     "metadata": {},
     "output_type": "display_data"
    }
   ],
   "source": [
    "#Create a new column 'Gender' with sex of Female and Male to remove All from legend\n",
    "\n",
    "data=df_sex_total.assign(Gender=df_sex_total['Sex'].map({'Female':'Female','Male':'Male'}))\n",
    "\n",
    "#Create a Seaborn bar plot of df_sex_total using x='Year of Death',y='Veteran Suicides',hue='Sex'\n",
    "\n",
    "ax=sns.barplot(data,x='Year of Death',y='Veteran Suicides',hue='Gender')\n",
    "\n",
    "#Move the legend to ensure it is not on the bar plot\n",
    "\n",
    "sns.move_legend(ax, \"lower center\",bbox_to_anchor=(.5, 1), ncol=3, title=None, frameon=False,)\n"
   ]
  },
  {
   "cell_type": "markdown",
   "id": "dbdc9926",
   "metadata": {},
   "source": [
    "After reviewing the pivot table and the bar chart there is strong evidence to suggest statistically men are at a higher risk.  The only issue is the population does not provide total numbers of the men and women so this data is a bit inconclusive."
   ]
  },
  {
   "cell_type": "markdown",
   "id": "4ef882ff-b2bc-4dd9-a10f-d2f6289687f7",
   "metadata": {},
   "source": [
    "### Which age groups have the highest and lowest number of veteran suicides?"
   ]
  },
  {
   "cell_type": "code",
   "execution_count": 40,
   "id": "b3687419",
   "metadata": {},
   "outputs": [
    {
     "data": {
      "text/html": [
       "<div>\n",
       "<style scoped>\n",
       "    .dataframe tbody tr th:only-of-type {\n",
       "        vertical-align: middle;\n",
       "    }\n",
       "\n",
       "    .dataframe tbody tr th {\n",
       "        vertical-align: top;\n",
       "    }\n",
       "\n",
       "    .dataframe thead th {\n",
       "        text-align: right;\n",
       "    }\n",
       "</style>\n",
       "<table border=\"1\" class=\"dataframe\">\n",
       "  <thead>\n",
       "    <tr style=\"text-align: right;\">\n",
       "      <th></th>\n",
       "      <th>Year</th>\n",
       "      <th>Geographic Region</th>\n",
       "      <th>State of Death</th>\n",
       "      <th>Age Group</th>\n",
       "      <th>Veteran Suicides</th>\n",
       "      <th>Veteran Suicide Rate Per 100,000</th>\n",
       "      <th>General Population Suicides</th>\n",
       "      <th>General Population Rate Per 100,000</th>\n",
       "    </tr>\n",
       "  </thead>\n",
       "  <tbody>\n",
       "    <tr>\n",
       "      <th>275</th>\n",
       "      <td>2001</td>\n",
       "      <td>All</td>\n",
       "      <td>U.S. Total</td>\n",
       "      <td>18-34</td>\n",
       "      <td>616</td>\n",
       "      <td>23.5</td>\n",
       "      <td>8293</td>\n",
       "      <td>12.3</td>\n",
       "    </tr>\n",
       "    <tr>\n",
       "      <th>276</th>\n",
       "      <td>2001</td>\n",
       "      <td>All</td>\n",
       "      <td>U.S. Total</td>\n",
       "      <td>35-54</td>\n",
       "      <td>2510</td>\n",
       "      <td>28.0</td>\n",
       "      <td>12577</td>\n",
       "      <td>14.9</td>\n",
       "    </tr>\n",
       "    <tr>\n",
       "      <th>277</th>\n",
       "      <td>2001</td>\n",
       "      <td>All</td>\n",
       "      <td>U.S. Total</td>\n",
       "      <td>55-74</td>\n",
       "      <td>1693</td>\n",
       "      <td>17.3</td>\n",
       "      <td>5749</td>\n",
       "      <td>13.2</td>\n",
       "    </tr>\n",
       "    <tr>\n",
       "      <th>278</th>\n",
       "      <td>2001</td>\n",
       "      <td>All</td>\n",
       "      <td>U.S. Total</td>\n",
       "      <td>75+</td>\n",
       "      <td>1178</td>\n",
       "      <td>26.4</td>\n",
       "      <td>2961</td>\n",
       "      <td>17.5</td>\n",
       "    </tr>\n",
       "    <tr>\n",
       "      <th>555</th>\n",
       "      <td>2002</td>\n",
       "      <td>All</td>\n",
       "      <td>U.S. Total</td>\n",
       "      <td>18-34</td>\n",
       "      <td>590</td>\n",
       "      <td>23.5</td>\n",
       "      <td>8346</td>\n",
       "      <td>12.3</td>\n",
       "    </tr>\n",
       "    <tr>\n",
       "      <th>...</th>\n",
       "      <td>...</td>\n",
       "      <td>...</td>\n",
       "      <td>...</td>\n",
       "      <td>...</td>\n",
       "      <td>...</td>\n",
       "      <td>...</td>\n",
       "      <td>...</td>\n",
       "      <td>...</td>\n",
       "    </tr>\n",
       "    <tr>\n",
       "      <th>5598</th>\n",
       "      <td>2020</td>\n",
       "      <td>All</td>\n",
       "      <td>U.S. Total</td>\n",
       "      <td>75+</td>\n",
       "      <td>1566</td>\n",
       "      <td>34.9</td>\n",
       "      <td>4421</td>\n",
       "      <td>20.2</td>\n",
       "    </tr>\n",
       "    <tr>\n",
       "      <th>5875</th>\n",
       "      <td>2021</td>\n",
       "      <td>All</td>\n",
       "      <td>U.S. Total</td>\n",
       "      <td>18-34</td>\n",
       "      <td>894</td>\n",
       "      <td>49.6</td>\n",
       "      <td>14230</td>\n",
       "      <td>18.8</td>\n",
       "    </tr>\n",
       "    <tr>\n",
       "      <th>5876</th>\n",
       "      <td>2021</td>\n",
       "      <td>All</td>\n",
       "      <td>U.S. Total</td>\n",
       "      <td>35-54</td>\n",
       "      <td>1704</td>\n",
       "      <td>35.5</td>\n",
       "      <td>15263</td>\n",
       "      <td>18.2</td>\n",
       "    </tr>\n",
       "    <tr>\n",
       "      <th>5877</th>\n",
       "      <td>2021</td>\n",
       "      <td>All</td>\n",
       "      <td>U.S. Total</td>\n",
       "      <td>55-74</td>\n",
       "      <td>2286</td>\n",
       "      <td>29.9</td>\n",
       "      <td>12411</td>\n",
       "      <td>16.2</td>\n",
       "    </tr>\n",
       "    <tr>\n",
       "      <th>5878</th>\n",
       "      <td>2021</td>\n",
       "      <td>All</td>\n",
       "      <td>U.S. Total</td>\n",
       "      <td>75+</td>\n",
       "      <td>1467</td>\n",
       "      <td>32.1</td>\n",
       "      <td>4508</td>\n",
       "      <td>20.3</td>\n",
       "    </tr>\n",
       "  </tbody>\n",
       "</table>\n",
       "<p>84 rows × 8 columns</p>\n",
       "</div>"
      ],
      "text/plain": [
       "      Year Geographic Region State of Death Age Group  Veteran Suicides  \\\n",
       "275   2001               All     U.S. Total     18-34               616   \n",
       "276   2001               All     U.S. Total     35-54              2510   \n",
       "277   2001               All     U.S. Total     55-74              1693   \n",
       "278   2001               All     U.S. Total       75+              1178   \n",
       "555   2002               All     U.S. Total     18-34               590   \n",
       "...    ...               ...            ...       ...               ...   \n",
       "5598  2020               All     U.S. Total       75+              1566   \n",
       "5875  2021               All     U.S. Total     18-34               894   \n",
       "5876  2021               All     U.S. Total     35-54              1704   \n",
       "5877  2021               All     U.S. Total     55-74              2286   \n",
       "5878  2021               All     U.S. Total       75+              1467   \n",
       "\n",
       "      Veteran Suicide Rate Per 100,000  General Population Suicides  \\\n",
       "275                               23.5                         8293   \n",
       "276                               28.0                        12577   \n",
       "277                               17.3                         5749   \n",
       "278                               26.4                         2961   \n",
       "555                               23.5                         8346   \n",
       "...                                ...                          ...   \n",
       "5598                              34.9                         4421   \n",
       "5875                              49.6                        14230   \n",
       "5876                              35.5                        15263   \n",
       "5877                              29.9                        12411   \n",
       "5878                              32.1                         4508   \n",
       "\n",
       "      General Population Rate Per 100,000  \n",
       "275                                  12.3  \n",
       "276                                  14.9  \n",
       "277                                  13.2  \n",
       "278                                  17.5  \n",
       "555                                  12.3  \n",
       "...                                   ...  \n",
       "5598                                 20.2  \n",
       "5875                                 18.8  \n",
       "5876                                 18.2  \n",
       "5877                                 16.2  \n",
       "5878                                 20.3  \n",
       "\n",
       "[84 rows x 8 columns]"
      ]
     },
     "execution_count": 40,
     "metadata": {},
     "output_type": "execute_result"
    }
   ],
   "source": [
    "#Create a dataframe from df_age with only the necessaru columns 'Year','Geographic Region','State of Death','Age Group'\n",
    "\n",
    "df_ages=df_age[['Year','Geographic Region','State of Death','Age Group']]\n",
    "\n",
    "#Create a dataframe using .loc() with 'Geographic Region' == 'All') & 'Age Group' != 'All')\n",
    "\n",
    "df_ages_total=df_age.loc[(df_age['Geographic Region'] == 'All') & (df_age['Age Group'] != 'All')]\n",
    "\n",
    "#display the dataframe\n",
    "\n",
    "df_ages_total"
   ]
  },
  {
   "cell_type": "code",
   "execution_count": 153,
   "id": "8a39404d",
   "metadata": {},
   "outputs": [
    {
     "data": {
      "image/png": "[encoded data removed]",
      "text/plain": [
       "<Figure size 1300x500 with 1 Axes>"
      ]
     },
     "metadata": {},
     "output_type": "display_data"
    }
   ],
   "source": [
    "#Create a new column 'Age' to remove All from legend in dataframe df_ages_total\n",
    "\n",
    "data=df_ages_total.assign(Age=df_ages_total['Age Group'].map({'18-34':'18-34','35-54':'35-54','55-74':'55-74','75+':'75+'}))\n",
    "\n",
    "#Create a Seaborn bar plot of data using x='Year',y='Veteran Suicides',hue='Age'\n",
    "\n",
    "ax=sns.barplot(data,x='Year',y='Veteran Suicides',hue='Age')\n",
    "\n",
    "#Move the legend to ensure it is not on the bar plot\n",
    "\n",
    "sns.move_legend(ax, \"lower center\",bbox_to_anchor=(.5, 1), ncol=4, title=None, frameon=False,)"
   ]
  },
  {
   "cell_type": "markdown",
   "id": "63a99a7e",
   "metadata": {},
   "source": [
    "Reviewing the bar chart it appears that from 2001-2005 the age group 35-54 had the highest number of veteran suicides followed by 55-74, 75+, and 18-34.  In 2006 35-54 and 55-74 were similar with 75+ and 18-34 unchanged in their order.  Starting in 2007 we see 55-74 with the highest number of veteran suicides with the remaining age groups still in their same order."
   ]
  },
  {
   "cell_type": "markdown",
   "id": "54f7ea21-0618-4d8a-a8eb-14d40e12a375",
   "metadata": {},
   "source": [
    "###  Are the age groups and their suicide rates consistent over the years?"
   ]
  },
  {
   "cell_type": "code",
   "execution_count": 42,
   "id": "b2b87694",
   "metadata": {
    "scrolled": false
   },
   "outputs": [
    {
     "name": "stdout",
     "output_type": "stream",
     "text": [
      "18-34:  DescribeResult(nobs=21, minmax=(531, 894), mean=714.8095238095239, variance=16605.261904761905, skewness=0.14360825029707977, kurtosis=-1.5961117871540393) \n",
      "\n",
      "35-54:  DescribeResult(nobs=21, minmax=(1575, 2510), mean=1986.3809523809523, variance=67388.84761904762, skewness=0.325687886391608, kurtosis=-0.7654332338743175) \n",
      "\n",
      "55-74:  DescribeResult(nobs=21, minmax=(1693, 2653), mean=2243.190476190476, variance=70556.7619047619, skewness=-0.6263396022502037, kurtosis=-0.6869527000457509) \n",
      "\n",
      "75+:  DescribeResult(nobs=21, minmax=(1178, 1566), mean=1419.047619047619, variance=10781.14761904762, skewness=-1.095186886739689, kurtosis=0.3888985873010835) \n",
      "\n"
     ]
    }
   ],
   "source": [
    "#import scipy for statistics\n",
    "\n",
    "from scipy import stats\n",
    "\n",
    "#Create a dataframe for each 'Age Group'\n",
    "\n",
    "df_18=df_age.loc[(df_age['Geographic Region'] == 'All') & (df_age['Age Group'] == '18-34')]\n",
    "df_35=df_age.loc[(df_age['Geographic Region'] == 'All') & (df_age['Age Group'] == '35-54')]\n",
    "df_55=df_age.loc[(df_age['Geographic Region'] == 'All') & (df_age['Age Group'] == '55-74')]\n",
    "df_75=df_age.loc[(df_age['Geographic Region'] == 'All') & (df_age['Age Group'] == '75+')]\n",
    "\n",
    "#Print each dataframe using the describe() function\n",
    "\n",
    "print('18-34: ',stats.describe(df_18['Veteran Suicides']),'\\n')\n",
    "print('35-54: ',stats.describe(df_35['Veteran Suicides']),'\\n')\n",
    "print('55-74: ',stats.describe(df_55['Veteran Suicides']),'\\n')\n",
    "print('75+: ',stats.describe(df_75['Veteran Suicides']),'\\n')"
   ]
  },
  {
   "cell_type": "markdown",
   "id": "9bce911f",
   "metadata": {},
   "source": [
    "As we can see there are 21 observations for each dataframe nobs (number of 'observations') for each dataframe which is the 21 years.  \n",
    "\n",
    "With a variance of 10781.14761904762 the evidence indicates that the 75+ age group changes the least.  This is further backed up by the minmax of (1178,1566) and mean of 1419.047619047619.  We can also see that it is has a negative or left-skewed dsitribution as well.  Meaning it is has a long tail on its left side.  Also with a value of greater than -1 it indicates it is a highly skewed distribution.  Also the kurtosis of 0.3888985873010835 being close to 0 indicates they are normally distributed.\n",
    "\n",
    "With a variance of 16605.261904761905 shows evidence that the 18-34 varies only slightly as well.  Again the minmax (531,894) and mean of 714.8095238095239 further reinforces this  Also with a skewness less than 0.5 this distribution is approximately symmetric.  The negative skewness of -1.095186886 also indicates that the distribution has lighter tails.\n",
    "\n",
    "Though the 35-54 and 55-74 have higher variance, 67388.84761904762 and 70556.7619047619 respectively, we can tell from the minmax of (1575,2510) and (1693,2653 there is evidence that they do not vary greatly in the population."
   ]
  },
  {
   "cell_type": "markdown",
   "id": "bae48fd5-f705-4e21-96d2-f71983dae234",
   "metadata": {},
   "source": [
    "### Veteran Suicide Rates per 100k of population for each state"
   ]
  },
  {
   "cell_type": "code",
   "execution_count": 43,
   "id": "ff8a8bdd-4f56-4a84-90e7-088730938f71",
   "metadata": {},
   "outputs": [
    {
     "data": {
      "text/html": [
       "<div>\n",
       "<style scoped>\n",
       "    .dataframe tbody tr th:only-of-type {\n",
       "        vertical-align: middle;\n",
       "    }\n",
       "\n",
       "    .dataframe tbody tr th {\n",
       "        vertical-align: top;\n",
       "    }\n",
       "\n",
       "    .dataframe thead th {\n",
       "        text-align: right;\n",
       "    }\n",
       "</style>\n",
       "<table border=\"1\" class=\"dataframe\">\n",
       "  <thead>\n",
       "    <tr style=\"text-align: right;\">\n",
       "      <th></th>\n",
       "      <th>Year</th>\n",
       "      <th>State of Death</th>\n",
       "      <th>Age Group</th>\n",
       "      <th>Veteran Suicide Rate</th>\n",
       "    </tr>\n",
       "  </thead>\n",
       "  <tbody>\n",
       "    <tr>\n",
       "      <th>4</th>\n",
       "      <td>2001</td>\n",
       "      <td>All</td>\n",
       "      <td>All</td>\n",
       "      <td>17.3</td>\n",
       "    </tr>\n",
       "    <tr>\n",
       "      <th>9</th>\n",
       "      <td>2001</td>\n",
       "      <td>Connecticut</td>\n",
       "      <td>All</td>\n",
       "      <td>15.1</td>\n",
       "    </tr>\n",
       "    <tr>\n",
       "      <th>14</th>\n",
       "      <td>2001</td>\n",
       "      <td>Maine</td>\n",
       "      <td>All</td>\n",
       "      <td>25.0</td>\n",
       "    </tr>\n",
       "    <tr>\n",
       "      <th>19</th>\n",
       "      <td>2001</td>\n",
       "      <td>Massachusetts</td>\n",
       "      <td>All</td>\n",
       "      <td>15.6</td>\n",
       "    </tr>\n",
       "    <tr>\n",
       "      <th>24</th>\n",
       "      <td>2001</td>\n",
       "      <td>New Hampshire</td>\n",
       "      <td>All</td>\n",
       "      <td>19.9</td>\n",
       "    </tr>\n",
       "  </tbody>\n",
       "</table>\n",
       "</div>"
      ],
      "text/plain": [
       "    Year State of Death Age Group  Veteran Suicide Rate\n",
       "4   2001            All       All                  17.3\n",
       "9   2001    Connecticut       All                  15.1\n",
       "14  2001          Maine       All                  25.0\n",
       "19  2001  Massachusetts       All                  15.6\n",
       "24  2001  New Hampshire       All                  19.9"
      ]
     },
     "execution_count": 43,
     "metadata": {},
     "output_type": "execute_result"
    }
   ],
   "source": [
    "#Create a dataframe to rename the columns 'Veteran Suicide Rate Per 100,000' & 'General Population Rate Per 100,000'\n",
    "\n",
    "df_age_rename=df_age.rename(columns={'Veteran Suicide Rate Per 100,000':'Veteran Suicide Rate','General Population Rate Per 100,000':'General Population Suicide Rate'})\n",
    "\n",
    "#Create a dataframe to select only the necessary columns'Year','State of Death','Age Group','Veteran Suicide Rate'\n",
    "\n",
    "df_rate=df_age_rename[['Year','State of Death','Age Group','Veteran Suicide Rate']]\n",
    "\n",
    "#Create a dataframe using .loc() ['Age Group'] == 'All' & ['State of Death'] != 'U.S. Total'\n",
    "\n",
    "df_rate_state=df_rate.loc[(df_rate['Age Group'] == 'All') & (df_rate['State of Death'] != 'U.S. Total')]\n",
    "\n",
    "#Display dataframe using head()\n",
    "\n",
    "df_rate_state.head()"
   ]
  },
  {
   "cell_type": "code",
   "execution_count": 44,
   "id": "08f8e528",
   "metadata": {},
   "outputs": [
    {
     "data": {
      "text/html": [
       "<div>\n",
       "<style scoped>\n",
       "    .dataframe tbody tr th:only-of-type {\n",
       "        vertical-align: middle;\n",
       "    }\n",
       "\n",
       "    .dataframe tbody tr th {\n",
       "        vertical-align: top;\n",
       "    }\n",
       "\n",
       "    .dataframe thead th {\n",
       "        text-align: right;\n",
       "    }\n",
       "</style>\n",
       "<table border=\"1\" class=\"dataframe\">\n",
       "  <thead>\n",
       "    <tr style=\"text-align: right;\">\n",
       "      <th></th>\n",
       "      <th>Year</th>\n",
       "      <th>State of Death</th>\n",
       "      <th>Age Group</th>\n",
       "      <th>Veteran Suicide Rate</th>\n",
       "      <th>State</th>\n",
       "    </tr>\n",
       "  </thead>\n",
       "  <tbody>\n",
       "    <tr>\n",
       "      <th>5609</th>\n",
       "      <td>2021</td>\n",
       "      <td>Connecticut</td>\n",
       "      <td>All</td>\n",
       "      <td>20.6</td>\n",
       "      <td>CT</td>\n",
       "    </tr>\n",
       "    <tr>\n",
       "      <th>5614</th>\n",
       "      <td>2021</td>\n",
       "      <td>Maine</td>\n",
       "      <td>All</td>\n",
       "      <td>34.5</td>\n",
       "      <td>ME</td>\n",
       "    </tr>\n",
       "    <tr>\n",
       "      <th>5619</th>\n",
       "      <td>2021</td>\n",
       "      <td>Massachusetts</td>\n",
       "      <td>All</td>\n",
       "      <td>19.1</td>\n",
       "      <td>MA</td>\n",
       "    </tr>\n",
       "    <tr>\n",
       "      <th>5624</th>\n",
       "      <td>2021</td>\n",
       "      <td>New Hampshire</td>\n",
       "      <td>All</td>\n",
       "      <td>29.3</td>\n",
       "      <td>NH</td>\n",
       "    </tr>\n",
       "    <tr>\n",
       "      <th>5629</th>\n",
       "      <td>2021</td>\n",
       "      <td>New Jersey</td>\n",
       "      <td>All</td>\n",
       "      <td>16.3</td>\n",
       "      <td>NJ</td>\n",
       "    </tr>\n",
       "  </tbody>\n",
       "</table>\n",
       "</div>"
      ],
      "text/plain": [
       "      Year State of Death Age Group  Veteran Suicide Rate State\n",
       "5609  2021    Connecticut       All                  20.6    CT\n",
       "5614  2021          Maine       All                  34.5    ME\n",
       "5619  2021  Massachusetts       All                  19.1    MA\n",
       "5624  2021  New Hampshire       All                  29.3    NH\n",
       "5629  2021     New Jersey       All                  16.3    NJ"
      ]
     },
     "execution_count": 44,
     "metadata": {},
     "output_type": "execute_result"
    }
   ],
   "source": [
    "#Create dataframe to use with cholorpleth\n",
    "\n",
    "df_rate_state_2021=df_rate.loc[(df_rate['Year'] == 2021) & (df_rate['State of Death'] != 'All') & (df_rate['Age Group'] == 'All')]\n",
    "\n",
    "#Call function to create 'State' column in dataframe df_state_total_2021 with state abbreviation\n",
    "\n",
    "state_abbrev_mapping(df = df_rate_state_2021,\n",
    "                     col= 'State of Death',\n",
    "                     output_abbr = True,\n",
    "                     add_new_col = True,\n",
    "                     new_col = 'State',\n",
    "                     case = 'upper')\n",
    "\n",
    "#Display dataframe using head()\n",
    "\n",
    "df_rate_state_2021.head()"
   ]
  },
  {
   "cell_type": "code",
   "execution_count": 45,
   "id": "fa8de4c9",
   "metadata": {},
   "outputs": [
    {
     "data": {
      "application/vnd.plotly.v1+json": {
       "config": {
        "plotlyServerURL": "https://plot.ly"
       },
       "data": [
        {
         "colorbar": {
          "title": {
           "text": "2021 Veteran Suicide Rate"
          }
         },
         "colorscale": [
          [
           0,
           "rgb(255,245,235)"
          ],
          [
           0.125,
           "rgb(254,230,206)"
          ],
          [
           0.25,
           "rgb(253,208,162)"
          ],
          [
           0.375,
           "rgb(253,174,107)"
          ],
          [
           0.5,
           "rgb(253,141,60)"
          ],
          [
           0.625,
           "rgb(241,105,19)"
          ],
          [
           0.75,
           "rgb(217,72,1)"
          ],
          [
           0.875,
           "rgb(166,54,3)"
          ],
          [
           1,
           "rgb(127,39,4)"
          ]
         ],
         "locationmode": "USA-states",
         "locations": [
          "CT",
          "ME",
          "MA",
          "NH",
          "NJ",
          "NY",
          "PA",
          "RI",
          "VT",
          "IL",
          "IN",
          "IA",
          "KS",
          "MI",
          "MN",
          "MO",
          "NE",
          "ND",
          "OH",
          "SD",
          "WI",
          "AL",
          "AR",
          "DE",
          "DC",
          "FL",
          "GA",
          "KY",
          "LA",
          "MD",
          "MS",
          "NC",
          "OK",
          "SC",
          "TN",
          "TX",
          "VA",
          "WV",
          "AK",
          "AZ",
          "CA",
          "CO",
          "HI",
          "ID",
          "MT",
          "NV",
          "NM",
          "OR",
          "UT",
          "WA",
          "WY",
          "U.S. TOTAL"
         ],
         "text": [
          "Connecticut",
          "Maine",
          "Massachusetts",
          "New Hampshire",
          "New Jersey",
          "New York",
          "Pennsylvania",
          "Rhode Island",
          "Vermont",
          "Illinois",
          "Indiana",
          "Iowa",
          "Kansas",
          "Michigan",
          "Minnesota",
          "Missouri",
          "Nebraska",
          "North Dakota",
          "Ohio",
          "South Dakota",
          "Wisconsin",
          "Alabama",
          "Arkansas",
          "Delaware",
          "District of Columbia",
          "Florida",
          "Georgia",
          "Kentucky",
          "Louisiana",
          "Maryland",
          "Mississippi",
          "North Carolina",
          "Oklahoma",
          "South Carolina",
          "Tennessee",
          "Texas",
          "Virginia",
          "West Virginia",
          "Alaska",
          "Arizona",
          "California",
          "Colorado",
          "Hawaii",
          "Idaho",
          "Montana",
          "Nevada",
          "New Mexico",
          "Oregon",
          "Utah",
          "Washington",
          "Wyoming",
          "U.S. Total"
         ],
         "type": "choropleth",
         "z": [
          20.6,
          34.5,
          19.1,
          29.3,
          16.3,
          19.3,
          32.9,
          19,
          46.2,
          26.4,
          34.8,
          36,
          34.2,
          31.1,
          29.7,
          45.2,
          36.4,
          25.5,
          33.9,
          47.8,
          31.9,
          35.4,
          39.6,
          33.8,
          0,
          36.9,
          33,
          35.6,
          28.8,
          24.5,
          34.4,
          29.2,
          46.1,
          31.3,
          39.4,
          37.4,
          27.5,
          41.5,
          37.7,
          48.2,
          28.9,
          56.1,
          18.5,
          43.2,
          51.2,
          50.7,
          46.9,
          49.6,
          47,
          33.8,
          80,
          33.9
         ]
        }
       ],
       "layout": {
        "geo": {
         "scope": "usa"
        },
        "template": {
         "data": {
          "bar": [
           {
            "error_x": {
             "color": "#2a3f5f"
            },
            "error_y": {
             "color": "#2a3f5f"
            },
            "marker": {
             "line": {
              "color": "#E5ECF6",
              "width": 0.5
             },
             "pattern": {
              "fillmode": "overlay",
              "size": 10,
              "solidity": 0.2
             }
            },
            "type": "bar"
           }
          ],
          "barpolar": [
           {
            "marker": {
             "line": {
              "color": "#E5ECF6",
              "width": 0.5
             },
             "pattern": {
              "fillmode": "overlay",
              "size": 10,
              "solidity": 0.2
             }
            },
            "type": "barpolar"
           }
          ],
          "carpet": [
           {
            "aaxis": {
             "endlinecolor": "#2a3f5f",
             "gridcolor": "white",
             "linecolor": "white",
             "minorgridcolor": "white",
             "startlinecolor": "#2a3f5f"
            },
            "baxis": {
             "endlinecolor": "#2a3f5f",
             "gridcolor": "white",
             "linecolor": "white",
             "minorgridcolor": "white",
             "startlinecolor": "#2a3f5f"
            },
            "type": "carpet"
           }
          ],
          "choropleth": [
           {
            "colorbar": {
             "outlinewidth": 0,
             "ticks": ""
            },
            "type": "choropleth"
           }
          ],
          "contour": [
           {
            "colorbar": {
             "outlinewidth": 0,
             "ticks": ""
            },
            "colorscale": [
             [
              0,
              "#0d0887"
             ],
             [
              0.1111111111111111,
              "#46039f"
             ],
             [
              0.2222222222222222,
              "#7201a8"
             ],
             [
              0.3333333333333333,
              "#9c179e"
             ],
             [
              0.4444444444444444,
              "#bd3786"
             ],
             [
              0.5555555555555556,
              "#d8576b"
             ],
             [
              0.6666666666666666,
              "#ed7953"
             ],
             [
              0.7777777777777778,
              "#fb9f3a"
             ],
             [
              0.8888888888888888,
              "#fdca26"
             ],
             [
              1,
              "#f0f921"
             ]
            ],
            "type": "contour"
           }
          ],
          "contourcarpet": [
           {
            "colorbar": {
             "outlinewidth": 0,
             "ticks": ""
            },
            "type": "contourcarpet"
           }
          ],
          "heatmap": [
           {
            "colorbar": {
             "outlinewidth": 0,
             "ticks": ""
            },
            "colorscale": [
             [
              0,
              "#0d0887"
             ],
             [
              0.1111111111111111,
              "#46039f"
             ],
             [
              0.2222222222222222,
              "#7201a8"
             ],
             [
              0.3333333333333333,
              "#9c179e"
             ],
             [
              0.4444444444444444,
              "#bd3786"
             ],
             [
              0.5555555555555556,
              "#d8576b"
             ],
             [
              0.6666666666666666,
              "#ed7953"
             ],
             [
              0.7777777777777778,
              "#fb9f3a"
             ],
             [
              0.8888888888888888,
              "#fdca26"
             ],
             [
              1,
              "#f0f921"
             ]
            ],
            "type": "heatmap"
           }
          ],
          "heatmapgl": [
           {
            "colorbar": {
             "outlinewidth": 0,
             "ticks": ""
            },
            "colorscale": [
             [
              0,
              "#0d0887"
             ],
             [
              0.1111111111111111,
              "#46039f"
             ],
             [
              0.2222222222222222,
              "#7201a8"
             ],
             [
              0.3333333333333333,
              "#9c179e"
             ],
             [
              0.4444444444444444,
              "#bd3786"
             ],
             [
              0.5555555555555556,
              "#d8576b"
             ],
             [
              0.6666666666666666,
              "#ed7953"
             ],
             [
              0.7777777777777778,
              "#fb9f3a"
             ],
             [
              0.8888888888888888,
              "#fdca26"
             ],
             [
              1,
              "#f0f921"
             ]
            ],
            "type": "heatmapgl"
           }
          ],
          "histogram": [
           {
            "marker": {
             "pattern": {
              "fillmode": "overlay",
              "size": 10,
              "solidity": 0.2
             }
            },
            "type": "histogram"
           }
          ],
          "histogram2d": [
           {
            "colorbar": {
             "outlinewidth": 0,
             "ticks": ""
            },
            "colorscale": [
             [
              0,
              "#0d0887"
             ],
             [
              0.1111111111111111,
              "#46039f"
             ],
             [
              0.2222222222222222,
              "#7201a8"
             ],
             [
              0.3333333333333333,
              "#9c179e"
             ],
             [
              0.4444444444444444,
              "#bd3786"
             ],
             [
              0.5555555555555556,
              "#d8576b"
             ],
             [
              0.6666666666666666,
              "#ed7953"
             ],
             [
              0.7777777777777778,
              "#fb9f3a"
             ],
             [
              0.8888888888888888,
              "#fdca26"
             ],
             [
              1,
              "#f0f921"
             ]
            ],
            "type": "histogram2d"
           }
          ],
          "histogram2dcontour": [
           {
            "colorbar": {
             "outlinewidth": 0,
             "ticks": ""
            },
            "colorscale": [
             [
              0,
              "#0d0887"
             ],
             [
              0.1111111111111111,
              "#46039f"
             ],
             [
              0.2222222222222222,
              "#7201a8"
             ],
             [
              0.3333333333333333,
              "#9c179e"
             ],
             [
              0.4444444444444444,
              "#bd3786"
             ],
             [
              0.5555555555555556,
              "#d8576b"
             ],
             [
              0.6666666666666666,
              "#ed7953"
             ],
             [
              0.7777777777777778,
              "#fb9f3a"
             ],
             [
              0.8888888888888888,
              "#fdca26"
             ],
             [
              1,
              "#f0f921"
             ]
            ],
            "type": "histogram2dcontour"
           }
          ],
          "mesh3d": [
           {
            "colorbar": {
             "outlinewidth": 0,
             "ticks": ""
            },
            "type": "mesh3d"
           }
          ],
          "parcoords": [
           {
            "line": {
             "colorbar": {
              "outlinewidth": 0,
              "ticks": ""
             }
            },
            "type": "parcoords"
           }
          ],
          "pie": [
           {
            "automargin": true,
            "type": "pie"
           }
          ],
          "scatter": [
           {
            "fillpattern": {
             "fillmode": "overlay",
             "size": 10,
             "solidity": 0.2
            },
            "type": "scatter"
           }
          ],
          "scatter3d": [
           {
            "line": {
             "colorbar": {
              "outlinewidth": 0,
              "ticks": ""
             }
            },
            "marker": {
             "colorbar": {
              "outlinewidth": 0,
              "ticks": ""
             }
            },
            "type": "scatter3d"
           }
          ],
          "scattercarpet": [
           {
            "marker": {
             "colorbar": {
              "outlinewidth": 0,
              "ticks": ""
             }
            },
            "type": "scattercarpet"
           }
          ],
          "scattergeo": [
           {
            "marker": {
             "colorbar": {
              "outlinewidth": 0,
              "ticks": ""
             }
            },
            "type": "scattergeo"
           }
          ],
          "scattergl": [
           {
            "marker": {
             "colorbar": {
              "outlinewidth": 0,
              "ticks": ""
             }
            },
            "type": "scattergl"
           }
          ],
          "scattermapbox": [
           {
            "marker": {
             "colorbar": {
              "outlinewidth": 0,
              "ticks": ""
             }
            },
            "type": "scattermapbox"
           }
          ],
          "scatterpolar": [
           {
            "marker": {
             "colorbar": {
              "outlinewidth": 0,
              "ticks": ""
             }
            },
            "type": "scatterpolar"
           }
          ],
          "scatterpolargl": [
           {
            "marker": {
             "colorbar": {
              "outlinewidth": 0,
              "ticks": ""
             }
            },
            "type": "scatterpolargl"
           }
          ],
          "scatterternary": [
           {
            "marker": {
             "colorbar": {
              "outlinewidth": 0,
              "ticks": ""
             }
            },
            "type": "scatterternary"
           }
          ],
          "surface": [
           {
            "colorbar": {
             "outlinewidth": 0,
             "ticks": ""
            },
            "colorscale": [
             [
              0,
              "#0d0887"
             ],
             [
              0.1111111111111111,
              "#46039f"
             ],
             [
              0.2222222222222222,
              "#7201a8"
             ],
             [
              0.3333333333333333,
              "#9c179e"
             ],
             [
              0.4444444444444444,
              "#bd3786"
             ],
             [
              0.5555555555555556,
              "#d8576b"
             ],
             [
              0.6666666666666666,
              "#ed7953"
             ],
             [
              0.7777777777777778,
              "#fb9f3a"
             ],
             [
              0.8888888888888888,
              "#fdca26"
             ],
             [
              1,
              "#f0f921"
             ]
            ],
            "type": "surface"
           }
          ],
          "table": [
           {
            "cells": {
             "fill": {
              "color": "#EBF0F8"
             },
             "line": {
              "color": "white"
             }
            },
            "header": {
             "fill": {
              "color": "#C8D4E3"
             },
             "line": {
              "color": "white"
             }
            },
            "type": "table"
           }
          ]
         },
         "layout": {
          "annotationdefaults": {
           "arrowcolor": "#2a3f5f",
           "arrowhead": 0,
           "arrowwidth": 1
          },
          "autotypenumbers": "strict",
          "coloraxis": {
           "colorbar": {
            "outlinewidth": 0,
            "ticks": ""
           }
          },
          "colorscale": {
           "diverging": [
            [
             0,
             "#8e0152"
            ],
            [
             0.1,
             "#c51b7d"
            ],
            [
             0.2,
             "#de77ae"
            ],
            [
             0.3,
             "#f1b6da"
            ],
            [
             0.4,
             "#fde0ef"
            ],
            [
             0.5,
             "#f7f7f7"
            ],
            [
             0.6,
             "#e6f5d0"
            ],
            [
             0.7,
             "#b8e186"
            ],
            [
             0.8,
             "#7fbc41"
            ],
            [
             0.9,
             "#4d9221"
            ],
            [
             1,
             "#276419"
            ]
           ],
           "sequential": [
            [
             0,
             "#0d0887"
            ],
            [
             0.1111111111111111,
             "#46039f"
            ],
            [
             0.2222222222222222,
             "#7201a8"
            ],
            [
             0.3333333333333333,
             "#9c179e"
            ],
            [
             0.4444444444444444,
             "#bd3786"
            ],
            [
             0.5555555555555556,
             "#d8576b"
            ],
            [
             0.6666666666666666,
             "#ed7953"
            ],
            [
             0.7777777777777778,
             "#fb9f3a"
            ],
            [
             0.8888888888888888,
             "#fdca26"
            ],
            [
             1,
             "#f0f921"
            ]
           ],
           "sequentialminus": [
            [
             0,
             "#0d0887"
            ],
            [
             0.1111111111111111,
             "#46039f"
            ],
            [
             0.2222222222222222,
             "#7201a8"
            ],
            [
             0.3333333333333333,
             "#9c179e"
            ],
            [
             0.4444444444444444,
             "#bd3786"
            ],
            [
             0.5555555555555556,
             "#d8576b"
            ],
            [
             0.6666666666666666,
             "#ed7953"
            ],
            [
             0.7777777777777778,
             "#fb9f3a"
            ],
            [
             0.8888888888888888,
             "#fdca26"
            ],
            [
             1,
             "#f0f921"
            ]
           ]
          },
          "colorway": [
           "#636efa",
           "#EF553B",
           "#00cc96",
           "#ab63fa",
           "#FFA15A",
           "#19d3f3",
           "#FF6692",
           "#B6E880",
           "#FF97FF",
           "#FECB52"
          ],
          "font": {
           "color": "#2a3f5f"
          },
          "geo": {
           "bgcolor": "white",
           "lakecolor": "white",
           "landcolor": "#E5ECF6",
           "showlakes": true,
           "showland": true,
           "subunitcolor": "white"
          },
          "hoverlabel": {
           "align": "left"
          },
          "hovermode": "closest",
          "mapbox": {
           "style": "light"
          },
          "paper_bgcolor": "white",
          "plot_bgcolor": "#E5ECF6",
          "polar": {
           "angularaxis": {
            "gridcolor": "white",
            "linecolor": "white",
            "ticks": ""
           },
           "bgcolor": "#E5ECF6",
           "radialaxis": {
            "gridcolor": "white",
            "linecolor": "white",
            "ticks": ""
           }
          },
          "scene": {
           "xaxis": {
            "backgroundcolor": "#E5ECF6",
            "gridcolor": "white",
            "gridwidth": 2,
            "linecolor": "white",
            "showbackground": true,
            "ticks": "",
            "zerolinecolor": "white"
           },
           "yaxis": {
            "backgroundcolor": "#E5ECF6",
            "gridcolor": "white",
            "gridwidth": 2,
            "linecolor": "white",
            "showbackground": true,
            "ticks": "",
            "zerolinecolor": "white"
           },
           "zaxis": {
            "backgroundcolor": "#E5ECF6",
            "gridcolor": "white",
            "gridwidth": 2,
            "linecolor": "white",
            "showbackground": true,
            "ticks": "",
            "zerolinecolor": "white"
           }
          },
          "shapedefaults": {
           "line": {
            "color": "#2a3f5f"
           }
          },
          "ternary": {
           "aaxis": {
            "gridcolor": "white",
            "linecolor": "white",
            "ticks": ""
           },
           "baxis": {
            "gridcolor": "white",
            "linecolor": "white",
            "ticks": ""
           },
           "bgcolor": "#E5ECF6",
           "caxis": {
            "gridcolor": "white",
            "linecolor": "white",
            "ticks": ""
           }
          },
          "title": {
           "x": 0.05
          },
          "xaxis": {
           "automargin": true,
           "gridcolor": "white",
           "linecolor": "white",
           "ticks": "",
           "title": {
            "standoff": 15
           },
           "zerolinecolor": "white",
           "zerolinewidth": 2
          },
          "yaxis": {
           "automargin": true,
           "gridcolor": "white",
           "linecolor": "white",
           "ticks": "",
           "title": {
            "standoff": 15
           },
           "zerolinecolor": "white",
           "zerolinewidth": 2
          }
         }
        },
        "title": {
         "text": "2021 Veteran Suicide Rate by State"
        }
       }
      },
      "text/html": [
       "<div>                            <div id=\"4044b071-1e7e-4ab1-83ad-c0e12fafc4e0\" class=\"plotly-graph-div\" style=\"height:525px; width:100%;\"></div>            <script type=\"text/javascript\">                require([\"plotly\"], function(Plotly) {                    window.PLOTLYENV=window.PLOTLYENV || {};                                    if (document.getElementById(\"4044b071-1e7e-4ab1-83ad-c0e12fafc4e0\")) {                    Plotly.newPlot(                        \"4044b071-1e7e-4ab1-83ad-c0e12fafc4e0\",                        [{\"colorbar\":{\"title\":{\"text\":\"2021 Veteran Suicide Rate\"}},\"colorscale\":[[0.0,\"rgb(255,245,235)\"],[0.125,\"rgb(254,230,206)\"],[0.25,\"rgb(253,208,162)\"],[0.375,\"rgb(253,174,107)\"],[0.5,\"rgb(253,141,60)\"],[0.625,\"rgb(241,105,19)\"],[0.75,\"rgb(217,72,1)\"],[0.875,\"rgb(166,54,3)\"],[1.0,\"rgb(127,39,4)\"]],\"locationmode\":\"USA-states\",\"locations\":[\"CT\",\"ME\",\"MA\",\"NH\",\"NJ\",\"NY\",\"PA\",\"RI\",\"VT\",\"IL\",\"IN\",\"IA\",\"KS\",\"MI\",\"MN\",\"MO\",\"NE\",\"ND\",\"OH\",\"SD\",\"WI\",\"AL\",\"AR\",\"DE\",\"DC\",\"FL\",\"GA\",\"KY\",\"LA\",\"MD\",\"MS\",\"NC\",\"OK\",\"SC\",\"TN\",\"TX\",\"VA\",\"WV\",\"AK\",\"AZ\",\"CA\",\"CO\",\"HI\",\"ID\",\"MT\",\"NV\",\"NM\",\"OR\",\"UT\",\"WA\",\"WY\",\"U.S. TOTAL\"],\"text\":[\"Connecticut\",\"Maine\",\"Massachusetts\",\"New Hampshire\",\"New Jersey\",\"New York\",\"Pennsylvania\",\"Rhode Island\",\"Vermont\",\"Illinois\",\"Indiana\",\"Iowa\",\"Kansas\",\"Michigan\",\"Minnesota\",\"Missouri\",\"Nebraska\",\"North Dakota\",\"Ohio\",\"South Dakota\",\"Wisconsin\",\"Alabama\",\"Arkansas\",\"Delaware\",\"District of Columbia\",\"Florida\",\"Georgia\",\"Kentucky\",\"Louisiana\",\"Maryland\",\"Mississippi\",\"North Carolina\",\"Oklahoma\",\"South Carolina\",\"Tennessee\",\"Texas\",\"Virginia\",\"West Virginia\",\"Alaska\",\"Arizona\",\"California\",\"Colorado\",\"Hawaii\",\"Idaho\",\"Montana\",\"Nevada\",\"New Mexico\",\"Oregon\",\"Utah\",\"Washington\",\"Wyoming\",\"U.S. Total\"],\"z\":[20.6,34.5,19.1,29.3,16.3,19.3,32.9,19.0,46.2,26.4,34.8,36.0,34.2,31.1,29.7,45.2,36.4,25.5,33.9,47.8,31.9,35.4,39.6,33.8,0.0,36.9,33.0,35.6,28.8,24.5,34.4,29.2,46.1,31.3,39.4,37.4,27.5,41.5,37.7,48.2,28.9,56.1,18.5,43.2,51.2,50.7,46.9,49.6,47.0,33.8,80.0,33.9],\"type\":\"choropleth\"}],                        {\"template\":{\"data\":{\"histogram2dcontour\":[{\"type\":\"histogram2dcontour\",\"colorbar\":{\"outlinewidth\":0,\"ticks\":\"\"},\"colorscale\":[[0.0,\"#0d0887\"],[0.1111111111111111,\"#46039f\"],[0.2222222222222222,\"#7201a8\"],[0.3333333333333333,\"#9c179e\"],[0.4444444444444444,\"#bd3786\"],[0.5555555555555556,\"#d8576b\"],[0.6666666666666666,\"#ed7953\"],[0.7777777777777778,\"#fb9f3a\"],[0.8888888888888888,\"#fdca26\"],[1.0,\"#f0f921\"]]}],\"choropleth\":[{\"type\":\"choropleth\",\"colorbar\":{\"outlinewidth\":0,\"ticks\":\"\"}}],\"histogram2d\":[{\"type\":\"histogram2d\",\"colorbar\":{\"outlinewidth\":0,\"ticks\":\"\"},\"colorscale\":[[0.0,\"#0d0887\"],[0.1111111111111111,\"#46039f\"],[0.2222222222222222,\"#7201a8\"],[0.3333333333333333,\"#9c179e\"],[0.4444444444444444,\"#bd3786\"],[0.5555555555555556,\"#d8576b\"],[0.6666666666666666,\"#ed7953\"],[0.7777777777777778,\"#fb9f3a\"],[0.8888888888888888,\"#fdca26\"],[1.0,\"#f0f921\"]]}],\"heatmap\":[{\"type\":\"heatmap\",\"colorbar\":{\"outlinewidth\":0,\"ticks\":\"\"},\"colorscale\":[[0.0,\"#0d0887\"],[0.1111111111111111,\"#46039f\"],[0.2222222222222222,\"#7201a8\"],[0.3333333333333333,\"#9c179e\"],[0.4444444444444444,\"#bd3786\"],[0.5555555555555556,\"#d8576b\"],[0.6666666666666666,\"#ed7953\"],[0.7777777777777778,\"#fb9f3a\"],[0.8888888888888888,\"#fdca26\"],[1.0,\"#f0f921\"]]}],\"heatmapgl\":[{\"type\":\"heatmapgl\",\"colorbar\":{\"outlinewidth\":0,\"ticks\":\"\"},\"colorscale\":[[0.0,\"#0d0887\"],[0.1111111111111111,\"#46039f\"],[0.2222222222222222,\"#7201a8\"],[0.3333333333333333,\"#9c179e\"],[0.4444444444444444,\"#bd3786\"],[0.5555555555555556,\"#d8576b\"],[0.6666666666666666,\"#ed7953\"],[0.7777777777777778,\"#fb9f3a\"],[0.8888888888888888,\"#fdca26\"],[1.0,\"#f0f921\"]]}],\"contourcarpet\":[{\"type\":\"contourcarpet\",\"colorbar\":{\"outlinewidth\":0,\"ticks\":\"\"}}],\"contour\":[{\"type\":\"contour\",\"colorbar\":{\"outlinewidth\":0,\"ticks\":\"\"},\"colorscale\":[[0.0,\"#0d0887\"],[0.1111111111111111,\"#46039f\"],[0.2222222222222222,\"#7201a8\"],[0.3333333333333333,\"#9c179e\"],[0.4444444444444444,\"#bd3786\"],[0.5555555555555556,\"#d8576b\"],[0.6666666666666666,\"#ed7953\"],[0.7777777777777778,\"#fb9f3a\"],[0.8888888888888888,\"#fdca26\"],[1.0,\"#f0f921\"]]}],\"surface\":[{\"type\":\"surface\",\"colorbar\":{\"outlinewidth\":0,\"ticks\":\"\"},\"colorscale\":[[0.0,\"#0d0887\"],[0.1111111111111111,\"#46039f\"],[0.2222222222222222,\"#7201a8\"],[0.3333333333333333,\"#9c179e\"],[0.4444444444444444,\"#bd3786\"],[0.5555555555555556,\"#d8576b\"],[0.6666666666666666,\"#ed7953\"],[0.7777777777777778,\"#fb9f3a\"],[0.8888888888888888,\"#fdca26\"],[1.0,\"#f0f921\"]]}],\"mesh3d\":[{\"type\":\"mesh3d\",\"colorbar\":{\"outlinewidth\":0,\"ticks\":\"\"}}],\"scatter\":[{\"fillpattern\":{\"fillmode\":\"overlay\",\"size\":10,\"solidity\":0.2},\"type\":\"scatter\"}],\"parcoords\":[{\"type\":\"parcoords\",\"line\":{\"colorbar\":{\"outlinewidth\":0,\"ticks\":\"\"}}}],\"scatterpolargl\":[{\"type\":\"scatterpolargl\",\"marker\":{\"colorbar\":{\"outlinewidth\":0,\"ticks\":\"\"}}}],\"bar\":[{\"error_x\":{\"color\":\"#2a3f5f\"},\"error_y\":{\"color\":\"#2a3f5f\"},\"marker\":{\"line\":{\"color\":\"#E5ECF6\",\"width\":0.5},\"pattern\":{\"fillmode\":\"overlay\",\"size\":10,\"solidity\":0.2}},\"type\":\"bar\"}],\"scattergeo\":[{\"type\":\"scattergeo\",\"marker\":{\"colorbar\":{\"outlinewidth\":0,\"ticks\":\"\"}}}],\"scatterpolar\":[{\"type\":\"scatterpolar\",\"marker\":{\"colorbar\":{\"outlinewidth\":0,\"ticks\":\"\"}}}],\"histogram\":[{\"marker\":{\"pattern\":{\"fillmode\":\"overlay\",\"size\":10,\"solidity\":0.2}},\"type\":\"histogram\"}],\"scattergl\":[{\"type\":\"scattergl\",\"marker\":{\"colorbar\":{\"outlinewidth\":0,\"ticks\":\"\"}}}],\"scatter3d\":[{\"type\":\"scatter3d\",\"line\":{\"colorbar\":{\"outlinewidth\":0,\"ticks\":\"\"}},\"marker\":{\"colorbar\":{\"outlinewidth\":0,\"ticks\":\"\"}}}],\"scattermapbox\":[{\"type\":\"scattermapbox\",\"marker\":{\"colorbar\":{\"outlinewidth\":0,\"ticks\":\"\"}}}],\"scatterternary\":[{\"type\":\"scatterternary\",\"marker\":{\"colorbar\":{\"outlinewidth\":0,\"ticks\":\"\"}}}],\"scattercarpet\":[{\"type\":\"scattercarpet\",\"marker\":{\"colorbar\":{\"outlinewidth\":0,\"ticks\":\"\"}}}],\"carpet\":[{\"aaxis\":{\"endlinecolor\":\"#2a3f5f\",\"gridcolor\":\"white\",\"linecolor\":\"white\",\"minorgridcolor\":\"white\",\"startlinecolor\":\"#2a3f5f\"},\"baxis\":{\"endlinecolor\":\"#2a3f5f\",\"gridcolor\":\"white\",\"linecolor\":\"white\",\"minorgridcolor\":\"white\",\"startlinecolor\":\"#2a3f5f\"},\"type\":\"carpet\"}],\"table\":[{\"cells\":{\"fill\":{\"color\":\"#EBF0F8\"},\"line\":{\"color\":\"white\"}},\"header\":{\"fill\":{\"color\":\"#C8D4E3\"},\"line\":{\"color\":\"white\"}},\"type\":\"table\"}],\"barpolar\":[{\"marker\":{\"line\":{\"color\":\"#E5ECF6\",\"width\":0.5},\"pattern\":{\"fillmode\":\"overlay\",\"size\":10,\"solidity\":0.2}},\"type\":\"barpolar\"}],\"pie\":[{\"automargin\":true,\"type\":\"pie\"}]},\"layout\":{\"autotypenumbers\":\"strict\",\"colorway\":[\"#636efa\",\"#EF553B\",\"#00cc96\",\"#ab63fa\",\"#FFA15A\",\"#19d3f3\",\"#FF6692\",\"#B6E880\",\"#FF97FF\",\"#FECB52\"],\"font\":{\"color\":\"#2a3f5f\"},\"hovermode\":\"closest\",\"hoverlabel\":{\"align\":\"left\"},\"paper_bgcolor\":\"white\",\"plot_bgcolor\":\"#E5ECF6\",\"polar\":{\"bgcolor\":\"#E5ECF6\",\"angularaxis\":{\"gridcolor\":\"white\",\"linecolor\":\"white\",\"ticks\":\"\"},\"radialaxis\":{\"gridcolor\":\"white\",\"linecolor\":\"white\",\"ticks\":\"\"}},\"ternary\":{\"bgcolor\":\"#E5ECF6\",\"aaxis\":{\"gridcolor\":\"white\",\"linecolor\":\"white\",\"ticks\":\"\"},\"baxis\":{\"gridcolor\":\"white\",\"linecolor\":\"white\",\"ticks\":\"\"},\"caxis\":{\"gridcolor\":\"white\",\"linecolor\":\"white\",\"ticks\":\"\"}},\"coloraxis\":{\"colorbar\":{\"outlinewidth\":0,\"ticks\":\"\"}},\"colorscale\":{\"sequential\":[[0.0,\"#0d0887\"],[0.1111111111111111,\"#46039f\"],[0.2222222222222222,\"#7201a8\"],[0.3333333333333333,\"#9c179e\"],[0.4444444444444444,\"#bd3786\"],[0.5555555555555556,\"#d8576b\"],[0.6666666666666666,\"#ed7953\"],[0.7777777777777778,\"#fb9f3a\"],[0.8888888888888888,\"#fdca26\"],[1.0,\"#f0f921\"]],\"sequentialminus\":[[0.0,\"#0d0887\"],[0.1111111111111111,\"#46039f\"],[0.2222222222222222,\"#7201a8\"],[0.3333333333333333,\"#9c179e\"],[0.4444444444444444,\"#bd3786\"],[0.5555555555555556,\"#d8576b\"],[0.6666666666666666,\"#ed7953\"],[0.7777777777777778,\"#fb9f3a\"],[0.8888888888888888,\"#fdca26\"],[1.0,\"#f0f921\"]],\"diverging\":[[0,\"#8e0152\"],[0.1,\"#c51b7d\"],[0.2,\"#de77ae\"],[0.3,\"#f1b6da\"],[0.4,\"#fde0ef\"],[0.5,\"#f7f7f7\"],[0.6,\"#e6f5d0\"],[0.7,\"#b8e186\"],[0.8,\"#7fbc41\"],[0.9,\"#4d9221\"],[1,\"#276419\"]]},\"xaxis\":{\"gridcolor\":\"white\",\"linecolor\":\"white\",\"ticks\":\"\",\"title\":{\"standoff\":15},\"zerolinecolor\":\"white\",\"automargin\":true,\"zerolinewidth\":2},\"yaxis\":{\"gridcolor\":\"white\",\"linecolor\":\"white\",\"ticks\":\"\",\"title\":{\"standoff\":15},\"zerolinecolor\":\"white\",\"automargin\":true,\"zerolinewidth\":2},\"scene\":{\"xaxis\":{\"backgroundcolor\":\"#E5ECF6\",\"gridcolor\":\"white\",\"linecolor\":\"white\",\"showbackground\":true,\"ticks\":\"\",\"zerolinecolor\":\"white\",\"gridwidth\":2},\"yaxis\":{\"backgroundcolor\":\"#E5ECF6\",\"gridcolor\":\"white\",\"linecolor\":\"white\",\"showbackground\":true,\"ticks\":\"\",\"zerolinecolor\":\"white\",\"gridwidth\":2},\"zaxis\":{\"backgroundcolor\":\"#E5ECF6\",\"gridcolor\":\"white\",\"linecolor\":\"white\",\"showbackground\":true,\"ticks\":\"\",\"zerolinecolor\":\"white\",\"gridwidth\":2}},\"shapedefaults\":{\"line\":{\"color\":\"#2a3f5f\"}},\"annotationdefaults\":{\"arrowcolor\":\"#2a3f5f\",\"arrowhead\":0,\"arrowwidth\":1},\"geo\":{\"bgcolor\":\"white\",\"landcolor\":\"#E5ECF6\",\"subunitcolor\":\"white\",\"showland\":true,\"showlakes\":true,\"lakecolor\":\"white\"},\"title\":{\"x\":0.05},\"mapbox\":{\"style\":\"light\"}}},\"title\":{\"text\":\"2021 Veteran Suicide Rate by State\"},\"geo\":{\"scope\":\"usa\"}},                        {\"responsive\": true}                    ).then(function(){\n",
       "                            \n",
       "var gd = document.getElementById('4044b071-1e7e-4ab1-83ad-c0e12fafc4e0');\n",
       "var x = new MutationObserver(function (mutations, observer) {{\n",
       "        var display = window.getComputedStyle(gd).display;\n",
       "        if (!display || display === 'none') {{\n",
       "            console.log([gd, 'removed!']);\n",
       "            Plotly.purge(gd);\n",
       "            observer.disconnect();\n",
       "        }}\n",
       "}});\n",
       "\n",
       "// Listen for the removal of the full notebook cells\n",
       "var notebookContainer = gd.closest('#notebook-container');\n",
       "if (notebookContainer) {{\n",
       "    x.observe(notebookContainer, {childList: true});\n",
       "}}\n",
       "\n",
       "// Listen for the clearing of the current output cell\n",
       "var outputEl = gd.closest('.output');\n",
       "if (outputEl) {{\n",
       "    x.observe(outputEl, {childList: true});\n",
       "}}\n",
       "\n",
       "                        })                };                });            </script>        </div>"
      ]
     },
     "metadata": {},
     "output_type": "display_data"
    }
   ],
   "source": [
    "fig = go.Figure(data=go.Choropleth(\n",
    "    locations=df_rate_state_2021['State'],\n",
    "    z = df_rate_state_2021['Veteran Suicide Rate'],\n",
    "    locationmode = 'USA-states',\n",
    "    colorscale = 'Oranges',\n",
    "    colorbar_title = \"2021 Veteran Suicide Rate\",\n",
    "    text = df_rate_state_2021['State of Death']\n",
    "))\n",
    "\n",
    "#layout for chloropleth\n",
    "\n",
    "fig.update_layout(\n",
    "    title_text = '2021 Veteran Suicide Rate by State',\n",
    "    geo_scope='usa',\n",
    ")\n",
    "\n",
    "#shows the chloropleth\n",
    "\n",
    "fig.show()"
   ]
  },
  {
   "cell_type": "markdown",
   "id": "f50ec899",
   "metadata": {},
   "source": [
    "### What are the 5 highest states by Veteran Suicide Rates per 100k of population in 2021?\n",
    "\n",
    "### Did the order of the highest and lowest states change based on the population?"
   ]
  },
  {
   "cell_type": "code",
   "execution_count": 46,
   "id": "788be24c",
   "metadata": {},
   "outputs": [
    {
     "name": "stdout",
     "output_type": "stream",
     "text": [
      "\u001b[1m5 Highest States of Veteran Suicides in 2021: \u001b[0m\n",
      "      Year of Death State of Death  Veteran Suicides\n",
      "1075           2021          Texas               583\n",
      "1065           2021        Florida               546\n",
      "1080           2021     California               461\n",
      "1046           2021   Pennsylvania               246\n",
      "1058           2021           Ohio               242\n",
      "\u001b[1m5 Highest States of Veteran Suicide Rate in 2021: \u001b[0m\n",
      "      Year State of Death  Veteran Suicide Rate\n",
      "5874  2021        Wyoming                  80.0\n",
      "5829  2021       Colorado                  56.1\n",
      "5844  2021        Montana                  51.2\n",
      "5849  2021         Nevada                  50.7\n",
      "5859  2021         Oregon                  49.6\n"
     ]
    }
   ],
   "source": [
    "#print 5 Highest States of Veteran Suicides in 2021 Using the ANSI Escape Sequence for Bold\n",
    "\n",
    "print('\\033[1m'+'5 Highest States of Veteran Suicides in 2021: '+'\\033[0m')\n",
    "\n",
    "#Print head of the df_state_total_2021 sorting from highest to lowest\n",
    "\n",
    "print(df_state_total_2021[['Year of Death','State of Death','Veteran Suicides']].sort_values(['Veteran Suicides'],ascending=False).head())\n",
    "\n",
    "#print 5 Highest States of Veteran Suicides in 2021 Using the ANSI Escape Sequence for Bold\n",
    "\n",
    "print('\\033[1m'+'5 Highest States of Veteran Suicide Rate in 2021: '+'\\033[0m')\n",
    "\n",
    "#Print head of the df_rate_state_2021 sorting from highest to lowest\n",
    "\n",
    "print(df_rate_state_2021[['Year','State of Death','Veteran Suicide Rate']].sort_values(['Veteran Suicide Rate'],ascending=False).head())"
   ]
  },
  {
   "cell_type": "code",
   "execution_count": 47,
   "id": "0f906581",
   "metadata": {},
   "outputs": [
    {
     "name": "stdout",
     "output_type": "stream",
     "text": [
      "\u001b[1m5 Lowest States of Veteran Suicides in 2021: \u001b[0m\n",
      "      Year of Death        State of Death  Veteran Suicides\n",
      "1064           2021  District of Columbia                10\n",
      "1047           2021          Rhode Island                11\n",
      "1057           2021          North Dakota                14\n",
      "1048           2021               Vermont                18\n",
      "1082           2021                Hawaii                20\n",
      "\u001b[1m5 Lowest States of Veteran Suicide Rate in 2021: \u001b[0m\n",
      "      Year        State of Death  Veteran Suicide Rate\n",
      "5739  2021  District of Columbia                   0.0\n",
      "5629  2021            New Jersey                  16.3\n",
      "5834  2021                Hawaii                  18.5\n",
      "5644  2021          Rhode Island                  19.0\n",
      "5619  2021         Massachusetts                  19.1\n"
     ]
    }
   ],
   "source": [
    "#print 5 Lowest States of Veteran Suicides in 2021 Using the ANSI Escape Sequence for Bold\n",
    "\n",
    "print('\\033[1m'+'5 Lowest States of Veteran Suicides in 2021: '+'\\033[0m')\n",
    "\n",
    "#Print head of the df_state_total_2021 sorting from lowest to highest\n",
    "\n",
    "print(df_state_total_2021[['Year of Death','State of Death','Veteran Suicides']].sort_values(['Veteran Suicides'],ascending=True).head())\n",
    "\n",
    "#print 5 Highest States of Veteran Suicides in 2021 Using the ANSI Escape Sequence for Bold\n",
    "\n",
    "print('\\033[1m'+'5 Lowest States of Veteran Suicide Rate in 2021: '+'\\033[0m')\n",
    "\n",
    "#Print head of the df_rate_state_2021 sorting from lowest to highest\n",
    "\n",
    "print(df_rate_state_2021[['Year','State of Death','Veteran Suicide Rate']].sort_values(['Veteran Suicide Rate'],ascending=True).head())"
   ]
  },
  {
   "cell_type": "markdown",
   "id": "8304bd91-070c-440e-b73d-fb057d2b7f15",
   "metadata": {},
   "source": [
    "### What is the mean of Veteran Suicide Rates per 100k of population for each region?"
   ]
  },
  {
   "cell_type": "code",
   "execution_count": 48,
   "id": "862c5a7d",
   "metadata": {},
   "outputs": [
    {
     "data": {
      "text/html": [
       "<div>\n",
       "<style scoped>\n",
       "    .dataframe tbody tr th:only-of-type {\n",
       "        vertical-align: middle;\n",
       "    }\n",
       "\n",
       "    .dataframe tbody tr th {\n",
       "        vertical-align: top;\n",
       "    }\n",
       "\n",
       "    .dataframe thead th {\n",
       "        text-align: right;\n",
       "    }\n",
       "</style>\n",
       "<table border=\"1\" class=\"dataframe\">\n",
       "  <thead>\n",
       "    <tr style=\"text-align: right;\">\n",
       "      <th></th>\n",
       "      <th>Year</th>\n",
       "      <th>Geographic Region</th>\n",
       "      <th>State of Death</th>\n",
       "      <th>Age Group</th>\n",
       "      <th>Veteran Suicide Rate</th>\n",
       "    </tr>\n",
       "  </thead>\n",
       "  <tbody>\n",
       "    <tr>\n",
       "      <th>4</th>\n",
       "      <td>2001</td>\n",
       "      <td>Northeastern</td>\n",
       "      <td>All</td>\n",
       "      <td>All</td>\n",
       "      <td>17.3</td>\n",
       "    </tr>\n",
       "    <tr>\n",
       "      <th>54</th>\n",
       "      <td>2001</td>\n",
       "      <td>Midwestern</td>\n",
       "      <td>All</td>\n",
       "      <td>All</td>\n",
       "      <td>23.6</td>\n",
       "    </tr>\n",
       "    <tr>\n",
       "      <th>124</th>\n",
       "      <td>2001</td>\n",
       "      <td>Southern</td>\n",
       "      <td>All</td>\n",
       "      <td>All</td>\n",
       "      <td>24.1</td>\n",
       "    </tr>\n",
       "    <tr>\n",
       "      <th>214</th>\n",
       "      <td>2001</td>\n",
       "      <td>Western</td>\n",
       "      <td>All</td>\n",
       "      <td>All</td>\n",
       "      <td>26.1</td>\n",
       "    </tr>\n",
       "    <tr>\n",
       "      <th>284</th>\n",
       "      <td>2002</td>\n",
       "      <td>Northeastern</td>\n",
       "      <td>All</td>\n",
       "      <td>All</td>\n",
       "      <td>16.6</td>\n",
       "    </tr>\n",
       "    <tr>\n",
       "      <th>...</th>\n",
       "      <td>...</td>\n",
       "      <td>...</td>\n",
       "      <td>...</td>\n",
       "      <td>...</td>\n",
       "      <td>...</td>\n",
       "    </tr>\n",
       "    <tr>\n",
       "      <th>5534</th>\n",
       "      <td>2020</td>\n",
       "      <td>Western</td>\n",
       "      <td>All</td>\n",
       "      <td>All</td>\n",
       "      <td>36.2</td>\n",
       "    </tr>\n",
       "    <tr>\n",
       "      <th>5604</th>\n",
       "      <td>2021</td>\n",
       "      <td>Northeastern</td>\n",
       "      <td>All</td>\n",
       "      <td>All</td>\n",
       "      <td>24.4</td>\n",
       "    </tr>\n",
       "    <tr>\n",
       "      <th>5654</th>\n",
       "      <td>2021</td>\n",
       "      <td>Midwestern</td>\n",
       "      <td>All</td>\n",
       "      <td>All</td>\n",
       "      <td>33.5</td>\n",
       "    </tr>\n",
       "    <tr>\n",
       "      <th>5724</th>\n",
       "      <td>2021</td>\n",
       "      <td>Southern</td>\n",
       "      <td>All</td>\n",
       "      <td>All</td>\n",
       "      <td>34.4</td>\n",
       "    </tr>\n",
       "    <tr>\n",
       "      <th>5814</th>\n",
       "      <td>2021</td>\n",
       "      <td>Western</td>\n",
       "      <td>All</td>\n",
       "      <td>All</td>\n",
       "      <td>39.2</td>\n",
       "    </tr>\n",
       "  </tbody>\n",
       "</table>\n",
       "<p>84 rows × 5 columns</p>\n",
       "</div>"
      ],
      "text/plain": [
       "      Year Geographic Region State of Death Age Group  Veteran Suicide Rate\n",
       "4     2001      Northeastern            All       All                  17.3\n",
       "54    2001        Midwestern            All       All                  23.6\n",
       "124   2001          Southern            All       All                  24.1\n",
       "214   2001           Western            All       All                  26.1\n",
       "284   2002      Northeastern            All       All                  16.6\n",
       "...    ...               ...            ...       ...                   ...\n",
       "5534  2020           Western            All       All                  36.2\n",
       "5604  2021      Northeastern            All       All                  24.4\n",
       "5654  2021        Midwestern            All       All                  33.5\n",
       "5724  2021          Southern            All       All                  34.4\n",
       "5814  2021           Western            All       All                  39.2\n",
       "\n",
       "[84 rows x 5 columns]"
      ]
     },
     "execution_count": 48,
     "metadata": {},
     "output_type": "execute_result"
    }
   ],
   "source": [
    "#Create dataframe with only selected columns 'Year','Geographic Region','State of Death','Age Group','Veteran Suicide Rate'\n",
    "\n",
    "df_rates=df_age_rename[['Year','Geographic Region','State of Death','Age Group','Veteran Suicide Rate']]\n",
    "\n",
    "#Create dataframe with .loc ['Geographic Region'] != 'All' & ['Age Group'] == 'All' & ['State of Death'] == 'All'\n",
    "\n",
    "df_rate_region=df_rates.loc[(df_rates['Geographic Region'] != 'All') & (df_rates['Age Group'] == 'All') & (df_rates['State of Death'] == 'All')]\n",
    "\n",
    "#display dataframe\n",
    "\n",
    "df_rate_region"
   ]
  },
  {
   "cell_type": "code",
   "execution_count": 49,
   "id": "735c3143",
   "metadata": {},
   "outputs": [
    {
     "data": {
      "text/html": [
       "<div>\n",
       "<style scoped>\n",
       "    .dataframe tbody tr th:only-of-type {\n",
       "        vertical-align: middle;\n",
       "    }\n",
       "\n",
       "    .dataframe tbody tr th {\n",
       "        vertical-align: top;\n",
       "    }\n",
       "\n",
       "    .dataframe thead th {\n",
       "        text-align: right;\n",
       "    }\n",
       "</style>\n",
       "<table border=\"1\" class=\"dataframe\">\n",
       "  <thead>\n",
       "    <tr style=\"text-align: right;\">\n",
       "      <th>Year</th>\n",
       "      <th>2001</th>\n",
       "      <th>2002</th>\n",
       "      <th>2003</th>\n",
       "      <th>2004</th>\n",
       "      <th>2005</th>\n",
       "      <th>2006</th>\n",
       "      <th>2007</th>\n",
       "      <th>2008</th>\n",
       "      <th>2009</th>\n",
       "      <th>2010</th>\n",
       "      <th>...</th>\n",
       "      <th>2012</th>\n",
       "      <th>2013</th>\n",
       "      <th>2014</th>\n",
       "      <th>2015</th>\n",
       "      <th>2016</th>\n",
       "      <th>2017</th>\n",
       "      <th>2018</th>\n",
       "      <th>2019</th>\n",
       "      <th>2020</th>\n",
       "      <th>2021</th>\n",
       "    </tr>\n",
       "    <tr>\n",
       "      <th>Geographic Region</th>\n",
       "      <th></th>\n",
       "      <th></th>\n",
       "      <th></th>\n",
       "      <th></th>\n",
       "      <th></th>\n",
       "      <th></th>\n",
       "      <th></th>\n",
       "      <th></th>\n",
       "      <th></th>\n",
       "      <th></th>\n",
       "      <th></th>\n",
       "      <th></th>\n",
       "      <th></th>\n",
       "      <th></th>\n",
       "      <th></th>\n",
       "      <th></th>\n",
       "      <th></th>\n",
       "      <th></th>\n",
       "      <th></th>\n",
       "      <th></th>\n",
       "      <th></th>\n",
       "    </tr>\n",
       "  </thead>\n",
       "  <tbody>\n",
       "    <tr>\n",
       "      <th>Midwestern</th>\n",
       "      <td>23.6</td>\n",
       "      <td>24.9</td>\n",
       "      <td>22.9</td>\n",
       "      <td>22.7</td>\n",
       "      <td>25.9</td>\n",
       "      <td>25.5</td>\n",
       "      <td>25.2</td>\n",
       "      <td>26.4</td>\n",
       "      <td>26.4</td>\n",
       "      <td>27.6</td>\n",
       "      <td>...</td>\n",
       "      <td>28.0</td>\n",
       "      <td>28.5</td>\n",
       "      <td>29.6</td>\n",
       "      <td>28.8</td>\n",
       "      <td>28.7</td>\n",
       "      <td>32.2</td>\n",
       "      <td>32.7</td>\n",
       "      <td>33.0</td>\n",
       "      <td>33.7</td>\n",
       "      <td>33.5</td>\n",
       "    </tr>\n",
       "    <tr>\n",
       "      <th>Northeastern</th>\n",
       "      <td>17.3</td>\n",
       "      <td>16.6</td>\n",
       "      <td>18.5</td>\n",
       "      <td>18.0</td>\n",
       "      <td>18.4</td>\n",
       "      <td>18.3</td>\n",
       "      <td>19.8</td>\n",
       "      <td>22.6</td>\n",
       "      <td>21.8</td>\n",
       "      <td>23.0</td>\n",
       "      <td>...</td>\n",
       "      <td>22.4</td>\n",
       "      <td>24.1</td>\n",
       "      <td>25.1</td>\n",
       "      <td>24.3</td>\n",
       "      <td>25.6</td>\n",
       "      <td>25.3</td>\n",
       "      <td>26.9</td>\n",
       "      <td>26.5</td>\n",
       "      <td>24.8</td>\n",
       "      <td>24.4</td>\n",
       "    </tr>\n",
       "    <tr>\n",
       "      <th>Southern</th>\n",
       "      <td>24.1</td>\n",
       "      <td>24.9</td>\n",
       "      <td>25.0</td>\n",
       "      <td>25.9</td>\n",
       "      <td>25.4</td>\n",
       "      <td>25.3</td>\n",
       "      <td>26.9</td>\n",
       "      <td>28.2</td>\n",
       "      <td>28.5</td>\n",
       "      <td>28.8</td>\n",
       "      <td>...</td>\n",
       "      <td>29.2</td>\n",
       "      <td>29.7</td>\n",
       "      <td>29.6</td>\n",
       "      <td>32.2</td>\n",
       "      <td>31.6</td>\n",
       "      <td>32.5</td>\n",
       "      <td>33.5</td>\n",
       "      <td>32.0</td>\n",
       "      <td>32.6</td>\n",
       "      <td>34.4</td>\n",
       "    </tr>\n",
       "    <tr>\n",
       "      <th>Western</th>\n",
       "      <td>26.1</td>\n",
       "      <td>28.0</td>\n",
       "      <td>27.6</td>\n",
       "      <td>27.4</td>\n",
       "      <td>27.7</td>\n",
       "      <td>28.8</td>\n",
       "      <td>31.6</td>\n",
       "      <td>33.8</td>\n",
       "      <td>34.6</td>\n",
       "      <td>33.8</td>\n",
       "      <td>...</td>\n",
       "      <td>34.2</td>\n",
       "      <td>34.0</td>\n",
       "      <td>37.4</td>\n",
       "      <td>35.9</td>\n",
       "      <td>35.5</td>\n",
       "      <td>37.9</td>\n",
       "      <td>37.5</td>\n",
       "      <td>37.6</td>\n",
       "      <td>36.2</td>\n",
       "      <td>39.2</td>\n",
       "    </tr>\n",
       "  </tbody>\n",
       "</table>\n",
       "<p>4 rows × 21 columns</p>\n",
       "</div>"
      ],
      "text/plain": [
       "Year               2001  2002  2003  2004  2005  2006  2007  2008  2009  2010  \\\n",
       "Geographic Region                                                               \n",
       "Midwestern         23.6  24.9  22.9  22.7  25.9  25.5  25.2  26.4  26.4  27.6   \n",
       "Northeastern       17.3  16.6  18.5  18.0  18.4  18.3  19.8  22.6  21.8  23.0   \n",
       "Southern           24.1  24.9  25.0  25.9  25.4  25.3  26.9  28.2  28.5  28.8   \n",
       "Western            26.1  28.0  27.6  27.4  27.7  28.8  31.6  33.8  34.6  33.8   \n",
       "\n",
       "Year               ...  2012  2013  2014  2015  2016  2017  2018  2019  2020  \\\n",
       "Geographic Region  ...                                                         \n",
       "Midwestern         ...  28.0  28.5  29.6  28.8  28.7  32.2  32.7  33.0  33.7   \n",
       "Northeastern       ...  22.4  24.1  25.1  24.3  25.6  25.3  26.9  26.5  24.8   \n",
       "Southern           ...  29.2  29.7  29.6  32.2  31.6  32.5  33.5  32.0  32.6   \n",
       "Western            ...  34.2  34.0  37.4  35.9  35.5  37.9  37.5  37.6  36.2   \n",
       "\n",
       "Year               2021  \n",
       "Geographic Region        \n",
       "Midwestern         33.5  \n",
       "Northeastern       24.4  \n",
       "Southern           34.4  \n",
       "Western            39.2  \n",
       "\n",
       "[4 rows x 21 columns]"
      ]
     },
     "execution_count": 49,
     "metadata": {},
     "output_type": "execute_result"
    }
   ],
   "source": [
    "#Create pivot_table (values='Veteran Suicide Rate',index='Geographic Region',columns='Year')\n",
    "\n",
    "df_rate_region.pivot_table(values='Veteran Suicide Rate',index='Geographic Region',columns='Year')"
   ]
  },
  {
   "cell_type": "markdown",
   "id": "da6bd7bb",
   "metadata": {},
   "source": [
    "### Did the order of the regions change based on the population?"
   ]
  },
  {
   "cell_type": "code",
   "execution_count": 50,
   "id": "52b13854",
   "metadata": {},
   "outputs": [
    {
     "name": "stdout",
     "output_type": "stream",
     "text": [
      "                   Veteran Suicides\n",
      "Geographic Region                  \n",
      "All                     6374.619048\n",
      "Southern                 155.176471\n",
      "Western                  125.190476\n",
      "Midwestern               113.690476\n",
      "Northeastern              83.296296\n",
      "                   Veteran Suicide Rate\n",
      "Geographic Region                      \n",
      "Western                       33.238095\n",
      "Southern                      29.019048\n",
      "Midwestern                    27.919048\n",
      "Northeastern                  22.285714\n",
      "All                                 NaN\n"
     ]
    }
   ],
   "source": [
    "#Reload dataframe with .groupby('Geographic Region') and calculate mean with .mean()\n",
    "\n",
    "df_region_mean=df_region.groupby('Geographic Region').mean()\n",
    "\n",
    "#Display Dataframe in descending order .groupby('Geographic Region') and calculate mean with .mean()\n",
    "\n",
    "print(df_region_mean.sort_values(['Veteran Suicides'],ascending=False))\n",
    "\n",
    "#Create a dataframe with selected columns\n",
    "\n",
    "df_rate_region_col=df_rate_region[['Geographic Region','Veteran Suicide Rate']]\n",
    "\n",
    "#Create dataframe with .groupby('Geographic Region') and calculate mean with .mean()\n",
    "\n",
    "df_rate_region_mean=df_rate_region_col.groupby('Geographic Region').mean()\n",
    "\n",
    "#Display Dataframe in descending order .groupby('Geographic Region') and calculate mean with .mean() for population\n",
    "\n",
    "print(df_rate_region_mean.sort_values(['Veteran Suicide Rate'],ascending=False))"
   ]
  },
  {
   "cell_type": "markdown",
   "id": "ea8e11e7",
   "metadata": {},
   "source": [
    "Reviewing the tables above we see that though the Southern region has the highest number of veteran suicides by population it is replaced as the leader by the Western region.  The Midwestern and Northeastern regions did not change in rank."
   ]
  },
  {
   "cell_type": "markdown",
   "id": "6e4697c7",
   "metadata": {},
   "source": [
    "### Are the Veteran Suicide Rates per 100k of population for the Regions changing?"
   ]
  },
  {
   "cell_type": "code",
   "execution_count": 51,
   "id": "f13652e3",
   "metadata": {},
   "outputs": [
    {
     "data": {
      "text/plain": [
       "<Axes: xlabel='Geographic Region', ylabel='Year'>"
      ]
     },
     "execution_count": 51,
     "metadata": {},
     "output_type": "execute_result"
    },
    {
     "data": {
      "image/png": "[encoded data removed]",
      "text/plain": [
       "<Figure size 1300x500 with 2 Axes>"
      ]
     },
     "metadata": {},
     "output_type": "display_data"
    }
   ],
   "source": [
    "#Create pivot_table (values='Veteran Suicide Rate',index='Year',columns='Geographic Region') and assign to vetrate\n",
    "\n",
    "vetrate=df_rate_region.pivot_table(values='Veteran Suicide Rate',index='Year',columns='Geographic Region')\n",
    "\n",
    "#Create sns heatmap with variable vetrate\n",
    "\n",
    "sns.heatmap(vetrate,cmap='magma',linecolor='white',linewidths=1)"
   ]
  },
  {
   "cell_type": "markdown",
   "id": "adc7ca74",
   "metadata": {},
   "source": [
    "As we can see here though the rates might vary overall there is evidence that indicates an overalll trend of increasing in each of the regions."
   ]
  },
  {
   "cell_type": "code",
   "execution_count": 163,
   "id": "f366d947",
   "metadata": {},
   "outputs": [
    {
     "data": {
      "text/plain": [
       "<seaborn.axisgrid.FacetGrid at 0x1e152999850>"
      ]
     },
     "execution_count": 163,
     "metadata": {},
     "output_type": "execute_result"
    },
    {
     "data": {
      "image/png": "[encoded data removed]",
      "text/plain": [
       "<Figure size 643.25x500 with 1 Axes>"
      ]
     },
     "metadata": {},
     "output_type": "display_data"
    }
   ],
   "source": [
    "#Create a new column 'Region' to remove All from 'Geographic Region' and then dropna()\n",
    "\n",
    "data=df_rate_region.assign(Region=df_rate_region['Geographic Region'].map({'Midwestern':'Midwestern','Northeastern':'Northeastern','Southern':'Southern','Western':'Western'})).dropna()\n",
    "\n",
    "#Create lmplot (x='Year',y='Veteran Suicide Rate',hue='Geographic Region',data=df_rate_region,palette='winter')\n",
    "\n",
    "sns.lmplot(x='Year',y='Veteran Suicide Rate',hue='Region',data=data,palette='winter')"
   ]
  },
  {
   "cell_type": "markdown",
   "id": "b2e73a11",
   "metadata": {},
   "source": [
    "###  Are veterans more vulnerable to suicide than the general population?"
   ]
  },
  {
   "cell_type": "code",
   "execution_count": 53,
   "id": "9c6b56d9",
   "metadata": {},
   "outputs": [
    {
     "data": {
      "application/vnd.plotly.v1+json": {
       "config": {
        "linkText": "Export to plot.ly",
        "plotlyServerURL": "https://plot.ly",
        "showLink": true
       },
       "data": [
        {
         "boxpoints": false,
         "line": {
          "width": 1.3
         },
         "marker": {
          "color": "rgba(255, 153, 51, 1.0)"
         },
         "name": "Veteran Suicide Rate",
         "orientation": "v",
         "type": "box",
         "y": [
          23.3,
          24.2,
          24,
          24.2,
          24.9,
          25,
          26.4,
          28.1,
          28.3,
          28.7,
          28.7,
          29,
          29.6,
          30.7,
          31.2,
          31,
          32.6,
          33.3,
          32.7,
          32.6,
          33.9
         ]
        },
        {
         "boxpoints": false,
         "line": {
          "width": 1.3
         },
         "marker": {
          "color": "rgba(55, 128, 191, 1.0)"
         },
         "name": "General Population Suicide Rate",
         "orientation": "v",
         "type": "box",
         "y": [
          13.9,
          14.3,
          14.1,
          14.3,
          14.2,
          14.4,
          14.9,
          15.2,
          15.4,
          15.9,
          16.1,
          16.4,
          16.5,
          16.9,
          17.3,
          17.4,
          18,
          18.4,
          18,
          17.2,
          18
         ]
        }
       ],
       "layout": {
        "legend": {
         "bgcolor": "#F5F6F9",
         "font": {
          "color": "#4D5663"
         }
        },
        "paper_bgcolor": "#F5F6F9",
        "plot_bgcolor": "#F5F6F9",
        "template": {
         "data": {
          "bar": [
           {
            "error_x": {
             "color": "#2a3f5f"
            },
            "error_y": {
             "color": "#2a3f5f"
            },
            "marker": {
             "line": {
              "color": "#E5ECF6",
              "width": 0.5
             },
             "pattern": {
              "fillmode": "overlay",
              "size": 10,
              "solidity": 0.2
             }
            },
            "type": "bar"
           }
          ],
          "barpolar": [
           {
            "marker": {
             "line": {
              "color": "#E5ECF6",
              "width": 0.5
             },
             "pattern": {
              "fillmode": "overlay",
              "size": 10,
              "solidity": 0.2
             }
            },
            "type": "barpolar"
           }
          ],
          "carpet": [
           {
            "aaxis": {
             "endlinecolor": "#2a3f5f",
             "gridcolor": "white",
             "linecolor": "white",
             "minorgridcolor": "white",
             "startlinecolor": "#2a3f5f"
            },
            "baxis": {
             "endlinecolor": "#2a3f5f",
             "gridcolor": "white",
             "linecolor": "white",
             "minorgridcolor": "white",
             "startlinecolor": "#2a3f5f"
            },
            "type": "carpet"
           }
          ],
          "choropleth": [
           {
            "colorbar": {
             "outlinewidth": 0,
             "ticks": ""
            },
            "type": "choropleth"
           }
          ],
          "contour": [
           {
            "colorbar": {
             "outlinewidth": 0,
             "ticks": ""
            },
            "colorscale": [
             [
              0,
              "#0d0887"
             ],
             [
              0.1111111111111111,
              "#46039f"
             ],
             [
              0.2222222222222222,
              "#7201a8"
             ],
             [
              0.3333333333333333,
              "#9c179e"
             ],
             [
              0.4444444444444444,
              "#bd3786"
             ],
             [
              0.5555555555555556,
              "#d8576b"
             ],
             [
              0.6666666666666666,
              "#ed7953"
             ],
             [
              0.7777777777777778,
              "#fb9f3a"
             ],
             [
              0.8888888888888888,
              "#fdca26"
             ],
             [
              1,
              "#f0f921"
             ]
            ],
            "type": "contour"
           }
          ],
          "contourcarpet": [
           {
            "colorbar": {
             "outlinewidth": 0,
             "ticks": ""
            },
            "type": "contourcarpet"
           }
          ],
          "heatmap": [
           {
            "colorbar": {
             "outlinewidth": 0,
             "ticks": ""
            },
            "colorscale": [
             [
              0,
              "#0d0887"
             ],
             [
              0.1111111111111111,
              "#46039f"
             ],
             [
              0.2222222222222222,
              "#7201a8"
             ],
             [
              0.3333333333333333,
              "#9c179e"
             ],
             [
              0.4444444444444444,
              "#bd3786"
             ],
             [
              0.5555555555555556,
              "#d8576b"
             ],
             [
              0.6666666666666666,
              "#ed7953"
             ],
             [
              0.7777777777777778,
              "#fb9f3a"
             ],
             [
              0.8888888888888888,
              "#fdca26"
             ],
             [
              1,
              "#f0f921"
             ]
            ],
            "type": "heatmap"
           }
          ],
          "heatmapgl": [
           {
            "colorbar": {
             "outlinewidth": 0,
             "ticks": ""
            },
            "colorscale": [
             [
              0,
              "#0d0887"
             ],
             [
              0.1111111111111111,
              "#46039f"
             ],
             [
              0.2222222222222222,
              "#7201a8"
             ],
             [
              0.3333333333333333,
              "#9c179e"
             ],
             [
              0.4444444444444444,
              "#bd3786"
             ],
             [
              0.5555555555555556,
              "#d8576b"
             ],
             [
              0.6666666666666666,
              "#ed7953"
             ],
             [
              0.7777777777777778,
              "#fb9f3a"
             ],
             [
              0.8888888888888888,
              "#fdca26"
             ],
             [
              1,
              "#f0f921"
             ]
            ],
            "type": "heatmapgl"
           }
          ],
          "histogram": [
           {
            "marker": {
             "pattern": {
              "fillmode": "overlay",
              "size": 10,
              "solidity": 0.2
             }
            },
            "type": "histogram"
           }
          ],
          "histogram2d": [
           {
            "colorbar": {
             "outlinewidth": 0,
             "ticks": ""
            },
            "colorscale": [
             [
              0,
              "#0d0887"
             ],
             [
              0.1111111111111111,
              "#46039f"
             ],
             [
              0.2222222222222222,
              "#7201a8"
             ],
             [
              0.3333333333333333,
              "#9c179e"
             ],
             [
              0.4444444444444444,
              "#bd3786"
             ],
             [
              0.5555555555555556,
              "#d8576b"
             ],
             [
              0.6666666666666666,
              "#ed7953"
             ],
             [
              0.7777777777777778,
              "#fb9f3a"
             ],
             [
              0.8888888888888888,
              "#fdca26"
             ],
             [
              1,
              "#f0f921"
             ]
            ],
            "type": "histogram2d"
           }
          ],
          "histogram2dcontour": [
           {
            "colorbar": {
             "outlinewidth": 0,
             "ticks": ""
            },
            "colorscale": [
             [
              0,
              "#0d0887"
             ],
             [
              0.1111111111111111,
              "#46039f"
             ],
             [
              0.2222222222222222,
              "#7201a8"
             ],
             [
              0.3333333333333333,
              "#9c179e"
             ],
             [
              0.4444444444444444,
              "#bd3786"
             ],
             [
              0.5555555555555556,
              "#d8576b"
             ],
             [
              0.6666666666666666,
              "#ed7953"
             ],
             [
              0.7777777777777778,
              "#fb9f3a"
             ],
             [
              0.8888888888888888,
              "#fdca26"
             ],
             [
              1,
              "#f0f921"
             ]
            ],
            "type": "histogram2dcontour"
           }
          ],
          "mesh3d": [
           {
            "colorbar": {
             "outlinewidth": 0,
             "ticks": ""
            },
            "type": "mesh3d"
           }
          ],
          "parcoords": [
           {
            "line": {
             "colorbar": {
              "outlinewidth": 0,
              "ticks": ""
             }
            },
            "type": "parcoords"
           }
          ],
          "pie": [
           {
            "automargin": true,
            "type": "pie"
           }
          ],
          "scatter": [
           {
            "fillpattern": {
             "fillmode": "overlay",
             "size": 10,
             "solidity": 0.2
            },
            "type": "scatter"
           }
          ],
          "scatter3d": [
           {
            "line": {
             "colorbar": {
              "outlinewidth": 0,
              "ticks": ""
             }
            },
            "marker": {
             "colorbar": {
              "outlinewidth": 0,
              "ticks": ""
             }
            },
            "type": "scatter3d"
           }
          ],
          "scattercarpet": [
           {
            "marker": {
             "colorbar": {
              "outlinewidth": 0,
              "ticks": ""
             }
            },
            "type": "scattercarpet"
           }
          ],
          "scattergeo": [
           {
            "marker": {
             "colorbar": {
              "outlinewidth": 0,
              "ticks": ""
             }
            },
            "type": "scattergeo"
           }
          ],
          "scattergl": [
           {
            "marker": {
             "colorbar": {
              "outlinewidth": 0,
              "ticks": ""
             }
            },
            "type": "scattergl"
           }
          ],
          "scattermapbox": [
           {
            "marker": {
             "colorbar": {
              "outlinewidth": 0,
              "ticks": ""
             }
            },
            "type": "scattermapbox"
           }
          ],
          "scatterpolar": [
           {
            "marker": {
             "colorbar": {
              "outlinewidth": 0,
              "ticks": ""
             }
            },
            "type": "scatterpolar"
           }
          ],
          "scatterpolargl": [
           {
            "marker": {
             "colorbar": {
              "outlinewidth": 0,
              "ticks": ""
             }
            },
            "type": "scatterpolargl"
           }
          ],
          "scatterternary": [
           {
            "marker": {
             "colorbar": {
              "outlinewidth": 0,
              "ticks": ""
             }
            },
            "type": "scatterternary"
           }
          ],
          "surface": [
           {
            "colorbar": {
             "outlinewidth": 0,
             "ticks": ""
            },
            "colorscale": [
             [
              0,
              "#0d0887"
             ],
             [
              0.1111111111111111,
              "#46039f"
             ],
             [
              0.2222222222222222,
              "#7201a8"
             ],
             [
              0.3333333333333333,
              "#9c179e"
             ],
             [
              0.4444444444444444,
              "#bd3786"
             ],
             [
              0.5555555555555556,
              "#d8576b"
             ],
             [
              0.6666666666666666,
              "#ed7953"
             ],
             [
              0.7777777777777778,
              "#fb9f3a"
             ],
             [
              0.8888888888888888,
              "#fdca26"
             ],
             [
              1,
              "#f0f921"
             ]
            ],
            "type": "surface"
           }
          ],
          "table": [
           {
            "cells": {
             "fill": {
              "color": "#EBF0F8"
             },
             "line": {
              "color": "white"
             }
            },
            "header": {
             "fill": {
              "color": "#C8D4E3"
             },
             "line": {
              "color": "white"
             }
            },
            "type": "table"
           }
          ]
         },
         "layout": {
          "annotationdefaults": {
           "arrowcolor": "#2a3f5f",
           "arrowhead": 0,
           "arrowwidth": 1
          },
          "autotypenumbers": "strict",
          "coloraxis": {
           "colorbar": {
            "outlinewidth": 0,
            "ticks": ""
           }
          },
          "colorscale": {
           "diverging": [
            [
             0,
             "#8e0152"
            ],
            [
             0.1,
             "#c51b7d"
            ],
            [
             0.2,
             "#de77ae"
            ],
            [
             0.3,
             "#f1b6da"
            ],
            [
             0.4,
             "#fde0ef"
            ],
            [
             0.5,
             "#f7f7f7"
            ],
            [
             0.6,
             "#e6f5d0"
            ],
            [
             0.7,
             "#b8e186"
            ],
            [
             0.8,
             "#7fbc41"
            ],
            [
             0.9,
             "#4d9221"
            ],
            [
             1,
             "#276419"
            ]
           ],
           "sequential": [
            [
             0,
             "#0d0887"
            ],
            [
             0.1111111111111111,
             "#46039f"
            ],
            [
             0.2222222222222222,
             "#7201a8"
            ],
            [
             0.3333333333333333,
             "#9c179e"
            ],
            [
             0.4444444444444444,
             "#bd3786"
            ],
            [
             0.5555555555555556,
             "#d8576b"
            ],
            [
             0.6666666666666666,
             "#ed7953"
            ],
            [
             0.7777777777777778,
             "#fb9f3a"
            ],
            [
             0.8888888888888888,
             "#fdca26"
            ],
            [
             1,
             "#f0f921"
            ]
           ],
           "sequentialminus": [
            [
             0,
             "#0d0887"
            ],
            [
             0.1111111111111111,
             "#46039f"
            ],
            [
             0.2222222222222222,
             "#7201a8"
            ],
            [
             0.3333333333333333,
             "#9c179e"
            ],
            [
             0.4444444444444444,
             "#bd3786"
            ],
            [
             0.5555555555555556,
             "#d8576b"
            ],
            [
             0.6666666666666666,
             "#ed7953"
            ],
            [
             0.7777777777777778,
             "#fb9f3a"
            ],
            [
             0.8888888888888888,
             "#fdca26"
            ],
            [
             1,
             "#f0f921"
            ]
           ]
          },
          "colorway": [
           "#636efa",
           "#EF553B",
           "#00cc96",
           "#ab63fa",
           "#FFA15A",
           "#19d3f3",
           "#FF6692",
           "#B6E880",
           "#FF97FF",
           "#FECB52"
          ],
          "font": {
           "color": "#2a3f5f"
          },
          "geo": {
           "bgcolor": "white",
           "lakecolor": "white",
           "landcolor": "#E5ECF6",
           "showlakes": true,
           "showland": true,
           "subunitcolor": "white"
          },
          "hoverlabel": {
           "align": "left"
          },
          "hovermode": "closest",
          "mapbox": {
           "style": "light"
          },
          "paper_bgcolor": "white",
          "plot_bgcolor": "#E5ECF6",
          "polar": {
           "angularaxis": {
            "gridcolor": "white",
            "linecolor": "white",
            "ticks": ""
           },
           "bgcolor": "#E5ECF6",
           "radialaxis": {
            "gridcolor": "white",
            "linecolor": "white",
            "ticks": ""
           }
          },
          "scene": {
           "xaxis": {
            "backgroundcolor": "#E5ECF6",
            "gridcolor": "white",
            "gridwidth": 2,
            "linecolor": "white",
            "showbackground": true,
            "ticks": "",
            "zerolinecolor": "white"
           },
           "yaxis": {
            "backgroundcolor": "#E5ECF6",
            "gridcolor": "white",
            "gridwidth": 2,
            "linecolor": "white",
            "showbackground": true,
            "ticks": "",
            "zerolinecolor": "white"
           },
           "zaxis": {
            "backgroundcolor": "#E5ECF6",
            "gridcolor": "white",
            "gridwidth": 2,
            "linecolor": "white",
            "showbackground": true,
            "ticks": "",
            "zerolinecolor": "white"
           }
          },
          "shapedefaults": {
           "line": {
            "color": "#2a3f5f"
           }
          },
          "ternary": {
           "aaxis": {
            "gridcolor": "white",
            "linecolor": "white",
            "ticks": ""
           },
           "baxis": {
            "gridcolor": "white",
            "linecolor": "white",
            "ticks": ""
           },
           "bgcolor": "#E5ECF6",
           "caxis": {
            "gridcolor": "white",
            "linecolor": "white",
            "ticks": ""
           }
          },
          "title": {
           "x": 0.05
          },
          "xaxis": {
           "automargin": true,
           "gridcolor": "white",
           "linecolor": "white",
           "ticks": "",
           "title": {
            "standoff": 15
           },
           "zerolinecolor": "white",
           "zerolinewidth": 2
          },
          "yaxis": {
           "automargin": true,
           "gridcolor": "white",
           "linecolor": "white",
           "ticks": "",
           "title": {
            "standoff": 15
           },
           "zerolinecolor": "white",
           "zerolinewidth": 2
          }
         }
        },
        "title": {
         "font": {
          "color": "#4D5663"
         }
        },
        "xaxis": {
         "gridcolor": "#E1E5ED",
         "showgrid": true,
         "tickfont": {
          "color": "#4D5663"
         },
         "title": {
          "font": {
           "color": "#4D5663"
          },
          "text": ""
         },
         "zerolinecolor": "#E1E5ED"
        },
        "yaxis": {
         "gridcolor": "#E1E5ED",
         "showgrid": true,
         "tickfont": {
          "color": "#4D5663"
         },
         "title": {
          "font": {
           "color": "#4D5663"
          },
          "text": ""
         },
         "zerolinecolor": "#E1E5ED"
        }
       }
      },
      "text/html": [
       "<div>                            <div id=\"6044db23-e0bf-4b3b-9eea-4a8c98eacb8a\" class=\"plotly-graph-div\" style=\"height:525px; width:100%;\"></div>            <script type=\"text/javascript\">                require([\"plotly\"], function(Plotly) {                    window.PLOTLYENV=window.PLOTLYENV || {};\n",
       "                    window.PLOTLYENV.BASE_URL='https://plot.ly';                                    if (document.getElementById(\"6044db23-e0bf-4b3b-9eea-4a8c98eacb8a\")) {                    Plotly.newPlot(                        \"6044db23-e0bf-4b3b-9eea-4a8c98eacb8a\",                        [{\"boxpoints\":false,\"line\":{\"width\":1.3},\"marker\":{\"color\":\"rgba(255, 153, 51, 1.0)\"},\"name\":\"Veteran Suicide Rate\",\"orientation\":\"v\",\"y\":[23.3,24.2,24.0,24.2,24.9,25.0,26.4,28.1,28.3,28.7,28.7,29.0,29.6,30.7,31.2,31.0,32.6,33.3,32.7,32.6,33.9],\"type\":\"box\"},{\"boxpoints\":false,\"line\":{\"width\":1.3},\"marker\":{\"color\":\"rgba(55, 128, 191, 1.0)\"},\"name\":\"General Population Suicide Rate\",\"orientation\":\"v\",\"y\":[13.9,14.3,14.1,14.3,14.2,14.4,14.9,15.2,15.4,15.9,16.1,16.4,16.5,16.9,17.3,17.4,18.0,18.4,18.0,17.2,18.0],\"type\":\"box\"}],                        {\"legend\":{\"bgcolor\":\"#F5F6F9\",\"font\":{\"color\":\"#4D5663\"}},\"paper_bgcolor\":\"#F5F6F9\",\"plot_bgcolor\":\"#F5F6F9\",\"template\":{\"data\":{\"barpolar\":[{\"marker\":{\"line\":{\"color\":\"#E5ECF6\",\"width\":0.5},\"pattern\":{\"fillmode\":\"overlay\",\"size\":10,\"solidity\":0.2}},\"type\":\"barpolar\"}],\"bar\":[{\"error_x\":{\"color\":\"#2a3f5f\"},\"error_y\":{\"color\":\"#2a3f5f\"},\"marker\":{\"line\":{\"color\":\"#E5ECF6\",\"width\":0.5},\"pattern\":{\"fillmode\":\"overlay\",\"size\":10,\"solidity\":0.2}},\"type\":\"bar\"}],\"carpet\":[{\"aaxis\":{\"endlinecolor\":\"#2a3f5f\",\"gridcolor\":\"white\",\"linecolor\":\"white\",\"minorgridcolor\":\"white\",\"startlinecolor\":\"#2a3f5f\"},\"baxis\":{\"endlinecolor\":\"#2a3f5f\",\"gridcolor\":\"white\",\"linecolor\":\"white\",\"minorgridcolor\":\"white\",\"startlinecolor\":\"#2a3f5f\"},\"type\":\"carpet\"}],\"choropleth\":[{\"colorbar\":{\"outlinewidth\":0,\"ticks\":\"\"},\"type\":\"choropleth\"}],\"contourcarpet\":[{\"colorbar\":{\"outlinewidth\":0,\"ticks\":\"\"},\"type\":\"contourcarpet\"}],\"contour\":[{\"colorbar\":{\"outlinewidth\":0,\"ticks\":\"\"},\"colorscale\":[[0.0,\"#0d0887\"],[0.1111111111111111,\"#46039f\"],[0.2222222222222222,\"#7201a8\"],[0.3333333333333333,\"#9c179e\"],[0.4444444444444444,\"#bd3786\"],[0.5555555555555556,\"#d8576b\"],[0.6666666666666666,\"#ed7953\"],[0.7777777777777778,\"#fb9f3a\"],[0.8888888888888888,\"#fdca26\"],[1.0,\"#f0f921\"]],\"type\":\"contour\"}],\"heatmapgl\":[{\"colorbar\":{\"outlinewidth\":0,\"ticks\":\"\"},\"colorscale\":[[0.0,\"#0d0887\"],[0.1111111111111111,\"#46039f\"],[0.2222222222222222,\"#7201a8\"],[0.3333333333333333,\"#9c179e\"],[0.4444444444444444,\"#bd3786\"],[0.5555555555555556,\"#d8576b\"],[0.6666666666666666,\"#ed7953\"],[0.7777777777777778,\"#fb9f3a\"],[0.8888888888888888,\"#fdca26\"],[1.0,\"#f0f921\"]],\"type\":\"heatmapgl\"}],\"heatmap\":[{\"colorbar\":{\"outlinewidth\":0,\"ticks\":\"\"},\"colorscale\":[[0.0,\"#0d0887\"],[0.1111111111111111,\"#46039f\"],[0.2222222222222222,\"#7201a8\"],[0.3333333333333333,\"#9c179e\"],[0.4444444444444444,\"#bd3786\"],[0.5555555555555556,\"#d8576b\"],[0.6666666666666666,\"#ed7953\"],[0.7777777777777778,\"#fb9f3a\"],[0.8888888888888888,\"#fdca26\"],[1.0,\"#f0f921\"]],\"type\":\"heatmap\"}],\"histogram2dcontour\":[{\"colorbar\":{\"outlinewidth\":0,\"ticks\":\"\"},\"colorscale\":[[0.0,\"#0d0887\"],[0.1111111111111111,\"#46039f\"],[0.2222222222222222,\"#7201a8\"],[0.3333333333333333,\"#9c179e\"],[0.4444444444444444,\"#bd3786\"],[0.5555555555555556,\"#d8576b\"],[0.6666666666666666,\"#ed7953\"],[0.7777777777777778,\"#fb9f3a\"],[0.8888888888888888,\"#fdca26\"],[1.0,\"#f0f921\"]],\"type\":\"histogram2dcontour\"}],\"histogram2d\":[{\"colorbar\":{\"outlinewidth\":0,\"ticks\":\"\"},\"colorscale\":[[0.0,\"#0d0887\"],[0.1111111111111111,\"#46039f\"],[0.2222222222222222,\"#7201a8\"],[0.3333333333333333,\"#9c179e\"],[0.4444444444444444,\"#bd3786\"],[0.5555555555555556,\"#d8576b\"],[0.6666666666666666,\"#ed7953\"],[0.7777777777777778,\"#fb9f3a\"],[0.8888888888888888,\"#fdca26\"],[1.0,\"#f0f921\"]],\"type\":\"histogram2d\"}],\"histogram\":[{\"marker\":{\"pattern\":{\"fillmode\":\"overlay\",\"size\":10,\"solidity\":0.2}},\"type\":\"histogram\"}],\"mesh3d\":[{\"colorbar\":{\"outlinewidth\":0,\"ticks\":\"\"},\"type\":\"mesh3d\"}],\"parcoords\":[{\"line\":{\"colorbar\":{\"outlinewidth\":0,\"ticks\":\"\"}},\"type\":\"parcoords\"}],\"pie\":[{\"automargin\":true,\"type\":\"pie\"}],\"scatter3d\":[{\"line\":{\"colorbar\":{\"outlinewidth\":0,\"ticks\":\"\"}},\"marker\":{\"colorbar\":{\"outlinewidth\":0,\"ticks\":\"\"}},\"type\":\"scatter3d\"}],\"scattercarpet\":[{\"marker\":{\"colorbar\":{\"outlinewidth\":0,\"ticks\":\"\"}},\"type\":\"scattercarpet\"}],\"scattergeo\":[{\"marker\":{\"colorbar\":{\"outlinewidth\":0,\"ticks\":\"\"}},\"type\":\"scattergeo\"}],\"scattergl\":[{\"marker\":{\"colorbar\":{\"outlinewidth\":0,\"ticks\":\"\"}},\"type\":\"scattergl\"}],\"scattermapbox\":[{\"marker\":{\"colorbar\":{\"outlinewidth\":0,\"ticks\":\"\"}},\"type\":\"scattermapbox\"}],\"scatterpolargl\":[{\"marker\":{\"colorbar\":{\"outlinewidth\":0,\"ticks\":\"\"}},\"type\":\"scatterpolargl\"}],\"scatterpolar\":[{\"marker\":{\"colorbar\":{\"outlinewidth\":0,\"ticks\":\"\"}},\"type\":\"scatterpolar\"}],\"scatter\":[{\"fillpattern\":{\"fillmode\":\"overlay\",\"size\":10,\"solidity\":0.2},\"type\":\"scatter\"}],\"scatterternary\":[{\"marker\":{\"colorbar\":{\"outlinewidth\":0,\"ticks\":\"\"}},\"type\":\"scatterternary\"}],\"surface\":[{\"colorbar\":{\"outlinewidth\":0,\"ticks\":\"\"},\"colorscale\":[[0.0,\"#0d0887\"],[0.1111111111111111,\"#46039f\"],[0.2222222222222222,\"#7201a8\"],[0.3333333333333333,\"#9c179e\"],[0.4444444444444444,\"#bd3786\"],[0.5555555555555556,\"#d8576b\"],[0.6666666666666666,\"#ed7953\"],[0.7777777777777778,\"#fb9f3a\"],[0.8888888888888888,\"#fdca26\"],[1.0,\"#f0f921\"]],\"type\":\"surface\"}],\"table\":[{\"cells\":{\"fill\":{\"color\":\"#EBF0F8\"},\"line\":{\"color\":\"white\"}},\"header\":{\"fill\":{\"color\":\"#C8D4E3\"},\"line\":{\"color\":\"white\"}},\"type\":\"table\"}]},\"layout\":{\"annotationdefaults\":{\"arrowcolor\":\"#2a3f5f\",\"arrowhead\":0,\"arrowwidth\":1},\"autotypenumbers\":\"strict\",\"coloraxis\":{\"colorbar\":{\"outlinewidth\":0,\"ticks\":\"\"}},\"colorscale\":{\"diverging\":[[0,\"#8e0152\"],[0.1,\"#c51b7d\"],[0.2,\"#de77ae\"],[0.3,\"#f1b6da\"],[0.4,\"#fde0ef\"],[0.5,\"#f7f7f7\"],[0.6,\"#e6f5d0\"],[0.7,\"#b8e186\"],[0.8,\"#7fbc41\"],[0.9,\"#4d9221\"],[1,\"#276419\"]],\"sequential\":[[0.0,\"#0d0887\"],[0.1111111111111111,\"#46039f\"],[0.2222222222222222,\"#7201a8\"],[0.3333333333333333,\"#9c179e\"],[0.4444444444444444,\"#bd3786\"],[0.5555555555555556,\"#d8576b\"],[0.6666666666666666,\"#ed7953\"],[0.7777777777777778,\"#fb9f3a\"],[0.8888888888888888,\"#fdca26\"],[1.0,\"#f0f921\"]],\"sequentialminus\":[[0.0,\"#0d0887\"],[0.1111111111111111,\"#46039f\"],[0.2222222222222222,\"#7201a8\"],[0.3333333333333333,\"#9c179e\"],[0.4444444444444444,\"#bd3786\"],[0.5555555555555556,\"#d8576b\"],[0.6666666666666666,\"#ed7953\"],[0.7777777777777778,\"#fb9f3a\"],[0.8888888888888888,\"#fdca26\"],[1.0,\"#f0f921\"]]},\"colorway\":[\"#636efa\",\"#EF553B\",\"#00cc96\",\"#ab63fa\",\"#FFA15A\",\"#19d3f3\",\"#FF6692\",\"#B6E880\",\"#FF97FF\",\"#FECB52\"],\"font\":{\"color\":\"#2a3f5f\"},\"geo\":{\"bgcolor\":\"white\",\"lakecolor\":\"white\",\"landcolor\":\"#E5ECF6\",\"showlakes\":true,\"showland\":true,\"subunitcolor\":\"white\"},\"hoverlabel\":{\"align\":\"left\"},\"hovermode\":\"closest\",\"mapbox\":{\"style\":\"light\"},\"paper_bgcolor\":\"white\",\"plot_bgcolor\":\"#E5ECF6\",\"polar\":{\"angularaxis\":{\"gridcolor\":\"white\",\"linecolor\":\"white\",\"ticks\":\"\"},\"bgcolor\":\"#E5ECF6\",\"radialaxis\":{\"gridcolor\":\"white\",\"linecolor\":\"white\",\"ticks\":\"\"}},\"scene\":{\"xaxis\":{\"backgroundcolor\":\"#E5ECF6\",\"gridcolor\":\"white\",\"gridwidth\":2,\"linecolor\":\"white\",\"showbackground\":true,\"ticks\":\"\",\"zerolinecolor\":\"white\"},\"yaxis\":{\"backgroundcolor\":\"#E5ECF6\",\"gridcolor\":\"white\",\"gridwidth\":2,\"linecolor\":\"white\",\"showbackground\":true,\"ticks\":\"\",\"zerolinecolor\":\"white\"},\"zaxis\":{\"backgroundcolor\":\"#E5ECF6\",\"gridcolor\":\"white\",\"gridwidth\":2,\"linecolor\":\"white\",\"showbackground\":true,\"ticks\":\"\",\"zerolinecolor\":\"white\"}},\"shapedefaults\":{\"line\":{\"color\":\"#2a3f5f\"}},\"ternary\":{\"aaxis\":{\"gridcolor\":\"white\",\"linecolor\":\"white\",\"ticks\":\"\"},\"baxis\":{\"gridcolor\":\"white\",\"linecolor\":\"white\",\"ticks\":\"\"},\"bgcolor\":\"#E5ECF6\",\"caxis\":{\"gridcolor\":\"white\",\"linecolor\":\"white\",\"ticks\":\"\"}},\"title\":{\"x\":0.05},\"xaxis\":{\"automargin\":true,\"gridcolor\":\"white\",\"linecolor\":\"white\",\"ticks\":\"\",\"title\":{\"standoff\":15},\"zerolinecolor\":\"white\",\"zerolinewidth\":2},\"yaxis\":{\"automargin\":true,\"gridcolor\":\"white\",\"linecolor\":\"white\",\"ticks\":\"\",\"title\":{\"standoff\":15},\"zerolinecolor\":\"white\",\"zerolinewidth\":2}}},\"title\":{\"font\":{\"color\":\"#4D5663\"}},\"xaxis\":{\"gridcolor\":\"#E1E5ED\",\"showgrid\":true,\"tickfont\":{\"color\":\"#4D5663\"},\"title\":{\"font\":{\"color\":\"#4D5663\"},\"text\":\"\"},\"zerolinecolor\":\"#E1E5ED\"},\"yaxis\":{\"gridcolor\":\"#E1E5ED\",\"showgrid\":true,\"tickfont\":{\"color\":\"#4D5663\"},\"title\":{\"font\":{\"color\":\"#4D5663\"},\"text\":\"\"},\"zerolinecolor\":\"#E1E5ED\"}},                        {\"showLink\": true, \"linkText\": \"Export to plot.ly\", \"plotlyServerURL\": \"https://plot.ly\", \"responsive\": true}                    ).then(function(){\n",
       "                            \n",
       "var gd = document.getElementById('6044db23-e0bf-4b3b-9eea-4a8c98eacb8a');\n",
       "var x = new MutationObserver(function (mutations, observer) {{\n",
       "        var display = window.getComputedStyle(gd).display;\n",
       "        if (!display || display === 'none') {{\n",
       "            console.log([gd, 'removed!']);\n",
       "            Plotly.purge(gd);\n",
       "            observer.disconnect();\n",
       "        }}\n",
       "}});\n",
       "\n",
       "// Listen for the removal of the full notebook cells\n",
       "var notebookContainer = gd.closest('#notebook-container');\n",
       "if (notebookContainer) {{\n",
       "    x.observe(notebookContainer, {childList: true});\n",
       "}}\n",
       "\n",
       "// Listen for the clearing of the current output cell\n",
       "var outputEl = gd.closest('.output');\n",
       "if (outputEl) {{\n",
       "    x.observe(outputEl, {childList: true});\n",
       "}}\n",
       "\n",
       "                        })                };                });            </script>        </div>"
      ]
     },
     "metadata": {},
     "output_type": "display_data"
    }
   ],
   "source": [
    "#Load dataframe df_age_rename which was the df_age with renamed columns\n",
    "df_age_rename\n",
    "\n",
    "#Create dataframe with .loc() ['State of Death'] == 'U.S. Total' & ['Age Group'] == 'All')\n",
    "\n",
    "df_rate2=df_age_rename.loc[(df_age['State of Death'] == 'U.S. Total') & (df_age['Age Group'] == 'All')]\n",
    "\n",
    "#Create dataframe with only selected columns to use for iplot\n",
    "\n",
    "df_rate_only=df_rate2[['Veteran Suicide Rate', 'General Population Suicide Rate']]\n",
    "\n",
    "#Create plotly interactive image kind='box'\n",
    "\n",
    "df_rate_only.iplot(kind='box')"
   ]
  },
  {
   "cell_type": "code",
   "execution_count": 54,
   "id": "cde05191",
   "metadata": {},
   "outputs": [
    {
     "name": "stdout",
     "output_type": "stream",
     "text": [
      "Veteran Suicide Rate:  DescribeResult(nobs=21, minmax=(23.3, 33.9), mean=28.685714285714283, variance=11.837285714285715, skewness=-0.11854631683051597, kurtosis=-1.2921928660521012) \n",
      "\n",
      "General Population Suicide Rate:  DescribeResult(nobs=21, minmax=(13.9, 18.4), mean=16.038095238095234, variance=2.2934761904761896, skewness=0.032962837754799815, kurtosis=-1.4210950133065836) \n",
      "\n"
     ]
    }
   ],
   "source": [
    "#Print each dataframe using the describe() function\n",
    "\n",
    "print('Veteran Suicide Rate: ',stats.describe(df_rate_only['Veteran Suicide Rate']),'\\n')\n",
    "print('General Population Suicide Rate: ',stats.describe(df_rate_only['General Population Suicide Rate']),'\\n')"
   ]
  },
  {
   "cell_type": "markdown",
   "id": "639972c3",
   "metadata": {},
   "source": [
    "The mean of each of the populations as well as the variance and skewness have strong evidence that each population has a normal distrubtion.  Also, the interactive boxplot shows that all measures, including mean, min, max, etc has strong evidence that veterans are a much higher risk for suicide than the general population."
   ]
  },
  {
   "cell_type": "markdown",
   "id": "a153ccf8",
   "metadata": {},
   "source": [
    "# ECDF"
   ]
  },
  {
   "cell_type": "code",
   "execution_count": 55,
   "id": "39d324bc",
   "metadata": {},
   "outputs": [],
   "source": [
    "# Create ECDF function\n",
    "def ecdf(data):\n",
    "    \n",
    "    #Number of data points: n\n",
    "    n=len(data)\n",
    "    \n",
    "    #x-data for the ECDF: x\n",
    "    x=np.sort(data)\n",
    "    \n",
    "    #y-data for the ECDF: y\n",
    "    y=np.arange(1,n+1)/n\n",
    "    \n",
    "    return x,y"
   ]
  },
  {
   "cell_type": "code",
   "execution_count": 56,
   "id": "0a81c349",
   "metadata": {},
   "outputs": [
    {
     "data": {
      "image/png": "[encoded data removed]",
      "text/plain": [
       "<Figure size 1300x500 with 1 Axes>"
      ]
     },
     "metadata": {},
     "output_type": "display_data"
    }
   ],
   "source": [
    "#compute ECDFS passing the data for both veteran suicide rate and general population suicide rate\n",
    "\n",
    "#compute x,y for veteran and general population by calling the dataframes\n",
    "\n",
    "x_vet,y_vet=ecdf(df_rate_only['Veteran Suicide Rate'])\n",
    "x_genpop,y_genpop=ecdf(df_rate_only['General Population Suicide Rate'])\n",
    "\n",
    "#Plot both ECDFs on the same plot using variable underscore\n",
    "\n",
    "_=plt.plot(x_vet,y_vet,marker='*',linestyle='none')\n",
    "_=plt.plot(x_genpop,y_genpop,marker='.',linestyle='none')\n",
    "\n",
    "#Make margins\n",
    "\n",
    "plt.margins(0.02)\n",
    "\n",
    "#Annotate the plot\n",
    "\n",
    "plt.legend(('Veteran Suicide Rate','General Population Rate'),loc='lower right')\n",
    "_=plt.xlabel('Suicide Rate per 100k')\n",
    "_=plt.ylabel('ECDF')\n",
    "             \n",
    "#Display the plot\n",
    "\n",
    "plt.show()"
   ]
  },
  {
   "cell_type": "markdown",
   "id": "e3a10483",
   "metadata": {},
   "source": [
    "# Correlation"
   ]
  },
  {
   "cell_type": "markdown",
   "id": "1ab657a8",
   "metadata": {},
   "source": [
    "We will see the outpot of the correlation values of the numerical columns.  We will also include the pvlaues to see the\n",
    "significance of the correlation:\n",
    "\n",
    "-The p-value is < 0.001: we say there is strong evidence that the correlation is significant.\n",
    "\n",
    "-The p-value is < 0.05: there is moderate evidence that the correlation is significant.\n",
    "\n",
    "-The p-value is < 0.1:there is weak evidence that the correlation is significant.\n",
    "\n",
    "-The p-value is > 0.1: there is no evidence that the correlation is significant."
   ]
  },
  {
   "cell_type": "code",
   "execution_count": 57,
   "id": "921d90ee",
   "metadata": {},
   "outputs": [
    {
     "data": {
      "text/html": [
       "<div>\n",
       "<style scoped>\n",
       "    .dataframe tbody tr th:only-of-type {\n",
       "        vertical-align: middle;\n",
       "    }\n",
       "\n",
       "    .dataframe tbody tr th {\n",
       "        vertical-align: top;\n",
       "    }\n",
       "\n",
       "    .dataframe thead th {\n",
       "        text-align: right;\n",
       "    }\n",
       "</style>\n",
       "<table border=\"1\" class=\"dataframe\">\n",
       "  <thead>\n",
       "    <tr style=\"text-align: right;\">\n",
       "      <th></th>\n",
       "      <th>Year of Death</th>\n",
       "      <th>Veteran Suicides</th>\n",
       "    </tr>\n",
       "  </thead>\n",
       "  <tbody>\n",
       "    <tr>\n",
       "      <th>Year of Death</th>\n",
       "      <td>1.000000</td>\n",
       "      <td>0.007332</td>\n",
       "    </tr>\n",
       "    <tr>\n",
       "      <th>Veteran Suicides</th>\n",
       "      <td>0.007332</td>\n",
       "      <td>1.000000</td>\n",
       "    </tr>\n",
       "  </tbody>\n",
       "</table>\n",
       "</div>"
      ],
      "text/plain": [
       "                  Year of Death  Veteran Suicides\n",
       "Year of Death          1.000000          0.007332\n",
       "Veteran Suicides       0.007332          1.000000"
      ]
     },
     "execution_count": 57,
     "metadata": {},
     "output_type": "execute_result"
    }
   ],
   "source": [
    "#Correlation of all numerical columns in df_state\n",
    "\n",
    "sns.set()\n",
    "corr_state=df_state.corr(numeric_only=True)\n",
    "corr_state"
   ]
  },
  {
   "cell_type": "code",
   "execution_count": 58,
   "id": "24c16ea9",
   "metadata": {},
   "outputs": [
    {
     "data": {
      "text/html": [
       "<div>\n",
       "<style scoped>\n",
       "    .dataframe tbody tr th:only-of-type {\n",
       "        vertical-align: middle;\n",
       "    }\n",
       "\n",
       "    .dataframe tbody tr th {\n",
       "        vertical-align: top;\n",
       "    }\n",
       "\n",
       "    .dataframe thead th {\n",
       "        text-align: right;\n",
       "    }\n",
       "</style>\n",
       "<table border=\"1\" class=\"dataframe\">\n",
       "  <thead>\n",
       "    <tr style=\"text-align: right;\">\n",
       "      <th></th>\n",
       "      <th>Year of Death</th>\n",
       "      <th>Veteran Suicides</th>\n",
       "    </tr>\n",
       "  </thead>\n",
       "  <tbody>\n",
       "    <tr>\n",
       "      <th>Year of Death</th>\n",
       "      <td>1.000000</td>\n",
       "      <td>-0.054927</td>\n",
       "    </tr>\n",
       "    <tr>\n",
       "      <th>Veteran Suicides</th>\n",
       "      <td>-0.054927</td>\n",
       "      <td>1.000000</td>\n",
       "    </tr>\n",
       "  </tbody>\n",
       "</table>\n",
       "</div>"
      ],
      "text/plain": [
       "                  Year of Death  Veteran Suicides\n",
       "Year of Death          1.000000         -0.054927\n",
       "Veteran Suicides      -0.054927          1.000000"
      ]
     },
     "execution_count": 58,
     "metadata": {},
     "output_type": "execute_result"
    }
   ],
   "source": [
    "#Correlation of all numerical columns in df_sex\n",
    "\n",
    "sns.set()\n",
    "corr_sex=df_sex.corr(numeric_only=True)\n",
    "corr_sex"
   ]
  },
  {
   "cell_type": "code",
   "execution_count": 59,
   "id": "10b19915",
   "metadata": {},
   "outputs": [
    {
     "data": {
      "text/html": [
       "<div>\n",
       "<style scoped>\n",
       "    .dataframe tbody tr th:only-of-type {\n",
       "        vertical-align: middle;\n",
       "    }\n",
       "\n",
       "    .dataframe tbody tr th {\n",
       "        vertical-align: top;\n",
       "    }\n",
       "\n",
       "    .dataframe thead th {\n",
       "        text-align: right;\n",
       "    }\n",
       "</style>\n",
       "<table border=\"1\" class=\"dataframe\">\n",
       "  <thead>\n",
       "    <tr style=\"text-align: right;\">\n",
       "      <th></th>\n",
       "      <th>Year</th>\n",
       "      <th>Veteran Suicides</th>\n",
       "      <th>Veteran Suicide Rate Per 100,000</th>\n",
       "      <th>General Population Suicides</th>\n",
       "      <th>General Population Rate Per 100,000</th>\n",
       "    </tr>\n",
       "  </thead>\n",
       "  <tbody>\n",
       "    <tr>\n",
       "      <th>Year</th>\n",
       "      <td>1.000000</td>\n",
       "      <td>0.004661</td>\n",
       "      <td>0.196472</td>\n",
       "      <td>0.041934</td>\n",
       "      <td>0.260249</td>\n",
       "    </tr>\n",
       "    <tr>\n",
       "      <th>Veteran Suicides</th>\n",
       "      <td>0.004661</td>\n",
       "      <td>1.000000</td>\n",
       "      <td>0.061282</td>\n",
       "      <td>0.964534</td>\n",
       "      <td>-0.017305</td>\n",
       "    </tr>\n",
       "    <tr>\n",
       "      <th>Veteran Suicide Rate Per 100,000</th>\n",
       "      <td>0.196472</td>\n",
       "      <td>0.061282</td>\n",
       "      <td>1.000000</td>\n",
       "      <td>0.084813</td>\n",
       "      <td>0.413232</td>\n",
       "    </tr>\n",
       "    <tr>\n",
       "      <th>General Population Suicides</th>\n",
       "      <td>0.041934</td>\n",
       "      <td>0.964534</td>\n",
       "      <td>0.084813</td>\n",
       "      <td>1.000000</td>\n",
       "      <td>-0.026004</td>\n",
       "    </tr>\n",
       "    <tr>\n",
       "      <th>General Population Rate Per 100,000</th>\n",
       "      <td>0.260249</td>\n",
       "      <td>-0.017305</td>\n",
       "      <td>0.413232</td>\n",
       "      <td>-0.026004</td>\n",
       "      <td>1.000000</td>\n",
       "    </tr>\n",
       "  </tbody>\n",
       "</table>\n",
       "</div>"
      ],
      "text/plain": [
       "                                         Year  Veteran Suicides  \\\n",
       "Year                                 1.000000          0.004661   \n",
       "Veteran Suicides                     0.004661          1.000000   \n",
       "Veteran Suicide Rate Per 100,000     0.196472          0.061282   \n",
       "General Population Suicides          0.041934          0.964534   \n",
       "General Population Rate Per 100,000  0.260249         -0.017305   \n",
       "\n",
       "                                     Veteran Suicide Rate Per 100,000  \\\n",
       "Year                                                         0.196472   \n",
       "Veteran Suicides                                             0.061282   \n",
       "Veteran Suicide Rate Per 100,000                             1.000000   \n",
       "General Population Suicides                                  0.084813   \n",
       "General Population Rate Per 100,000                          0.413232   \n",
       "\n",
       "                                     General Population Suicides  \\\n",
       "Year                                                    0.041934   \n",
       "Veteran Suicides                                        0.964534   \n",
       "Veteran Suicide Rate Per 100,000                        0.084813   \n",
       "General Population Suicides                             1.000000   \n",
       "General Population Rate Per 100,000                    -0.026004   \n",
       "\n",
       "                                     General Population Rate Per 100,000  \n",
       "Year                                                            0.260249  \n",
       "Veteran Suicides                                               -0.017305  \n",
       "Veteran Suicide Rate Per 100,000                                0.413232  \n",
       "General Population Suicides                                    -0.026004  \n",
       "General Population Rate Per 100,000                             1.000000  "
      ]
     },
     "execution_count": 59,
     "metadata": {},
     "output_type": "execute_result"
    }
   ],
   "source": [
    "#Correlation of all numerical columns in df_age\n",
    "\n",
    "sns.set()\n",
    "corr_age=df_age.corr(numeric_only=True)\n",
    "corr_age"
   ]
  },
  {
   "cell_type": "code",
   "execution_count": 64,
   "id": "ce455d2e",
   "metadata": {},
   "outputs": [
    {
     "data": {
      "text/plain": [
       "Text(0.5, 1.0, 'df.corr()')"
      ]
     },
     "execution_count": 64,
     "metadata": {},
     "output_type": "execute_result"
    },
    {
     "data": {
      "image/png": "[encoded data removed]",
      "text/plain": [
       "<Figure size 1300x500 with 2 Axes>"
      ]
     },
     "metadata": {},
     "output_type": "display_data"
    }
   ],
   "source": [
    "#Print a heatmap using the correlation function for df_age\n",
    "\n",
    "sns.heatmap(df_age.corr(numeric_only=True),cmap='coolwarm')\n",
    "plt.title('df.corr()')"
   ]
  },
  {
   "cell_type": "markdown",
   "id": "134fdcbe",
   "metadata": {},
   "source": [
    "# Pearson's Correlation Test"
   ]
  },
  {
   "cell_type": "code",
   "execution_count": 62,
   "id": "498ddb4b",
   "metadata": {},
   "outputs": [
    {
     "name": "stdout",
     "output_type": "stream",
     "text": [
      "stat=0.965,p=0.000\n",
      "Probably Dependent\n"
     ]
    }
   ],
   "source": [
    "#Using Pearson's Correlation Test\n",
    "\n",
    "#Importing scientific library to perform statistical calculations\n",
    "\n",
    "from scipy.stats import pearsonr\n",
    "\n",
    "#Define data1 with 'Veteran Suicides'\n",
    "\n",
    "data1=df_age['Veteran Suicides']\n",
    "\n",
    "#Define data2 with 'Veteran Suicides'\n",
    "\n",
    "data2=df_age['General Population Suicides']\n",
    "\n",
    "#Declare variable stat and perform pearsonr function\n",
    "\n",
    "stat,p=pearsonr(data1,data2)\n",
    "\n",
    "#Print result with 3 decimals\n",
    "\n",
    "print('stat=%.3f,p=%.3f' % (stat,p))\n",
    "\n",
    "#Adding a conditional selection\n",
    "\n",
    "if p > 0.05:\n",
    "    print('Probably Independent')\n",
    "else:\n",
    "    print('Probably Dependent')"
   ]
  },
  {
   "cell_type": "markdown",
   "id": "8601652c",
   "metadata": {},
   "source": [
    "According to the Pearson's Correlation test with a p-value of 0.000 there it is likely there is strong evidence that the correlation is significant between the veteran and general population suicides."
   ]
  },
  {
   "cell_type": "markdown",
   "id": "e99a7651",
   "metadata": {},
   "source": [
    "# Correlation Matrix"
   ]
  },
  {
   "cell_type": "code",
   "execution_count": 61,
   "id": "b4fb7368",
   "metadata": {},
   "outputs": [
    {
     "name": "stdout",
     "output_type": "stream",
     "text": [
      "0.9645344444756127\n"
     ]
    }
   ],
   "source": [
    "#define a function name it pearson_r that will take two arguments x and y\n",
    "def pearson_r(x, y):\n",
    "    \"\"\"Compute Pearson correlation coefficient between two arrays.\"\"\"\n",
    "    # Compute correlation matrix: corr_mat\n",
    "\n",
    "    corr_mat=np.corrcoef(x,y)\n",
    "\n",
    "    # Return entry [0,1]\n",
    "    return corr_mat[0,1]\n",
    "\n",
    "# Compute Pearson correlation coefficient of 'Year' and 'Veteran Suicides' from df_age\n",
    "\n",
    "vet_suicide=df_age['Veteran Suicides']\n",
    "genpop_suicide=df_age['General Population Suicides']\n",
    "\n",
    "r=pearson_r(vet_suicide,genpop_suicide)\n",
    "\n",
    "\n",
    "# Print the result\n",
    "\n",
    "print(r)"
   ]
  },
  {
   "cell_type": "markdown",
   "id": "c5f03974",
   "metadata": {},
   "source": [
    "With a value of 0.9645344444756127 this shows strong and positive correlation meaning when one variable increases, the other tends to as well for the Veteran and General Population Suicides."
   ]
  },
  {
   "cell_type": "markdown",
   "id": "ee4485e2",
   "metadata": {},
   "source": [
    "# Normal Distribution test"
   ]
  },
  {
   "cell_type": "markdown",
   "id": "cf0706c1",
   "metadata": {},
   "source": [
    "* The normality tests all report a P value.\n",
    "\n",
    "* To understand any P value, you need to know the null hypothesis.\n",
    "    * the null hypothesis is that all the values were sampled from a population that follows a Gaussian distribution. ...If the P value is less than or equal to 0.05 (the significance level), the answer is No.\n",
    "\n",
    "* P-value ≤ α: The data do not follow a normal distribution (Reject H0).\n",
    "\n",
    "* If the p-value is less than or equal to the significance level, the decision is to reject the null hypothesis and conclude that your data does not follow a normal distribution.\n",
    "\n",
    "* P-value > α: Cannot conclude the data do not follow a normal distribution (Fail to reject H0).\n",
    "\n",
    "* If the p-value is larger than the significance level, the decision is to fail to reject the null hypothesis because you do not have enough evidence to conclude that your data do not follow a normal distribution."
   ]
  },
  {
   "cell_type": "code",
   "execution_count": 170,
   "id": "09cf24d7",
   "metadata": {},
   "outputs": [],
   "source": [
    "#Import normaltest from scipy\n",
    "\n",
    "from scipy.stats import normaltest"
   ]
  },
  {
   "cell_type": "code",
   "execution_count": 177,
   "id": "10975487",
   "metadata": {},
   "outputs": [
    {
     "name": "stdout",
     "output_type": "stream",
     "text": [
      "stat=8718.814,p=0.000\n",
      "Data does not follow a normal distribution: Reject H0\n"
     ]
    }
   ],
   "source": [
    "#Assign the General Population Suicide Rate to a variable named data\n",
    "\n",
    "data=df_age['Veteran Suicides']\n",
    "\n",
    "#Create two variables stat and p then apply the normaltest function\n",
    "\n",
    "stat,p=normaltest(data)\n",
    "\n",
    "#Print results with only 3 decimals\n",
    "\n",
    "print('stat=%.3f,p=%.3f'%(stat,p))\n",
    "\n",
    "#Add a conditional print\n",
    "\n",
    "if p <= 0.05:\n",
    "    print('Data does not follow a normal distribution: Reject H0')\n",
    "else:\n",
    "    print('Cannot conclude the data does not follow a normal distribution: Fail to reject H0')"
   ]
  },
  {
   "cell_type": "markdown",
   "id": "fda45801",
   "metadata": {},
   "source": [
    "We will also use a Seaborn distplot to visually convey if the data is normally distributed"
   ]
  },
  {
   "cell_type": "code",
   "execution_count": 180,
   "id": "34279a48",
   "metadata": {},
   "outputs": [
    {
     "data": {
      "image/png": "[encoded data removed]",
      "text/plain": [
       "<Figure size 1000x600 with 1 Axes>"
      ]
     },
     "metadata": {},
     "output_type": "display_data"
    }
   ],
   "source": [
    "#plt.rcParams to set the figure width width of 10 and height of 6\n",
    "#sns.set_style('darkgrid')\n",
    "\n",
    "plt.rcParams['figure.figsize']=[10,6]\n",
    "sns.set_style('darkgrid')\n",
    "\n",
    "#set context,font scale, and font size\n",
    "\n",
    "sns.set_context('notebook',font_scale=1.5,rc={'font.size':16,'axes.titlesize':16,'axes.labelsize':16}) \n",
    "\n",
    "#the fit will going to super impose a normal curve to the histogram\n",
    "# or to the distribution\n",
    "# we set kde to false because by default it uses the kde\n",
    "\n",
    "sns.distplot(df_age['Veteran Suicides'],fit=stats.norm,kde=False)\n",
    "\n",
    "# add title and xlabel to the plot\n",
    "\n",
    "plt.title('Histogram distribution of eteran suicides')\n",
    "plt.xlabel('Veteran Suicides')\n",
    "\n",
    "#Display plot\n",
    "\n",
    "plt.show()"
   ]
  },
  {
   "cell_type": "markdown",
   "id": "38c8cf18",
   "metadata": {},
   "source": [
    "Both the normaltest and the distplot confirm that the data is not normally dsitributed"
   ]
  },
  {
   "cell_type": "code",
   "execution_count": 176,
   "id": "945d9489",
   "metadata": {},
   "outputs": [
    {
     "name": "stdout",
     "output_type": "stream",
     "text": [
      "stat=8872.723,p=0.000\n",
      "Data does not follow a normal distribution: Reject H0\n"
     ]
    }
   ],
   "source": [
    "#Assign the Veteran Suicide Rate to a variable named data\n",
    "\n",
    "data=df_age['General Population Suicides']\n",
    "\n",
    "#Create two variables stat and p then apply the normaltest function\n",
    "\n",
    "stat,p=normaltest(data)\n",
    "\n",
    "#Print results with only 3 decimals\n",
    "\n",
    "print('stat=%.3f,p=%.3f'%(stat,p))\n",
    "\n",
    "#Add a conditional print\n",
    "\n",
    "if p <= 0.05:\n",
    "    print('Data does not follow a normal distribution: Reject H0')\n",
    "else:\n",
    "    print('Cannot conclude the data does not follow a normal distribution: Fail to reject H0')"
   ]
  },
  {
   "cell_type": "code",
   "execution_count": 181,
   "id": "397e42cf",
   "metadata": {},
   "outputs": [
    {
     "data": {
      "image/png": "[encoded data removed]",
      "text/plain": [
       "<Figure size 1000x600 with 1 Axes>"
      ]
     },
     "metadata": {},
     "output_type": "display_data"
    }
   ],
   "source": [
    "#plt.rcParams to set the figure width width of 10 and height of 6\n",
    "#sns.set_style('darkgrid')\n",
    "\n",
    "plt.rcParams['figure.figsize']=[10,6]\n",
    "sns.set_style('darkgrid')\n",
    "\n",
    "#set context,font scale, and font size\n",
    "\n",
    "sns.set_context('notebook',font_scale=1.5,rc={'font.size':16,'axes.titlesize':16,'axes.labelsize':16}) \n",
    "\n",
    "#the fit will going to super impose a normal curve to the histogram\n",
    "# or to the distribution\n",
    "# we set kde to false because by default it uses the kde\n",
    "\n",
    "sns.distplot(df_age['General Population Suicides'],fit=stats.norm,kde=False)\n",
    "\n",
    "# add title and xlabel to the plot\n",
    "\n",
    "plt.title('Histogram distribution of general population suicides')\n",
    "plt.xlabel('General population suicides')\n",
    "\n",
    "#Display plot\n",
    "\n",
    "plt.show()"
   ]
  },
  {
   "cell_type": "markdown",
   "id": "3ab1424b",
   "metadata": {},
   "source": [
    "Again both the normaltest and the distplot confirm that the data is not normally distributed"
   ]
  },
  {
   "cell_type": "markdown",
   "id": "4e792a21",
   "metadata": {},
   "source": [
    "# Chi-Squared Test"
   ]
  },
  {
   "cell_type": "markdown",
   "id": "f0d9821d",
   "metadata": {},
   "source": [
    "* Tests whether two categorical variables are related or independent.\n",
    "* H0: the two samples are independent.\n",
    "* H1: there is a dependency between the samples."
   ]
  },
  {
   "cell_type": "code",
   "execution_count": 184,
   "id": "016c31cd",
   "metadata": {},
   "outputs": [],
   "source": [
    "#Import Chi-squared test from scipy\n",
    "\n",
    "from scipy.stats import chi2_contingency"
   ]
  },
  {
   "cell_type": "code",
   "execution_count": 186,
   "id": "2372a6f2",
   "metadata": {},
   "outputs": [
    {
     "name": "stdout",
     "output_type": "stream",
     "text": [
      "stat=246462.750,p=0.000\n",
      "H1: Probably dependent\n"
     ]
    }
   ],
   "source": [
    "#Assign Veteran Suicides and General Population Suicides to a variable named data\n",
    "\n",
    "data=df_age[['Veteran Suicides','General Population Suicides']]\n",
    "\n",
    "#Create variables stat,p,dof (degrees of freedom),expected (expectedvalues) and apply the Chi-Squared function\n",
    "\n",
    "stat,p,dof,expected=chi2_contingency(data)\n",
    "\n",
    "#Print stat and p with only 3 decimals\n",
    "\n",
    "print('stat=%.3f,p=%.3f'%(stat,p))\n",
    "\n",
    "#Add a conditional print\n",
    "\n",
    "if p > 0.05:\n",
    "    print('H0: Probably independent')\n",
    "else:\n",
    "    print('H1: Probably dependent')"
   ]
  },
  {
   "cell_type": "markdown",
   "id": "cfaac9fa",
   "metadata": {},
   "source": [
    "# One sample z test"
   ]
  },
  {
   "cell_type": "code",
   "execution_count": 188,
   "id": "816fd99a",
   "metadata": {},
   "outputs": [],
   "source": [
    "#Import ztest from statsmodels.stats.weightstats\n",
    "\n",
    "from statsmodels.stats.weightstats import ztest\n",
    "\n",
    "#import scipy.stats\n",
    "\n",
    "import scipy.stats as stats"
   ]
  },
  {
   "cell_type": "code",
   "execution_count": 196,
   "id": "7190a6e2",
   "metadata": {},
   "outputs": [
    {
     "name": "stdout",
     "output_type": "stream",
     "text": [
      "<class 'pandas.core.frame.DataFrame'>\n",
      "RangeIndex: 5880 entries, 0 to 5879\n",
      "Data columns (total 8 columns):\n",
      " #   Column                               Non-Null Count  Dtype   \n",
      "---  ------                               --------------  -----   \n",
      " 0   Year                                 5880 non-null   int64   \n",
      " 1   Geographic Region                    5880 non-null   category\n",
      " 2   State of Death                       5880 non-null   object  \n",
      " 3   Age Group                            5880 non-null   category\n",
      " 4   Veteran Suicides                     5880 non-null   int64   \n",
      " 5   Veteran Suicide Rate Per 100,000     5880 non-null   float64 \n",
      " 6   General Population Suicides          5880 non-null   int64   \n",
      " 7   General Population Rate Per 100,000  5880 non-null   float64 \n",
      "dtypes: category(2), float64(2), int64(3), object(1)\n",
      "memory usage: 287.7+ KB\n"
     ]
    }
   ],
   "source": [
    "df_age.info()"
   ]
  },
  {
   "cell_type": "code",
   "execution_count": 200,
   "id": "bbbf64a1",
   "metadata": {},
   "outputs": [
    {
     "data": {
      "text/html": [
       "<div>\n",
       "<style scoped>\n",
       "    .dataframe tbody tr th:only-of-type {\n",
       "        vertical-align: middle;\n",
       "    }\n",
       "\n",
       "    .dataframe tbody tr th {\n",
       "        vertical-align: top;\n",
       "    }\n",
       "\n",
       "    .dataframe thead th {\n",
       "        text-align: right;\n",
       "    }\n",
       "</style>\n",
       "<table border=\"1\" class=\"dataframe\">\n",
       "  <thead>\n",
       "    <tr style=\"text-align: right;\">\n",
       "      <th></th>\n",
       "      <th>Veteran Suicide Rate</th>\n",
       "      <th>General Population Rate</th>\n",
       "    </tr>\n",
       "  </thead>\n",
       "  <tbody>\n",
       "    <tr>\n",
       "      <th>0</th>\n",
       "      <td>27.9</td>\n",
       "      <td>9.7</td>\n",
       "    </tr>\n",
       "    <tr>\n",
       "      <th>1</th>\n",
       "      <td>21.8</td>\n",
       "      <td>11.0</td>\n",
       "    </tr>\n",
       "    <tr>\n",
       "      <th>2</th>\n",
       "      <td>12.0</td>\n",
       "      <td>9.2</td>\n",
       "    </tr>\n",
       "    <tr>\n",
       "      <th>3</th>\n",
       "      <td>17.2</td>\n",
       "      <td>10.6</td>\n",
       "    </tr>\n",
       "    <tr>\n",
       "      <th>4</th>\n",
       "      <td>17.3</td>\n",
       "      <td>10.2</td>\n",
       "    </tr>\n",
       "  </tbody>\n",
       "</table>\n",
       "</div>"
      ],
      "text/plain": [
       "   Veteran Suicide Rate  General Population Rate\n",
       "0                  27.9                      9.7\n",
       "1                  21.8                     11.0\n",
       "2                  12.0                      9.2\n",
       "3                  17.2                     10.6\n",
       "4                  17.3                     10.2"
      ]
     },
     "execution_count": 200,
     "metadata": {},
     "output_type": "execute_result"
    }
   ],
   "source": [
    "#Create dataframe df_age_rename with renamed columns to Veteran Suicides and General Population Suicides\n",
    "\n",
    "df_age_rename=df_age.rename(columns={'Veteran Suicide Rate Per 100,000':'Veteran Suicide Rate','General Population Rate Per 100,000':'General Population Rate'})\n",
    "\n",
    "#Assign Veteran Suicides and General Population Suicides to a variable named data\n",
    "\n",
    "data=df_age_rename[['Veteran Suicide Rate','General Population Rate']]\n",
    "\n",
    "#Display data with .head() function\n",
    "\n",
    "data.head()"
   ]
  },
  {
   "cell_type": "markdown",
   "id": "4258ed93",
   "metadata": {},
   "source": [
    "Before completing the one z test we need to calculate some descriptive summaries of the data.\n",
    "\n",
    "* We are going to create a data frame one column is the suicide rate type and other one is the suicide rate.\n",
    "* The suicide type will be Veteran Suicide Type and General Population Rate and then the suicide rate.\n",
    "* This will allow to do a groupby.\n",
    "* I will then call the melt function of pandas\n",
    "* I will then create a new dataframe melted_df that will contain the two new columns.\n",
    "* The new variable name will be Suicide_Type. So Suicide_Type will be Veteran Suicides Rate or General Population Rate. The values will be the suicides rate so the argument value_name will have the value \"Suicide_Rate\""
   ]
  },
  {
   "cell_type": "code",
   "execution_count": 202,
   "id": "bcbf3a06",
   "metadata": {},
   "outputs": [
    {
     "name": "stdout",
     "output_type": "stream",
     "text": [
      "           Suicide_type  Suicide_rate\n",
      "0  Veteran Suicide Rate          27.9\n",
      "1  Veteran Suicide Rate          21.8\n",
      "2  Veteran Suicide Rate          12.0\n",
      "3  Veteran Suicide Rate          17.2\n",
      "4  Veteran Suicide Rate          17.3\n",
      "                  Suicide_type  Suicide_rate\n",
      "11755  General Population Rate          18.8\n",
      "11756  General Population Rate          18.2\n",
      "11757  General Population Rate          16.2\n",
      "11758  General Population Rate          20.3\n",
      "11759  General Population Rate          18.0\n"
     ]
    }
   ],
   "source": [
    "#Created melted_df with Pandas melt with var_name='Suicide_type' and value_name='Suicide_rate'\n",
    "\n",
    "melted_df=pd.melt(data,var_name='Suicide_type',value_name='Suicide_rate')\n",
    "\n",
    "#Display melted_df using print with .head()  and .tail()function\n",
    "\n",
    "print(melted_df.head())\n",
    "\n",
    "print(melted_df.tail())"
   ]
  },
  {
   "cell_type": "code",
   "execution_count": 203,
   "id": "ae3aa6c3",
   "metadata": {},
   "outputs": [
    {
     "data": {
      "text/html": [
       "<div>\n",
       "<style scoped>\n",
       "    .dataframe tbody tr th:only-of-type {\n",
       "        vertical-align: middle;\n",
       "    }\n",
       "\n",
       "    .dataframe tbody tr th {\n",
       "        vertical-align: top;\n",
       "    }\n",
       "\n",
       "    .dataframe thead th {\n",
       "        text-align: right;\n",
       "    }\n",
       "</style>\n",
       "<table border=\"1\" class=\"dataframe\">\n",
       "  <thead>\n",
       "    <tr style=\"text-align: right;\">\n",
       "      <th></th>\n",
       "      <th>count</th>\n",
       "      <th>mean</th>\n",
       "      <th>std</th>\n",
       "    </tr>\n",
       "    <tr>\n",
       "      <th>Suicide_type</th>\n",
       "      <th></th>\n",
       "      <th></th>\n",
       "      <th></th>\n",
       "    </tr>\n",
       "  </thead>\n",
       "  <tbody>\n",
       "    <tr>\n",
       "      <th>General Population Rate</th>\n",
       "      <td>5880</td>\n",
       "      <td>17.39</td>\n",
       "      <td>7.17</td>\n",
       "    </tr>\n",
       "    <tr>\n",
       "      <th>Veteran Suicide Rate</th>\n",
       "      <td>5880</td>\n",
       "      <td>24.59</td>\n",
       "      <td>17.84</td>\n",
       "    </tr>\n",
       "  </tbody>\n",
       "</table>\n",
       "</div>"
      ],
      "text/plain": [
       "                         count   mean    std\n",
       "Suicide_type                                \n",
       "General Population Rate   5880  17.39   7.17\n",
       "Veteran Suicide Rate      5880  24.59  17.84"
      ]
     },
     "execution_count": 203,
     "metadata": {},
     "output_type": "execute_result"
    }
   ],
   "source": [
    "#Create new dataframe bygroup with groupy of the melted_df by Suicide_Type and numeric value will be the Suicides\n",
    "\n",
    "bygroup=melted_df.groupby(['Suicide_type'])['Suicide_rate']\n",
    "\n",
    "#Aggregate the dataframe bygroup\n",
    "\n",
    "bygroup.aggregate(['count',np.mean,np.std]).round(2)"
   ]
  },
  {
   "cell_type": "markdown",
   "id": "d53bce7b",
   "metadata": {},
   "source": [
    "### Testing the hypothesis that the mean is 16 against the alternative it is GREATER\n",
    "\n",
    "𝐻0:𝜇<=𝜇0\n",
    "𝐻1:𝜇>𝜇0"
   ]
  },
  {
   "cell_type": "markdown",
   "id": "0beafa02",
   "metadata": {},
   "source": [
    "* Call ztest that takes the following arguments:\n",
    "    * General Population Rate of data\n",
    "    * value=16\n",
    "    * alternative='larger'\n",
    "    * ddof=1.0 (Degrees of freedom use in the calculation of the variance of the mean estimate. In the case of comparing means this is one.)\n",
    "* Returns stat,p"
   ]
  },
  {
   "cell_type": "code",
   "execution_count": 221,
   "id": "56374898",
   "metadata": {},
   "outputs": [
    {
     "name": "stdout",
     "output_type": "stream",
     "text": [
      "The test statistic is:  14.89528\n",
      "The p-value is:  0.0\n",
      "The result is not significant\n"
     ]
    }
   ],
   "source": [
    "#Create variables stat and p and apply the ztest larger test\n",
    "\n",
    "(stat,p)=ztest(data['General Population Rate'],value=16,alternative='larger',ddof=1.0)\n",
    "\n",
    "#Print ztest results round to 5 decimal places\n",
    "\n",
    "print('The test statistic is: ',round(stat,5))\n",
    "print('The p-value is: ',round(p,7))\n",
    "\n",
    "#Add a conditional print\n",
    "\n",
    "if p < 0.05:\n",
    "    print('The result is not significant')\n",
    "else:\n",
    "    print('The result is significant')"
   ]
  },
  {
   "cell_type": "markdown",
   "id": "bab3afa2",
   "metadata": {},
   "source": [
    "Based on the p-value we say it is unlikely there is enough evidence to reject the null hypothesis in favor of the the alternative hypothesis."
   ]
  },
  {
   "cell_type": "markdown",
   "id": "6bd31d52-c7fe-4eaa-a85a-a93413192844",
   "metadata": {},
   "source": [
    "# Conclusion\n",
    "\n",
    "After cleaning, organizing, plotting, and using data visualization we were able to answer the following questions:\n",
    "\n",
    "    1. Which years have the highest and lowest number of veteran suicides?\n",
    "       \n",
    "       2018 has the highest number of veteran suicides with 6718. Followed by 2017, 2014, 2015, and 2008.\n",
    "       2001 has the lowest number of veteran suicides with 6000.  Followed by 2004, 2003, 2006, and 2005.\n",
    "       \n",
    "    2. Which states have the highest and lowest number of veteran suicides in 2021?\n",
    "       \n",
    "       The state with the highest number of veteran suicides in 2021 is Texas with 583.\n",
    "       Followed by Florida, California, Pennsylvania, and Ohio.\n",
    "       The state with the lowest number of veteran suicides in 2021 is District of Columbia with 10.\n",
    "       Followed by Rhode Island, North Dakota, Vermont, and Hawaii.       \n",
    "       We will determine later if population factors into this.\n",
    "       \n",
    "    3. Which region has the highest mean of veteran suicides?\n",
    "       \n",
    "       The region with the highest mean of veteran suicides is the Southern region with a mean of 155.176471.\n",
    "       We will determine later if population factors into this.\n",
    "    \n",
    "    4. Are veteran suicides increasing over the years?\n",
    "    \n",
    "       Though the numbers do vary, including a general increase, there is no evidence that there is a dramatic \n",
    "       change in the suicide rate.\n",
    "\n",
    "    5. Are men or women more at risk for veteran suicide?\n",
    "    \n",
    "       There appears to be evidence that men are at a higher risk than women but without the population providing\n",
    "       numbers of each gender the findings are a bit incomplete.\n",
    "\n",
    "    6. Which age groups have the highest and lowest number of veteran suicides?\n",
    "    \n",
    "       From 2001-2005 the age group 35-54 had the highest number of veteran suicides followed by 55-74, 75+,\n",
    "       and 18-34.  In 2006 35-54 and 55-74 were similar with 75+ and 18-34 unchanged in their order.  Starting \n",
    "       in 2007 we see 55-74 with the highest number of veteran suicides with the remaining age groups still in \n",
    "       their same order.\n",
    "\n",
    "    7. Are the age groups and their suicide rates consistent over the years?\n",
    "    \n",
    "       Though there is slight variance in each of the 4 age groups there is strong (18-34,75+) to moderate\n",
    "       (35-54,55-74) evidence that suicides are fairly consistent and normally distributed.\n",
    "\n",
    "    8. What are the highest Veteran Suicide Rates per 100k of population for the states in 2021?\n",
    "    \n",
    "       The 5 highest states by suicide rate are Wyoming(80.0), Colorado(56.1),Montana(51.2), Nevada (50.7),\n",
    "       and Oregon(49.6).\n",
    "       \n",
    "    9. Did the order of the highest and lowest states change based on the population?\n",
    "    \n",
    "       The highest ranked states changed drastically.  By number they were Texas, Florida, California,\n",
    "       Pennsylvania, and Ohio.  By rate they were Wyoming, Colorado, Montana, Nevada, and Oregon.  The\n",
    "       lowest ranked states also had minor changes but had some consistency as well.  By just numbers they\n",
    "       were District of Columbia, Rhode Island, North Dakota, Vermont, and Hawaii.  By rate they were\n",
    "       District of Columbia (based on the 0 this data was a bit inconclusive), New Jersey, Hawaii, Rhode\n",
    "       Island, and Massachusetts​.\n",
    "\n",
    "    10. What is the mean of Veteran Suicide Rates per 100k of population for each region?\n",
    "    \n",
    "        The mean of the regions are as follows:\n",
    "        Western       33.238095\n",
    "        Southern      29.019048\n",
    "        Midwestern    27.919048\n",
    "        Northeastern  22.285714\n",
    "\n",
    "    11. Did the order of the regions change based on the population?\n",
    "    \n",
    "        Southern was the highest by number and Western by rate but each was no lower than second.  Midwestern\n",
    "        and Northeastern were unchanged.\n",
    "\n",
    "    12. Are the Veteran Suicide Rates per 100k of population for the Regions changing?\n",
    "    \n",
    "        There is moderate evidence it is generally increasing over the years but not at a static rate and can vary.\n",
    "\n",
    "    13. Are veterans more vulnerable to suicide than the general population?\n",
    "    \n",
    "        There is strong evidence that it is likely veterans are at a much higher risk than the general population.\n",
    "     "
   ]
  },
  {
   "cell_type": "markdown",
   "id": "66a1965d",
   "metadata": {},
   "source": [
    "# Hypothesis Testing Conclusion\n",
    "\n",
    "We completed the following hypothesis testing along with their conclusions:\n",
    "\n",
    "* Pearson's Correlation Test\n",
    "    * According to the Pearson's Correlation test with a p-value of 0.000 it is likely there is strong evidence that the correlation is significant between the veteran and general population suicides.\n",
    "    \n",
    "* Correlation Matrix\n",
    "    * With a value of 0.9645344444756127 this shows strong and positive correlation meaning when one variable increases, the other tends to as well for the Veteran and General Population Suicides.\n",
    "    \n",
    "* Normal distribution Test\n",
    "    * Based on the p-value of 0.00 for both the Veteran and General Population Suicides we say data does not follow a normal distribution: Reject H0.  We also visually confirmed this with a Seaborn histogram.\n",
    "    \n",
    "* Chi-Squared Test\n",
    "    * Based on the p-value of 0.000 for the Veteran and General Population Suicides we say they are probably dependent.  Meaning when one variable increases, the other tends to as well.\n",
    "    \n",
    "* One sample z test\n",
    "    * Based on the p-value of 0.0 we say the result is not significant or it is unlikely there is enough evidence to reject the null hypothesis in favor of the alternative hypothesis."
   ]
  },
  {
   "cell_type": "code",
   "execution_count": null,
   "id": "4d070960-9492-4163-b1b7-ef1a05546860",
   "metadata": {},
   "outputs": [],
   "source": []
  }
 ],
 "metadata": {
  "kernelspec": {
   "display_name": "Python 3 (ipykernel)",
   "language": "python",
   "name": "python3"
  },
  "language_info": {
   "codemirror_mode": {
    "name": "ipython",
    "version": 3
   },
   "file_extension": ".py",
   "mimetype": "text/x-python",
   "name": "python",
   "nbconvert_exporter": "python",
   "pygments_lexer": "ipython3",
   "version": "3.11.5"
  }
 },
 "nbformat": 4,
 "nbformat_minor": 5
}
